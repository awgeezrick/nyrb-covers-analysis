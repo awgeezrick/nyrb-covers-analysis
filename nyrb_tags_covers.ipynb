{
 "cells": [
  {
   "cell_type": "markdown",
   "metadata": {},
   "source": [
    "# NYRB Tag Analysis"
   ]
  },
  {
   "cell_type": "code",
   "execution_count": 18,
   "metadata": {},
   "outputs": [],
   "source": [
    "import pandas as pd\n",
    "import urllib.request"
   ]
  },
  {
   "cell_type": "code",
   "execution_count": 14,
   "metadata": {},
   "outputs": [],
   "source": [
    "dat = pd.read_csv(\"books_n_tags.csv\")\n",
    "dat = dat[['title', 'nyrb_tag']]"
   ]
  },
  {
   "cell_type": "code",
   "execution_count": 87,
   "metadata": {},
   "outputs": [],
   "source": [
    "# dat.nyrb_tag.value_counts()"
   ]
  },
  {
   "cell_type": "code",
   "execution_count": 105,
   "metadata": {},
   "outputs": [],
   "source": [
    "# 100+ books\n",
    "british_irish = dat[dat.nyrb_tag == 'British & Irish Literature']\n",
    "american = dat[dat.nyrb_tag == 'American Literature']\n",
    "\n",
    "# 50-100 books\n",
    "french = dat[dat.nyrb_tag == 'French Literature']\n",
    "history = dat[dat.nyrb_tag == 'History']\n",
    "\n",
    "# 30-50 books\n",
    "german = dat[dat.nyrb_tag == 'German Literature']\n",
    "russian = dat[dat.nyrb_tag == 'Russian Literature']\n",
    "war = dat[dat.nyrb_tag == 'War']\n",
    "\n",
    "# 15-30 books\n",
    "suspense_crime = dat[dat.nyrb_tag == 'Suspense & Crime']\n",
    "humor = dat[dat.nyrb_tag == 'Humor']\n",
    "italian = dat[dat.nyrb_tag == 'Italian Literature']\n",
    "poetry = dat[dat.nyrb_tag == 'Poets & Poetry']\n",
    "asian = dat[dat.nyrb_tag == 'Asian Literature']\n",
    "sci_phil = dat[dat.nyrb_tag == 'Science & Philosophy']\n",
    "\n",
    "# less than 15 books\n",
    "scifi = dat[dat.nyrb_tag == 'Science Fiction']\n",
    "hungarian = dat[dat.nyrb_tag == 'Hungarian Literature']\n",
    "horror = dat[dat.nyrb_tag == 'Horror']\n",
    "latin_american = dat[dat.nyrb_tag == 'Latin American Literature']\n",
    "scandinavian = dat[dat.nyrb_tag == 'Scandinavian Literature']\n",
    "spanish = dat[dat.nyrb_tag == 'Spanish Literature']"
   ]
  },
  {
   "cell_type": "code",
   "execution_count": 89,
   "metadata": {},
   "outputs": [],
   "source": [
    "books_imgs = pd.read_csv(\"books_imgs.csv\")\n",
    "books_imgs = books_imgs[['title', 'img']]\n",
    "slugs_imgs = pd.read_csv(\"slugs_imgs.csv\")\n",
    "slugs_imgs = slugs_imgs[['img','slug']]"
   ]
  },
  {
   "cell_type": "code",
   "execution_count": 90,
   "metadata": {},
   "outputs": [],
   "source": [
    "img_info = pd.merge(books_imgs, slugs_imgs, on='img')"
   ]
  },
  {
   "cell_type": "code",
   "execution_count": 107,
   "metadata": {},
   "outputs": [],
   "source": [
    "# 100+ books\n",
    "british_irish = pd.merge(british_irish, img_info, how='inner', on='title')\n",
    "american = pd.merge(american, img_info, how='inner', on='title')\n",
    "\n",
    "# 50-100 books\n",
    "french = pd.merge(french, img_info, how='inner', on='title')\n",
    "history = pd.merge(history, img_info, how='inner', on='title')\n",
    "\n",
    "# 30-50 books\n",
    "german = pd.merge(german, img_info, how='inner', on='title')\n",
    "russian = pd.merge(russian, img_info, how='inner', on='title')\n",
    "war = pd.merge(war, img_info, how='inner', on='title')\n",
    "\n",
    "# 15-30 books\n",
    "suspense_crime = pd.merge(suspense_crime, img_info, how='inner', on='title')\n",
    "humor = pd.merge(humor, img_info, how='inner', on='title')\n",
    "italian = pd.merge(italian, img_info, how='inner', on='title')\n",
    "poetry = pd.merge(poetry, img_info, how='inner', on='title')\n",
    "asian = pd.merge(asian, img_info, how='inner', on='title')\n",
    "sci_phil = pd.merge(sci_phil, img_info, how='inner', on='title')\n",
    "\n",
    "# less than 15 books\n",
    "scifi = pd.merge(scifi, img_info, how='inner', on='title')\n",
    "hungarian = pd.merge(hungarian, img_info, how='inner', on='title')\n",
    "horror = pd.merge(horror, img_info, how='inner', on='title')\n",
    "latin_american = pd.merge(latin_american, img_info, how='inner', on='title')\n",
    "scandinavian = pd.merge(scandinavian, img_info, how='inner', on='title')\n",
    "spanish = pd.merge(spanish, img_info, how='inner', on='title')"
   ]
  },
  {
   "cell_type": "code",
   "execution_count": null,
   "metadata": {},
   "outputs": [],
   "source": [
    "# Download covers into your repo\n",
    "#for i in range(0, len(books_urls)):\n",
    "#    url = \"https://{}\".format(imgs['img'][i])\n",
    "#    filename = \"classics_covers/{}.png\".format(slugs[i])   # change to jpg if url links to jpg\n",
    "    \n",
    "#    urllib.request.urlretrieve(url, filename)"
   ]
  },
  {
   "cell_type": "code",
   "execution_count": 97,
   "metadata": {},
   "outputs": [],
   "source": [
    "def dwnld_cover(dataset, tag):\n",
    "    print(\"Downloading covers for {}\".format(tag))\n",
    "    for i in range(0,len(dataset)):\n",
    "        url = \"https://{}\".format(dataset.img[i])\n",
    "        filename = \"nyrb_tags/{}/{}.jpg\".format(tag, dataset.slug[i])\n",
    "        urllib.request.urlretrieve(url, filename)"
   ]
  },
  {
   "cell_type": "code",
   "execution_count": null,
   "metadata": {},
   "outputs": [],
   "source": [
    "# dwnld_cover(american, 'american')\n",
    "# dwnld_cover(asian, 'asian')\n",
    "# dwnld_cover(british_irish, 'british-irish')\n",
    "# dwnld_cover(french, 'french')\n",
    "# dwnld_cover(german, 'german')\n",
    "# dwnld_cover(history, 'history')\n",
    "# dwnld_cover(horror, 'horror')\n",
    "# dwnld_cover(humor, 'humor')\n",
    "# dwnld_cover(hungarian, 'hungarian')\n",
    "# dwnld_cover(italian, 'italian')\n",
    "# dwnld_cover(latin_american, 'latin-american')\n",
    "# dwnld_cover(poetry, 'poetry')\n",
    "# dwnld_cover(russian, 'russian')\n",
    "# dwnld_cover(scandinavian, 'scandinavian')\n",
    "# dwnld_cover(scifi, 'scifi')\n",
    "# dwnld_cover(sci_phil, 'sci-phil')\n",
    "# dwnld_cover(spanish, 'spanish')\n",
    "# dwnld_cover(suspense_crime, 'suspense-crime')\n",
    "# dwnld_cover(war, 'war')"
   ]
  },
  {
   "cell_type": "code",
   "execution_count": null,
   "metadata": {},
   "outputs": [],
   "source": []
  }
 ],
 "metadata": {
  "kernelspec": {
   "display_name": "Python 3",
   "language": "python",
   "name": "python3"
  },
  "language_info": {
   "codemirror_mode": {
    "name": "ipython",
    "version": 3
   },
   "file_extension": ".py",
   "mimetype": "text/x-python",
   "name": "python",
   "nbconvert_exporter": "python",
   "pygments_lexer": "ipython3",
   "version": "3.6.5"
  }
 },
 "nbformat": 4,
 "nbformat_minor": 2
}
