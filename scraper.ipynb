{
 "cells": [
  {
   "cell_type": "code",
   "execution_count": 2,
   "metadata": {},
   "outputs": [],
   "source": [
    "import requests\n",
    "from bs4 import BeautifulSoup"
   ]
  },
  {
   "cell_type": "code",
   "execution_count": 3,
   "metadata": {},
   "outputs": [],
   "source": [
    "r = requests.get(\"https://www.nyrb.com/collections/classics\")"
   ]
  },
  {
   "cell_type": "code",
   "execution_count": 5,
   "metadata": {},
   "outputs": [],
   "source": [
    "html = r.text"
   ]
  },
  {
   "cell_type": "code",
   "execution_count": 7,
   "metadata": {},
   "outputs": [],
   "source": [
    "soup = BeautifulSoup(html, \"html5lib\")"
   ]
  },
  {
   "cell_type": "code",
   "execution_count": 10,
   "metadata": {},
   "outputs": [],
   "source": [
    "product_list = soup.find_all(\"div\", class_=\"product\")"
   ]
  },
  {
   "cell_type": "code",
   "execution_count": 19,
   "metadata": {},
   "outputs": [],
   "source": [
    "def parse_product(product):\n",
    "    print(product)\n",
    "    img = product.find(\"img\")['src']\n",
    "    return {\n",
    "        \"img\": img,\n",
    "    }"
   ]
  },
  {
   "cell_type": "code",
   "execution_count": 20,
   "metadata": {},
   "outputs": [
    {
     "name": "stdout",
     "output_type": "stream",
     "text": [
      "<div class=\"product span2 adaptive-grid\" data-pubdate=\"2019-02-19\" id=\"product-negrophobia\">\n",
      "\t\n",
      "  \n",
      "\t<script>\n",
      "\t\tvar saleAmount = Math.round(100 - 1495 / 0 * 100);\n",
      "\t\tif (saleAmount <= '20') $('#sale-negrophobia').remove();\n",
      "\t</script>\n",
      "\n",
      "\t<div class=\"productholder\">\n",
      "\t  <div class=\"image\">\n",
      "\t\t<a href=\"/collections/classics/products/negrophobia\">\n",
      "\t\t  <img alt=\"Negrophobia\" class=\"loop-image\" src=\"//cdn.shopify.com/s/files/1/0726/9203/products/james.NEW_large.jpg?v=1532102917\"/>\n",
      "\t\t</a>\n",
      "\t  </div>\n",
      "\n",
      "\t  <div class=\"details ploop\">\n",
      "\t\t<a class=\"clearfix\" href=\"/collections/classics/products/negrophobia\">\n",
      "\t\t  <h4 class=\"title\">Negrophobia</h4>\n",
      "\t\t  \n",
      "\t\t  <span class=\"author\"><!-- sortauthorhandle: james collection: all --><!-- sortauthorhandle: james collection: ongiri --><!-- sortauthorhandle: james collection: james --><!-- sortauthorhandle: james collection: classics --></span>\n",
      "\t\t\t\n",
      "            \n",
      "        </a>\n",
      "\t  </div>\n",
      "\t</div>\n",
      "</div>\n"
     ]
    },
    {
     "data": {
      "text/plain": [
       "{'img': '//cdn.shopify.com/s/files/1/0726/9203/products/james.NEW_large.jpg?v=1532102917'}"
      ]
     },
     "execution_count": 20,
     "metadata": {},
     "output_type": "execute_result"
    }
   ],
   "source": [
    "parse_product(product_list[0])"
   ]
  },
  {
   "cell_type": "code",
   "execution_count": 17,
   "metadata": {},
   "outputs": [],
   "source": [
    "parsed_list = [parse_product(i) for i in product_list]"
   ]
  },
  {
   "cell_type": "code",
   "execution_count": 18,
   "metadata": {},
   "outputs": [
    {
     "data": {
      "text/plain": [
       "[{'img': '//cdn.shopify.com/s/files/1/0726/9203/products/james.NEW_large.jpg?v=1532102917'},\n",
       " {'img': '//cdn.shopify.com/s/files/1/0726/9203/products/serge.1-1_3585e12f-64ea-4bf0-9595-c4ad7e579cbf_large.jpg?v=1528140914'},\n",
       " {'img': '//cdn.shopify.com/s/files/1/0726/9203/products/multatuli.1_large.jpeg?v=1520874261'},\n",
       " {'img': '//cdn.shopify.com/s/files/1/0726/9203/products/tergit.1_large.jpg?v=1520018643'},\n",
       " {'img': '//cdn.shopify.com/s/files/1/0726/9203/products/viertel.final_large.jpg?v=1522100572'},\n",
       " {'img': '//cdn.shopify.com/s/files/1/0726/9203/products/ozerov.2_large.jpg?v=1521046478'},\n",
       " {'img': '//cdn.shopify.com/s/files/1/0726/9203/products/czapski.inhuman.land_NEW_large.jpg?v=1530219903'},\n",
       " {'img': '//cdn.shopify.com/s/files/1/0726/9203/products/11_-_Lost_Time_large.jpeg?v=1519321987'},\n",
       " {'img': '//cdn.shopify.com/s/files/1/0726/9203/products/Charles_Bovary_Country_Doctor_large.jpg?v=1531857991'},\n",
       " {'img': '//cdn.shopify.com/s/files/1/0726/9203/products/origo_war_large.jpg?v=1521581351'},\n",
       " {'img': '//cdn.shopify.com/s/files/1/0726/9203/products/origo_chill_border_2048x2048_072e6a18-3e2c-4ed9-ae50-58fd2d185b7a_large.jpg?v=1528906488'},\n",
       " {'img': '//cdn.shopify.com/s/files/1/0726/9203/products/18_-_Once_and_Forever_large.jpg?v=1518631687'},\n",
       " {'img': '//cdn.shopify.com/s/files/1/0726/9203/products/andric.3_large.jpg?v=1528298992'},\n",
       " {'img': '//cdn.shopify.com/s/files/1/0726/9203/products/bunch.hi-res2_large.jpeg?v=1525816560'},\n",
       " {'img': '//cdn.shopify.com/s/files/1/0726/9203/products/Journey_into_the_Minds_Eye_f10d8b31-d599-4c61-9e8b-b96af4c74740_large.jpg?v=1527708714'},\n",
       " {'img': '//cdn.shopify.com/s/files/1/0726/9203/products/cirlot.1_large.jpg?v=1517956274'},\n",
       " {'img': '//cdn.shopify.com/s/files/1/0726/9203/products/Sand_cover_large.jpg?v=1522357628'},\n",
       " {'img': '//cdn.shopify.com/s/files/1/0726/9203/products/Havoc_Cover_large.jpg?v=1522358098'},\n",
       " {'img': '//cdn.shopify.com/s/files/1/0726/9203/products/seghers.with-hi-res.2_large.jpeg?v=1511294903'},\n",
       " {'img': '//cdn.shopify.com/s/files/1/0726/9203/products/9_-_Compulsory_Games_large.jpg?v=1505252855'},\n",
       " {'img': '//cdn.shopify.com/s/files/1/0726/9203/products/Basic_Black_with_Pearls_large.jpg?v=1521040425'},\n",
       " {'img': '//cdn.shopify.com/s/files/1/0726/9203/products/The_Life_and_Opinions_of_Zacharias_Lichter_large.jpg?v=1518125514'},\n",
       " {'img': '//cdn.shopify.com/s/files/1/0726/9203/products/bedford.jigsaw_final_hi-res_large.jpg?v=1504731306'},\n",
       " {'img': '//cdn.shopify.com/s/files/1/0726/9203/products/Ivory_Pearl_cvr_large.jpg?v=1520369774'},\n",
       " {'img': '//cdn.shopify.com/s/files/1/0726/9203/products/7_-_Kolyma_Stories_large.jpg?v=1504042742'},\n",
       " {'img': '//cdn.shopify.com/s/files/1/0726/9203/products/malaparte.1_large.jpg?v=1508165488'},\n",
       " {'img': '//cdn.shopify.com/s/files/1/0726/9203/products/All_for_Nothing_large.jpg?v=1517853929'},\n",
       " {'img': '//cdn.shopify.com/s/files/1/0726/9203/products/Anniversaries_box_image_large.jpg?v=1531429121'},\n",
       " {'img': '//cdn.shopify.com/s/files/1/0726/9203/products/doblin_cvr_new_COLORS_large.jpg?v=1509035965'},\n",
       " {'img': '//cdn.shopify.com/s/files/1/0726/9203/products/The_Memoirs_of_Two_Young_Wives_large.jpg?v=1510693626'},\n",
       " {'img': '//cdn.shopify.com/s/files/1/0726/9203/products/comyns.1_large.jpg?v=1492185843'},\n",
       " {'img': '//cdn.shopify.com/s/files/1/0726/9203/products/Balcony_in_the_Forest_large.jpg?v=1508172851'},\n",
       " {'img': '//cdn.shopify.com/s/files/1/0726/9203/products/Memoirs_from_Beyond_the_Grave_9ca5c8c6-ada0-47f3-8a00-3a7931abff50_large.jpg?v=1516650940'},\n",
       " {'img': '//cdn.shopify.com/s/files/1/0726/9203/products/green.Nothing.4.7_large.jpeg?v=1492117683'},\n",
       " {'img': '//cdn.shopify.com/s/files/1/0726/9203/products/Earthly_Signs_final_cover_large.jpg?v=1505750974'},\n",
       " {'img': '//cdn.shopify.com/s/files/1/0726/9203/products/green.Doting.4.7_large.jpeg?v=1492116081'},\n",
       " {'img': '//cdn.shopify.com/s/files/1/0726/9203/products/Uncertain_Glory_large.jpg?v=1503441224'},\n",
       " {'img': '//cdn.shopify.com/s/files/1/0726/9203/products/chang.little_reunions_BLUE_large.jpg?v=1492114973'},\n",
       " {'img': '//cdn.shopify.com/s/files/1/0726/9203/products/The_Collected_Essays_of_Elizabeth_Hardwick_large.jpg?v=1503440472'},\n",
       " {'img': '//cdn.shopify.com/s/files/1/0726/9203/products/Difficult_Women_large.jpg?v=1508440456'},\n",
       " {'img': '//cdn.shopify.com/s/files/1/0726/9203/products/Other_Mens_Daughters_large.jpg?v=1498166745'},\n",
       " {'img': '//cdn.shopify.com/s/files/1/0726/9203/products/giono.new_large.jpg?v=1490112943'},\n",
       " {'img': '//cdn.shopify.com/s/files/1/0726/9203/products/hughes.final_hi-res_large.jpeg?v=1494452250'},\n",
       " {'img': '//cdn.shopify.com/s/files/1/0726/9203/products/Katalin_Street_large.jpg?v=1500396161'},\n",
       " {'img': '//cdn.shopify.com/s/files/1/0726/9203/products/guilloux.hi-res_large.jpg?v=1497988297'},\n",
       " {'img': '//cdn.shopify.com/s/files/1/0726/9203/products/The_Communist_large.jpg?v=1500672257'},\n",
       " {'img': '//cdn.shopify.com/s/files/1/0726/9203/products/The_Violins_of_Saint-Jacques_large.jpg?v=1493924426'},\n",
       " {'img': '//cdn.shopify.com/s/files/1/0726/9203/products/Hansen_Arabia_Felix_NEW_large.jpg?v=1479767641'},\n",
       " {'img': '//cdn.shopify.com/s/files/1/0726/9203/products/qiu.Crocodile.hires2_large.jpg?v=1483481868'},\n",
       " {'img': '//cdn.shopify.com/s/files/1/0726/9203/products/12-Three_Libretti-for_web_large.jpg?v=1528394263'},\n",
       " {'img': '//cdn.shopify.com/s/files/1/0726/9203/products/farm.green.mountains_large.jpg?v=1479855684'},\n",
       " {'img': '//cdn.shopify.com/s/files/1/0726/9203/products/podhoretz.hires.NEW_large.jpg?v=1481840324'},\n",
       " {'img': '//cdn.shopify.com/s/files/1/0726/9203/products/Late_Fame_large.jpg?v=1501710841'},\n",
       " {'img': '//cdn.shopify.com/s/files/1/0726/9203/products/6-Ernesto-for_web_large.jpg?v=1528394265'},\n",
       " {'img': '//cdn.shopify.com/s/files/1/0726/9203/products/carrington.newtitle_large.jpg?v=1528394265'},\n",
       " {'img': '//cdn.shopify.com/s/files/1/0726/9203/products/A_Favourite_of_the_Gods_large.jpg?v=1496682892'},\n",
       " {'img': '//cdn.shopify.com/s/files/1/0726/9203/products/Green_Party_Going_cover_large.jpg?v=1479312956'},\n",
       " {'img': '//cdn.shopify.com/s/files/1/0726/9203/products/Living_large.jpg?v=1485817094'},\n",
       " {'img': '//cdn.shopify.com/s/files/1/0726/9203/products/green.tuttle.blindness_large.jpeg?v=1478274686'}]"
      ]
     },
     "execution_count": 18,
     "metadata": {},
     "output_type": "execute_result"
    }
   ],
   "source": [
    "parsed_list"
   ]
  },
  {
   "cell_type": "code",
   "execution_count": null,
   "metadata": {},
   "outputs": [],
   "source": []
  }
 ],
 "metadata": {
  "kernelspec": {
   "display_name": "Python 3",
   "language": "python",
   "name": "python3"
  },
  "language_info": {
   "codemirror_mode": {
    "name": "ipython",
    "version": 3
   },
   "file_extension": ".py",
   "mimetype": "text/x-python",
   "name": "python",
   "nbconvert_exporter": "python",
   "pygments_lexer": "ipython3",
   "version": "3.6.4"
  }
 },
 "nbformat": 4,
 "nbformat_minor": 2
}
