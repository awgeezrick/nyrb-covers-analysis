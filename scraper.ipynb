{
 "cells": [
  {
   "cell_type": "markdown",
   "metadata": {},
   "source": [
    "# NYRB Classics Color Analysis"
   ]
  },
  {
   "cell_type": "markdown",
   "metadata": {},
   "source": [
    "### Collect All NYRB Classics into a Dataset"
   ]
  },
  {
   "cell_type": "code",
   "execution_count": 337,
   "metadata": {},
   "outputs": [],
   "source": [
    "import re\n",
    "import requests\n",
    "import pandas as pd\n",
    "from bs4 import BeautifulSoup\n",
    "from datetime import datetime"
   ]
  },
  {
   "cell_type": "code",
   "execution_count": 232,
   "metadata": {},
   "outputs": [],
   "source": [
    "# Create list of relevant URLs\n",
    "base_url = 'https://www.nyrb.com/collections/classics'\n",
    "url_list = [\"{}?page={}\".format(base_url, str(page)) for page in range(1,10)]"
   ]
  },
  {
   "cell_type": "code",
   "execution_count": 234,
   "metadata": {},
   "outputs": [
    {
     "name": "stdout",
     "output_type": "stream",
     "text": [
      "Processing https://www.nyrb.com/collections/classics?page=1\n"
     ]
    },
    {
     "name": "stderr",
     "output_type": "stream",
     "text": [
      "/usr/lib/python3/dist-packages/bs4/__init__.py:181: UserWarning: No parser was explicitly specified, so I'm using the best available HTML parser for this system (\"lxml\"). This usually isn't a problem, but if you run this code on another system, or in a different virtual environment, it may use a different parser and behave differently.\n",
      "\n",
      "The code that caused this warning is on line 193 of the file /usr/lib/python3.6/runpy.py. To get rid of this warning, change code that looks like this:\n",
      "\n",
      " BeautifulSoup(YOUR_MARKUP})\n",
      "\n",
      "to this:\n",
      "\n",
      " BeautifulSoup(YOUR_MARKUP, \"lxml\")\n",
      "\n",
      "  markup_type=markup_type))\n"
     ]
    },
    {
     "name": "stdout",
     "output_type": "stream",
     "text": [
      "Processing https://www.nyrb.com/collections/classics?page=2\n",
      "Processing https://www.nyrb.com/collections/classics?page=3\n",
      "Processing https://www.nyrb.com/collections/classics?page=4\n",
      "Processing https://www.nyrb.com/collections/classics?page=5\n",
      "Processing https://www.nyrb.com/collections/classics?page=6\n",
      "Processing https://www.nyrb.com/collections/classics?page=7\n",
      "Processing https://www.nyrb.com/collections/classics?page=8\n",
      "Processing https://www.nyrb.com/collections/classics?page=9\n"
     ]
    }
   ],
   "source": [
    "# Retrieve information and parse through BeautifulSoup\n",
    "stack = []\n",
    "for url_ in url_list:\n",
    "    print(\"Processing {}\".format(url_))\n",
    "    r_new = requests.get(url_)\n",
    "    soup_new = BeautifulSoup(r_new.text, \"html5lib\")\n",
    "    for div in soup_new.find_all(\"div\", class_=\"product\"):\n",
    "        stack.append(div)"
   ]
  },
  {
   "cell_type": "code",
   "execution_count": 236,
   "metadata": {},
   "outputs": [],
   "source": [
    "# Parse bs4 ResultSet for information of interest - returns dictionary of values\n",
    "def parse_product(product):\n",
    "    \n",
    "    # print(product)\n",
    "    title = product.find(\"h4\").text\n",
    "    img = product.find(\"img\")['src'][2:]\n",
    "    detail = product.find(\"a\")['href']\n",
    "    nyrb_pub_date = pd.to_datetime(product['data-pubdate'])  # use this to filter published Classics from forthcoming Classics \n",
    "    \n",
    "    return {\n",
    "        \"title\": title,\n",
    "        \"img\": img, \n",
    "        \"detail\": detail,\n",
    "        \"nyrb_pub_date\": nyrb_pub_date\n",
    "    }"
   ]
  },
  {
   "cell_type": "code",
   "execution_count": 248,
   "metadata": {},
   "outputs": [],
   "source": [
    "# Parse information and add it to a pandas dataframe\n",
    "all_books = pd.DataFrame()\n",
    "for i in range(0, len(stack)):\n",
    "    prod = parse_product(stack[i])\n",
    "    prod = pd.DataFrame(prod, index=[0])\n",
    "    all_books = all_books.append(prod)"
   ]
  },
  {
   "cell_type": "code",
   "execution_count": 262,
   "metadata": {},
   "outputs": [],
   "source": [
    "# Filter to exclude forthcoming publications\n",
    "books = all_books[all_books['nyrb_pub_date'] <= datetime.today()]\n",
    "books = books.reset_index()\n",
    "books = books.drop(columns = ['index'])"
   ]
  },
  {
   "cell_type": "code",
   "execution_count": null,
   "metadata": {},
   "outputs": [],
   "source": [
    "# Include Out of Print books\n",
    "oop = {\n",
    "    \"title\" = ['Letty Fox: Her Luck',\n",
    "               'To the Finland Station',\n",
    "               'The Diary of a Rapist',\n",
    "               'The Man Who Watched Trains Go By',\n",
    "               'The Sorrow Beyond Dreams',\n",
    "               'Selected Stories of Robert Walser',\n",
    "               'The Towers of Trebizond'],\n",
    "    \"img\" = ['https://images.gr-assets.com/books/1320400476l/132508.jpg',\n",
    "             'https://images.gr-assets.com/books/1320440378l/694282.jpg',\n",
    "             'https://i2.wp.com/i4.photobucket.com/albums/y126/paradorlounge/159017094601LZZZZZZZ.jpg', \n",
    "             'https://images-na.ssl-images-amazon.com/images/I/41LLjzL%2B%2BML._SX311_BO1,204,203,200_.jpg',\n",
    "             'https://images-na.ssl-images-amazon.com/images/I/41B238tikhL._SX294_BO1,204,203,200_.jpg',\n",
    "             'https://images.gr-assets.com/books/1320472249l/160313.jpg',\n",
    "             'https://images.gr-assets.com/books/1386748970l/192954.jpg'],\n",
    "    \"detail\" = ['NA', 'NA', 'NA', 'NA', 'NA', 'NA', 'NA'],\n",
    "    \"nyrb_pub_date\" = ['NA', 'NA', 'NA', 'NA', 'NA', 'NA', 'NA']\n",
    "}"
   ]
  },
  {
   "cell_type": "code",
   "execution_count": 263,
   "metadata": {},
   "outputs": [
    {
     "data": {
      "text/html": [
       "<div>\n",
       "<style scoped>\n",
       "    .dataframe tbody tr th:only-of-type {\n",
       "        vertical-align: middle;\n",
       "    }\n",
       "\n",
       "    .dataframe tbody tr th {\n",
       "        vertical-align: top;\n",
       "    }\n",
       "\n",
       "    .dataframe thead th {\n",
       "        text-align: right;\n",
       "    }\n",
       "</style>\n",
       "<table border=\"1\" class=\"dataframe\">\n",
       "  <thead>\n",
       "    <tr style=\"text-align: right;\">\n",
       "      <th></th>\n",
       "      <th>title</th>\n",
       "      <th>img</th>\n",
       "      <th>detail</th>\n",
       "      <th>nyrb_pub_date</th>\n",
       "    </tr>\n",
       "  </thead>\n",
       "  <tbody>\n",
       "    <tr>\n",
       "      <th>0</th>\n",
       "      <td>Journey into the Mind's Eye</td>\n",
       "      <td>cdn.shopify.com/s/files/1/0726/9203/products/J...</td>\n",
       "      <td>/collections/classics/products/journey-into-th...</td>\n",
       "      <td>2018-07-10</td>\n",
       "    </tr>\n",
       "    <tr>\n",
       "      <th>1</th>\n",
       "      <td>Sand</td>\n",
       "      <td>cdn.shopify.com/s/files/1/0726/9203/products/S...</td>\n",
       "      <td>/collections/classics/products/sand</td>\n",
       "      <td>2018-06-12</td>\n",
       "    </tr>\n",
       "    <tr>\n",
       "      <th>2</th>\n",
       "      <td>Havoc</td>\n",
       "      <td>cdn.shopify.com/s/files/1/0726/9203/products/H...</td>\n",
       "      <td>/collections/classics/products/havoc</td>\n",
       "      <td>2018-06-12</td>\n",
       "    </tr>\n",
       "    <tr>\n",
       "      <th>3</th>\n",
       "      <td>The Seventh Cross</td>\n",
       "      <td>cdn.shopify.com/s/files/1/0726/9203/products/s...</td>\n",
       "      <td>/collections/classics/products/the-seventh-cross</td>\n",
       "      <td>2018-05-22</td>\n",
       "    </tr>\n",
       "    <tr>\n",
       "      <th>4</th>\n",
       "      <td>Compulsory Games</td>\n",
       "      <td>cdn.shopify.com/s/files/1/0726/9203/products/9...</td>\n",
       "      <td>/collections/classics/products/compulsory-games</td>\n",
       "      <td>2018-05-08</td>\n",
       "    </tr>\n",
       "    <tr>\n",
       "      <th>5</th>\n",
       "      <td>Basic Black with Pearls</td>\n",
       "      <td>cdn.shopify.com/s/files/1/0726/9203/products/B...</td>\n",
       "      <td>/collections/classics/products/basic-black-wit...</td>\n",
       "      <td>2018-04-17</td>\n",
       "    </tr>\n",
       "  </tbody>\n",
       "</table>\n",
       "</div>"
      ],
      "text/plain": [
       "                         title  \\\n",
       "0  Journey into the Mind's Eye   \n",
       "1                         Sand   \n",
       "2                        Havoc   \n",
       "3            The Seventh Cross   \n",
       "4             Compulsory Games   \n",
       "5      Basic Black with Pearls   \n",
       "\n",
       "                                                 img  \\\n",
       "0  cdn.shopify.com/s/files/1/0726/9203/products/J...   \n",
       "1  cdn.shopify.com/s/files/1/0726/9203/products/S...   \n",
       "2  cdn.shopify.com/s/files/1/0726/9203/products/H...   \n",
       "3  cdn.shopify.com/s/files/1/0726/9203/products/s...   \n",
       "4  cdn.shopify.com/s/files/1/0726/9203/products/9...   \n",
       "5  cdn.shopify.com/s/files/1/0726/9203/products/B...   \n",
       "\n",
       "                                              detail nyrb_pub_date  \n",
       "0  /collections/classics/products/journey-into-th...    2018-07-10  \n",
       "1                /collections/classics/products/sand    2018-06-12  \n",
       "2               /collections/classics/products/havoc    2018-06-12  \n",
       "3   /collections/classics/products/the-seventh-cross    2018-05-22  \n",
       "4    /collections/classics/products/compulsory-games    2018-05-08  \n",
       "5  /collections/classics/products/basic-black-wit...    2018-04-17  "
      ]
     },
     "execution_count": 263,
     "metadata": {},
     "output_type": "execute_result"
    }
   ],
   "source": [
    "# Peep the dataset\n",
    "books[0:6]"
   ]
  },
  {
   "cell_type": "markdown",
   "metadata": {},
   "source": [
    "#### Quick Info about NYRB Classics Dataset"
   ]
  },
  {
   "cell_type": "code",
   "execution_count": 265,
   "metadata": {},
   "outputs": [
    {
     "name": "stdout",
     "output_type": "stream",
     "text": [
      "Num of books: 486\n",
      "Publication dates range from 1999-09-30 00:00:00 to 2018-07-10 00:00:00\n"
     ]
    }
   ],
   "source": [
    "print(\"Number of books: {}\".format(len(books)))\n",
    "print(\"Publication dates range from {} to {}\".format(min(books['nyrb_pub_date']), max(books['nyrb_pub_date'])))"
   ]
  },
  {
   "cell_type": "markdown",
   "metadata": {},
   "source": [
    "### Scrape information from individual book pages"
   ]
  },
  {
   "cell_type": "code",
   "execution_count": 437,
   "metadata": {},
   "outputs": [],
   "source": [
    "# Create list of relevant URLs from earlier collection\n",
    "base_url = 'https://www.nyrb.com'\n",
    "book_urls = [books['detail'][i] for i in range(0, len(books))]\n",
    "url_list = [\"{}{}\".format(base_url, url) for url in book_urls]"
   ]
  },
  {
   "cell_type": "code",
   "execution_count": 438,
   "metadata": {},
   "outputs": [],
   "source": [
    "# Retrieve information and parse through BeautifulSoup\n",
    "stack = []\n",
    "for url_ in url_list:\n",
    "    # print(\"Processing {}\".format(url_))\n",
    "    r_new = requests.get(url_)\n",
    "    soup_new = BeautifulSoup(r_new.text, \"html5lib\")\n",
    "    stack.append(soup_new)"
   ]
  },
  {
   "cell_type": "code",
   "execution_count": 473,
   "metadata": {},
   "outputs": [],
   "source": [
    "# Further parse BeautifulSoup for information of interest - returns dictionary of values\n",
    "def parse_details(book):\n",
    "    \n",
    "    # \"book\" is a BeautifulSoup object - right after calling BeautifulSoup()\n",
    "    title = book.find_all(\"div\", class_='span8')[0].find(\"h1\").text\n",
    "    people = book.find_all(\"div\", class_='span8')[0].find(\"h2\", class_=\"combined-authors\").text.strip()\n",
    "    isbn = book.find_all(\"div\", class_='description additional')[0].find(class_='variant-sku').text\n",
    "    more = book.find_all(\"div\", class_='description additional')[0].find(\"p\").text\n",
    "    tags_mess = book.find_all(\"div\",class_=\"span8\")[0].find(\"div\", class_=\"tags clearfix\").find_all(\"a\")\n",
    "    \n",
    "    # parse authors and language string\n",
    "    author = re.split(\",\", people)[0][3:]\n",
    "    try:\n",
    "        phrase = re.search('translated from the [a-zA-z]{1,10}', people).group(0)\n",
    "        language = re.split(\"\\s+\", phrase)[-1]\n",
    "    except AttributeError:\n",
    "        try:\n",
    "            language = re.search('translated', people).group(0)\n",
    "        except AttributeError:\n",
    "            language = ''\n",
    " \n",
    "    # parse additional information string\n",
    "    pages = re.split(\"\\s+\", re.split(\"\\s+\\s+\", more)[2])[1]\n",
    "    \n",
    "    # parse tags\n",
    "    l = []\n",
    "    for i in range(0, len(tags_mess)):\n",
    "        l.append(tags_mess[i].text)\n",
    "        \n",
    "    tags = \",\".join(l)\n",
    "    \n",
    "    return {\n",
    "        \"title\": title,\n",
    "        \"author\": author,\n",
    "        \"isbn\": isbn,\n",
    "        \"pages\": pages,\n",
    "        \"original_language\": language,\n",
    "        \"tags\": tags\n",
    "    }"
   ]
  },
  {
   "cell_type": "code",
   "execution_count": 485,
   "metadata": {},
   "outputs": [
    {
     "data": {
      "text/plain": [
       "{'author': 'Wolfgang Herrndorf',\n",
       " 'isbn': '9781681372013',\n",
       " 'original_language': 'German',\n",
       " 'pages': '464',\n",
       " 'tags': 'Available as E-Book,German Literature,Historical Fiction,Literary Fiction,Suspense & Crime',\n",
       " 'title': 'Sand'}"
      ]
     },
     "execution_count": 485,
     "metadata": {},
     "output_type": "execute_result"
    }
   ],
   "source": [
    "# Example\n",
    "parse_details(stack[1])"
   ]
  },
  {
   "cell_type": "code",
   "execution_count": 474,
   "metadata": {},
   "outputs": [],
   "source": [
    "# Parse information and add it to a pandas dataframe\n",
    "all_details = pd.DataFrame()\n",
    "for i in range(0, len(stack)):\n",
    "    details = parse_details(stack[i])\n",
    "    details = pd.DataFrame(details, index=[0])\n",
    "    all_details = all_details.append(details)"
   ]
  },
  {
   "cell_type": "code",
   "execution_count": 486,
   "metadata": {},
   "outputs": [
    {
     "data": {
      "text/html": [
       "<div>\n",
       "<style scoped>\n",
       "    .dataframe tbody tr th:only-of-type {\n",
       "        vertical-align: middle;\n",
       "    }\n",
       "\n",
       "    .dataframe tbody tr th {\n",
       "        vertical-align: top;\n",
       "    }\n",
       "\n",
       "    .dataframe thead th {\n",
       "        text-align: right;\n",
       "    }\n",
       "</style>\n",
       "<table border=\"1\" class=\"dataframe\">\n",
       "  <thead>\n",
       "    <tr style=\"text-align: right;\">\n",
       "      <th></th>\n",
       "      <th>title</th>\n",
       "      <th>author</th>\n",
       "      <th>isbn</th>\n",
       "      <th>pages</th>\n",
       "      <th>original_language</th>\n",
       "      <th>tags</th>\n",
       "    </tr>\n",
       "  </thead>\n",
       "  <tbody>\n",
       "    <tr>\n",
       "      <th>0</th>\n",
       "      <td>Journey into the Mind's EyeFragments of an Aut...</td>\n",
       "      <td>Lesley Blanch</td>\n",
       "      <td>9781681371931</td>\n",
       "      <td>400</td>\n",
       "      <td></td>\n",
       "      <td>Available as E-Book,Biography &amp; Memoir,Literat...</td>\n",
       "    </tr>\n",
       "    <tr>\n",
       "      <th>0</th>\n",
       "      <td>Sand</td>\n",
       "      <td>Wolfgang Herrndorf</td>\n",
       "      <td>9781681372013</td>\n",
       "      <td>464</td>\n",
       "      <td>German</td>\n",
       "      <td>Available as E-Book,German Literature,Historic...</td>\n",
       "    </tr>\n",
       "    <tr>\n",
       "      <th>0</th>\n",
       "      <td>Havoc</td>\n",
       "      <td>Tom Kristensen</td>\n",
       "      <td>9781681372075</td>\n",
       "      <td>528</td>\n",
       "      <td>Danish</td>\n",
       "      <td>Available as E-Book,International Literature,L...</td>\n",
       "    </tr>\n",
       "    <tr>\n",
       "      <th>0</th>\n",
       "      <td>The Seventh Cross</td>\n",
       "      <td>Anna Seghers</td>\n",
       "      <td>9781681372129</td>\n",
       "      <td>416</td>\n",
       "      <td>German</td>\n",
       "      <td>Available as E-Book,German Literature,Historic...</td>\n",
       "    </tr>\n",
       "    <tr>\n",
       "      <th>0</th>\n",
       "      <td>Compulsory Games</td>\n",
       "      <td>Robert Aickman</td>\n",
       "      <td>9781681371894</td>\n",
       "      <td>368</td>\n",
       "      <td></td>\n",
       "      <td>Available as E-Book,British &amp; Irish Literature...</td>\n",
       "    </tr>\n",
       "    <tr>\n",
       "      <th>0</th>\n",
       "      <td>Basic Black with Pearls</td>\n",
       "      <td>Helen Weinzweig</td>\n",
       "      <td>9781681372167</td>\n",
       "      <td>160</td>\n",
       "      <td></td>\n",
       "      <td>Available as E-Book,Literary Fiction,Literatur...</td>\n",
       "    </tr>\n",
       "  </tbody>\n",
       "</table>\n",
       "</div>"
      ],
      "text/plain": [
       "                                               title              author  \\\n",
       "0  Journey into the Mind's EyeFragments of an Aut...       Lesley Blanch   \n",
       "0                                               Sand  Wolfgang Herrndorf   \n",
       "0                                              Havoc      Tom Kristensen   \n",
       "0                                  The Seventh Cross        Anna Seghers   \n",
       "0                                   Compulsory Games      Robert Aickman   \n",
       "0                            Basic Black with Pearls     Helen Weinzweig   \n",
       "\n",
       "            isbn pages original_language  \\\n",
       "0  9781681371931   400                     \n",
       "0  9781681372013   464            German   \n",
       "0  9781681372075   528            Danish   \n",
       "0  9781681372129   416            German   \n",
       "0  9781681371894   368                     \n",
       "0  9781681372167   160                     \n",
       "\n",
       "                                                tags  \n",
       "0  Available as E-Book,Biography & Memoir,Literat...  \n",
       "0  Available as E-Book,German Literature,Historic...  \n",
       "0  Available as E-Book,International Literature,L...  \n",
       "0  Available as E-Book,German Literature,Historic...  \n",
       "0  Available as E-Book,British & Irish Literature...  \n",
       "0  Available as E-Book,Literary Fiction,Literatur...  "
      ]
     },
     "execution_count": 486,
     "metadata": {},
     "output_type": "execute_result"
    }
   ],
   "source": [
    "# Peep the dataset\n",
    "all_details[0:6]"
   ]
  },
  {
   "cell_type": "code",
   "execution_count": 484,
   "metadata": {},
   "outputs": [
    {
     "data": {
      "text/plain": [
       "<h1 class=\"title\" itemprop=\"name\">Journey into the Mind's Eye<span class=\"subtitle\">Fragments of an Autobiography</span></h1>"
      ]
     },
     "execution_count": 484,
     "metadata": {},
     "output_type": "execute_result"
    }
   ],
   "source": [
    "stack[0].find_all(\"div\", class_='span8')[0].find(\"h1\", class_='title')"
   ]
  },
  {
   "cell_type": "code",
   "execution_count": 476,
   "metadata": {},
   "outputs": [
    {
     "data": {
      "text/plain": [
       "              292\n",
       "French         50\n",
       "German         31\n",
       "Russian        24\n",
       "Italian        21\n",
       "translated     19\n",
       "Spanish         9\n",
       "Hungarian       7\n",
       "Chinese         4\n",
       "Swedish         4\n",
       "Danish          3\n",
       "Polish          3\n",
       "Serbo           3\n",
       "Japanese        3\n",
       "Czech           2\n",
       "Greek           2\n",
       "Dutch           2\n",
       "Arabic          2\n",
       "Romanian        1\n",
       "Turkish         1\n",
       "Occitan         1\n",
       "Catalan         1\n",
       "Hindi           1\n",
       "Name: original_language, dtype: int64"
      ]
     },
     "execution_count": 476,
     "metadata": {},
     "output_type": "execute_result"
    }
   ],
   "source": [
    "all_details['original_language'].value_counts()"
   ]
  },
  {
   "cell_type": "code",
   "execution_count": null,
   "metadata": {},
   "outputs": [],
   "source": [
    "# fix languages, including those not listed (like Maupassant)\n",
    "# fix title - no subtitles\n",
    "# fix tags - one tag per column?"
   ]
  }
 ],
 "metadata": {
  "kernelspec": {
   "display_name": "Python 3",
   "language": "python",
   "name": "python3"
  },
  "language_info": {
   "codemirror_mode": {
    "name": "ipython",
    "version": 3
   },
   "file_extension": ".py",
   "mimetype": "text/x-python",
   "name": "python",
   "nbconvert_exporter": "python",
   "pygments_lexer": "ipython3",
   "version": "3.6.5"
  }
 },
 "nbformat": 4,
 "nbformat_minor": 2
}
