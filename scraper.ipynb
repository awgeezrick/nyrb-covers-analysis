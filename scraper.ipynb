{
 "cells": [
  {
   "cell_type": "markdown",
   "metadata": {},
   "source": [
    "# NYRB Classics Color Analysis"
   ]
  },
  {
   "cell_type": "markdown",
   "metadata": {},
   "source": [
    "### Collect All NYRB Classics into a Dataset"
   ]
  },
  {
   "cell_type": "code",
   "execution_count": 7,
   "metadata": {},
   "outputs": [],
   "source": [
    "import re\n",
    "import requests\n",
    "import pandas as pd\n",
    "import urllib.request\n",
    "from bs4 import BeautifulSoup\n",
    "from datetime import datetime"
   ]
  },
  {
   "cell_type": "code",
   "execution_count": 8,
   "metadata": {},
   "outputs": [],
   "source": [
    "# Create list of relevant URLs\n",
    "base_url = 'https://www.nyrb.com/collections/classics'\n",
    "url_list = [\"{}?page={}\".format(base_url, str(page)) for page in range(1,10)]"
   ]
  },
  {
   "cell_type": "code",
   "execution_count": 9,
   "metadata": {},
   "outputs": [
    {
     "name": "stdout",
     "output_type": "stream",
     "text": [
      "Processing https://www.nyrb.com/collections/classics?page=1\n",
      "Processing https://www.nyrb.com/collections/classics?page=2\n",
      "Processing https://www.nyrb.com/collections/classics?page=3\n",
      "Processing https://www.nyrb.com/collections/classics?page=4\n",
      "Processing https://www.nyrb.com/collections/classics?page=5\n",
      "Processing https://www.nyrb.com/collections/classics?page=6\n",
      "Processing https://www.nyrb.com/collections/classics?page=7\n",
      "Processing https://www.nyrb.com/collections/classics?page=8\n",
      "Processing https://www.nyrb.com/collections/classics?page=9\n"
     ]
    }
   ],
   "source": [
    "# Retrieve information and parse through BeautifulSoup\n",
    "stack = []\n",
    "for url_ in url_list:\n",
    "    print(\"Processing {}\".format(url_))\n",
    "    r_new = requests.get(url_)\n",
    "    soup_new = BeautifulSoup(r_new.text, \"html5lib\")\n",
    "    for div in soup_new.find_all(\"div\", class_=\"product\"):\n",
    "        stack.append(div)"
   ]
  },
  {
   "cell_type": "code",
   "execution_count": 10,
   "metadata": {},
   "outputs": [],
   "source": [
    "# Parse bs4 ResultSet for information of interest - returns dictionary of values\n",
    "def parse_product(product):\n",
    "    \n",
    "    # print(product)\n",
    "    title = product.find(\"h4\").text\n",
    "    img = product.find(\"img\")['src'][2:]\n",
    "    detail = product.find(\"a\")['href']\n",
    "    nyrb_pub_date = pd.to_datetime(product['data-pubdate'])  # use this to filter published Classics from forthcoming Classics \n",
    "    \n",
    "    return {\n",
    "        \"title\": title,\n",
    "        \"img\": img, \n",
    "        \"detail\": detail,\n",
    "        \"nyrb_pub_date\": nyrb_pub_date\n",
    "    }"
   ]
  },
  {
   "cell_type": "code",
   "execution_count": 11,
   "metadata": {},
   "outputs": [],
   "source": [
    "# Parse information and add it to a pandas dataframe\n",
    "all_books = pd.DataFrame()\n",
    "for i in range(0, len(stack)):\n",
    "    prod = parse_product(stack[i])\n",
    "    prod = pd.DataFrame(prod, index=[0])\n",
    "    all_books = all_books.append(prod)"
   ]
  },
  {
   "cell_type": "code",
   "execution_count": 16,
   "metadata": {},
   "outputs": [
    {
     "data": {
      "text/plain": [
       "<div class=\"product span2 adaptive-grid\" data-pubdate=\"2019-02-19\" id=\"product-negrophobia\">\n",
       "\t\n",
       "  \n",
       "\t<script>\n",
       "\t\tvar saleAmount = Math.round(100 - 1495 / 0 * 100);\n",
       "\t\tif (saleAmount <= '10') $('#sale-negrophobia').remove();\n",
       "\t</script>\n",
       "\n",
       "\t<div class=\"productholder\">\n",
       "\t  <div class=\"image\">\n",
       "\t\t<a href=\"/collections/classics/products/negrophobia\">\n",
       "\t\t  <img alt=\"Negrophobia\" class=\"loop-image\" src=\"//cdn.shopify.com/s/files/1/0726/9203/products/james.NEW_large.jpg?v=1532102917\"/>\n",
       "\t\t</a>\n",
       "\t  </div>\n",
       "\n",
       "\t  <div class=\"details ploop\">\n",
       "\t\t<a class=\"clearfix\" href=\"/collections/classics/products/negrophobia\">\n",
       "\t\t  <h4 class=\"title\">Negrophobia</h4>\n",
       "\t\t  \n",
       "\t\t  <span class=\"author\"><!-- sortauthorhandle: james collection: all --><!-- sortauthorhandle: james collection: ongiri --><!-- sortauthorhandle: james collection: james --><!-- sortauthorhandle: james collection: forthcoming --><!-- sortauthorhandle: james collection: classics --></span>\n",
       "\t\t\t\n",
       "            \n",
       "        </a>\n",
       "\t  </div>\n",
       "\t</div>\n",
       "</div>"
      ]
     },
     "execution_count": 16,
     "metadata": {},
     "output_type": "execute_result"
    }
   ],
   "source": [
    "stack[0]"
   ]
  },
  {
   "cell_type": "code",
   "execution_count": 14,
   "metadata": {},
   "outputs": [],
   "source": [
    "# Filter to exclude forthcoming publications\n",
    "books = all_books[all_books['nyrb_pub_date'] <= datetime.today()]\n",
    "books = books.reset_index()"
   ]
  },
  {
   "cell_type": "code",
   "execution_count": null,
   "metadata": {},
   "outputs": [],
   "source": [
    "# Include Out of Print books\n",
    "oop = {\n",
    "    \"title\" = ['Letty Fox: Her Luck',\n",
    "               'To the Finland Station',\n",
    "               'The Diary of a Rapist',\n",
    "               'The Man Who Watched Trains Go By',\n",
    "               'The Sorrow Beyond Dreams',\n",
    "               'Selected Stories of Robert Walser',\n",
    "               'The Towers of Trebizond'],\n",
    "    \"img\" = ['https://images.gr-assets.com/books/1320400476l/132508.jpg',\n",
    "             'https://images.gr-assets.com/books/1320440378l/694282.jpg',\n",
    "             'https://i2.wp.com/i4.photobucket.com/albums/y126/paradorlounge/159017094601LZZZZZZZ.jpg', \n",
    "             'https://images-na.ssl-images-amazon.com/images/I/41LLjzL%2B%2BML._SX311_BO1,204,203,200_.jpg',\n",
    "             'https://images-na.ssl-images-amazon.com/images/I/41B238tikhL._SX294_BO1,204,203,200_.jpg',\n",
    "             'https://images.gr-assets.com/books/1320472249l/160313.jpg',\n",
    "             'https://images.gr-assets.com/books/1386748970l/192954.jpg'],\n",
    "    \"detail\" = ['NA', 'NA', 'NA', 'NA', 'NA', 'NA', 'NA'],\n",
    "    \"nyrb_pub_date\" = ['NA', 'NA', 'NA', 'NA', 'NA', 'NA', 'NA']\n",
    "}"
   ]
  },
  {
   "cell_type": "code",
   "execution_count": 49,
   "metadata": {},
   "outputs": [
    {
     "data": {
      "text/html": [
       "<div>\n",
       "<style>\n",
       "    .dataframe thead tr:only-child th {\n",
       "        text-align: right;\n",
       "    }\n",
       "\n",
       "    .dataframe thead th {\n",
       "        text-align: left;\n",
       "    }\n",
       "\n",
       "    .dataframe tbody tr th {\n",
       "        vertical-align: top;\n",
       "    }\n",
       "</style>\n",
       "<table border=\"1\" class=\"dataframe\">\n",
       "  <thead>\n",
       "    <tr style=\"text-align: right;\">\n",
       "      <th></th>\n",
       "      <th>index</th>\n",
       "      <th>detail</th>\n",
       "      <th>img</th>\n",
       "      <th>nyrb_pub_date</th>\n",
       "      <th>title</th>\n",
       "    </tr>\n",
       "  </thead>\n",
       "  <tbody>\n",
       "    <tr>\n",
       "      <th>0</th>\n",
       "      <td>0</td>\n",
       "      <td>/collections/classics/products/journey-into-th...</td>\n",
       "      <td>cdn.shopify.com/s/files/1/0726/9203/products/J...</td>\n",
       "      <td>2018-07-10</td>\n",
       "      <td>Journey into the Mind's Eye</td>\n",
       "    </tr>\n",
       "    <tr>\n",
       "      <th>1</th>\n",
       "      <td>0</td>\n",
       "      <td>/collections/classics/products/sand</td>\n",
       "      <td>cdn.shopify.com/s/files/1/0726/9203/products/S...</td>\n",
       "      <td>2018-06-12</td>\n",
       "      <td>Sand</td>\n",
       "    </tr>\n",
       "    <tr>\n",
       "      <th>2</th>\n",
       "      <td>0</td>\n",
       "      <td>/collections/classics/products/havoc</td>\n",
       "      <td>cdn.shopify.com/s/files/1/0726/9203/products/H...</td>\n",
       "      <td>2018-06-12</td>\n",
       "      <td>Havoc</td>\n",
       "    </tr>\n",
       "    <tr>\n",
       "      <th>3</th>\n",
       "      <td>0</td>\n",
       "      <td>/collections/classics/products/the-seventh-cross</td>\n",
       "      <td>cdn.shopify.com/s/files/1/0726/9203/products/s...</td>\n",
       "      <td>2018-05-22</td>\n",
       "      <td>The Seventh Cross</td>\n",
       "    </tr>\n",
       "    <tr>\n",
       "      <th>4</th>\n",
       "      <td>0</td>\n",
       "      <td>/collections/classics/products/compulsory-games</td>\n",
       "      <td>cdn.shopify.com/s/files/1/0726/9203/products/9...</td>\n",
       "      <td>2018-05-08</td>\n",
       "      <td>Compulsory Games</td>\n",
       "    </tr>\n",
       "    <tr>\n",
       "      <th>5</th>\n",
       "      <td>0</td>\n",
       "      <td>/collections/classics/products/basic-black-wit...</td>\n",
       "      <td>cdn.shopify.com/s/files/1/0726/9203/products/B...</td>\n",
       "      <td>2018-04-17</td>\n",
       "      <td>Basic Black with Pearls</td>\n",
       "    </tr>\n",
       "  </tbody>\n",
       "</table>\n",
       "</div>"
      ],
      "text/plain": [
       "   index                                             detail  \\\n",
       "0      0  /collections/classics/products/journey-into-th...   \n",
       "1      0                /collections/classics/products/sand   \n",
       "2      0               /collections/classics/products/havoc   \n",
       "3      0   /collections/classics/products/the-seventh-cross   \n",
       "4      0    /collections/classics/products/compulsory-games   \n",
       "5      0  /collections/classics/products/basic-black-wit...   \n",
       "\n",
       "                                                 img nyrb_pub_date  \\\n",
       "0  cdn.shopify.com/s/files/1/0726/9203/products/J...    2018-07-10   \n",
       "1  cdn.shopify.com/s/files/1/0726/9203/products/S...    2018-06-12   \n",
       "2  cdn.shopify.com/s/files/1/0726/9203/products/H...    2018-06-12   \n",
       "3  cdn.shopify.com/s/files/1/0726/9203/products/s...    2018-05-22   \n",
       "4  cdn.shopify.com/s/files/1/0726/9203/products/9...    2018-05-08   \n",
       "5  cdn.shopify.com/s/files/1/0726/9203/products/B...    2018-04-17   \n",
       "\n",
       "                         title  \n",
       "0  Journey into the Mind's Eye  \n",
       "1                         Sand  \n",
       "2                        Havoc  \n",
       "3            The Seventh Cross  \n",
       "4             Compulsory Games  \n",
       "5      Basic Black with Pearls  "
      ]
     },
     "execution_count": 49,
     "metadata": {},
     "output_type": "execute_result"
    }
   ],
   "source": [
    "# Peep the dataset\n",
    "books[0:6]"
   ]
  },
  {
   "cell_type": "markdown",
   "metadata": {},
   "source": [
    "#### Quick Info about NYRB Classics Dataset"
   ]
  },
  {
   "cell_type": "code",
   "execution_count": 265,
   "metadata": {},
   "outputs": [
    {
     "name": "stdout",
     "output_type": "stream",
     "text": [
      "Num of books: 486\n",
      "Publication dates range from 1999-09-30 00:00:00 to 2018-07-10 00:00:00\n"
     ]
    }
   ],
   "source": [
    "print(\"Number of books: {}\".format(len(books)))\n",
    "print(\"Publication dates range from {} to {}\".format(min(books['nyrb_pub_date']), max(books['nyrb_pub_date'])))"
   ]
  },
  {
   "cell_type": "markdown",
   "metadata": {},
   "source": [
    "### Scrape information from individual book pages"
   ]
  },
  {
   "cell_type": "code",
   "execution_count": 24,
   "metadata": {},
   "outputs": [],
   "source": [
    "# Create list of relevant URLs from earlier collection\n",
    "base_url = 'https://www.nyrb.com'\n",
    "book_urls = [books['detail'][i] for i in range(0, len(books))]\n",
    "url_list = [\"{}{}\".format(base_url, url) for url in book_urls]"
   ]
  },
  {
   "cell_type": "code",
   "execution_count": 27,
   "metadata": {},
   "outputs": [],
   "source": [
    "# Retrieve information and parse through BeautifulSoup\n",
    "stack = []\n",
    "for url_ in url_list:\n",
    "    # print(\"Processing {}\".format(url_))\n",
    "    r_new = requests.get(url_)\n",
    "    soup_new = BeautifulSoup(r_new.text, \"html5lib\")\n",
    "    stack.append(soup_new)"
   ]
  },
  {
   "cell_type": "code",
   "execution_count": 28,
   "metadata": {},
   "outputs": [],
   "source": [
    "# Further parse BeautifulSoup for information of interest - returns dictionary of values\n",
    "def parse_details(book):\n",
    "    \n",
    "    # \"book\" is a BeautifulSoup object - right after calling BeautifulSoup()\n",
    "    title = book.find_all(\"div\", class_='span8')[0].find(\"h1\").text\n",
    "    people = book.find_all(\"div\", class_='span8')[0].find(\"h2\", class_=\"combined-authors\").text.strip()\n",
    "    isbn = book.find_all(\"div\", class_='description additional')[0].find(class_='variant-sku').text\n",
    "    more = book.find_all(\"div\", class_='description additional')[0].find(\"p\").text\n",
    "    tags_mess = book.find_all(\"div\",class_=\"span8\")[0].find(\"div\", class_=\"tags clearfix\").find_all(\"a\")\n",
    "    \n",
    "    # parse authors and language string\n",
    "    author = re.split(\",\", people)[0][3:]\n",
    "    try:\n",
    "        phrase = re.search('translated from the [a-zA-z]{1,10}', people).group(0)\n",
    "        language = re.split(\"\\s+\", phrase)[-1]\n",
    "    except AttributeError:\n",
    "        try:\n",
    "            language = re.search('translated', people).group(0)\n",
    "        except AttributeError:\n",
    "            language = 'English'\n",
    " \n",
    "    # parse additional information string\n",
    "    pages = re.split(\"\\s+\", re.split(\"\\s+\\s+\", more)[2])[1]\n",
    "    \n",
    "    # parse tags\n",
    "    l = []\n",
    "    for i in range(0, len(tags_mess)):\n",
    "        l.append(tags_mess[i].text)\n",
    "        \n",
    "    tags = \",\".join(l)\n",
    "    \n",
    "    return {\n",
    "        \"title\": title,\n",
    "        \"author\": author,\n",
    "        \"isbn\": isbn,\n",
    "        \"pages\": pages,\n",
    "        \"original_language\": language,\n",
    "        \"tags\": tags\n",
    "    }"
   ]
  },
  {
   "cell_type": "code",
   "execution_count": 615,
   "metadata": {},
   "outputs": [
    {
     "data": {
      "text/plain": [
       "{'author': 'Wolfgang Herrndorf',\n",
       " 'isbn': '9781681372013',\n",
       " 'original_language': 'German',\n",
       " 'pages': '464',\n",
       " 'tags': 'Available as E-Book,German Literature,Historical Fiction,Literary Fiction,Suspense & Crime',\n",
       " 'title': 'Sand'}"
      ]
     },
     "execution_count": 615,
     "metadata": {},
     "output_type": "execute_result"
    }
   ],
   "source": [
    "# Example\n",
    "parse_details(stack[1])"
   ]
  },
  {
   "cell_type": "code",
   "execution_count": 29,
   "metadata": {},
   "outputs": [],
   "source": [
    "# Parse information and add it to a pandas dataframe\n",
    "all_details = pd.DataFrame()\n",
    "for i in range(0, len(stack)):\n",
    "    details = parse_details(stack[i])\n",
    "    details = pd.DataFrame(details, index=[0])\n",
    "    all_details = all_details.append(details)"
   ]
  },
  {
   "cell_type": "code",
   "execution_count": 30,
   "metadata": {},
   "outputs": [
    {
     "data": {
      "text/html": [
       "<div>\n",
       "<style>\n",
       "    .dataframe thead tr:only-child th {\n",
       "        text-align: right;\n",
       "    }\n",
       "\n",
       "    .dataframe thead th {\n",
       "        text-align: left;\n",
       "    }\n",
       "\n",
       "    .dataframe tbody tr th {\n",
       "        vertical-align: top;\n",
       "    }\n",
       "</style>\n",
       "<table border=\"1\" class=\"dataframe\">\n",
       "  <thead>\n",
       "    <tr style=\"text-align: right;\">\n",
       "      <th></th>\n",
       "      <th>index</th>\n",
       "      <th>author</th>\n",
       "      <th>isbn</th>\n",
       "      <th>original_language</th>\n",
       "      <th>pages</th>\n",
       "      <th>tags</th>\n",
       "      <th>title</th>\n",
       "    </tr>\n",
       "  </thead>\n",
       "  <tbody>\n",
       "    <tr>\n",
       "      <th>0</th>\n",
       "      <td>0</td>\n",
       "      <td>Lesley Blanch</td>\n",
       "      <td>9781681371931</td>\n",
       "      <td>English</td>\n",
       "      <td>400</td>\n",
       "      <td>Available as E-Book,Biography &amp; Memoir,Literat...</td>\n",
       "      <td>Journey into the Mind's EyeFragments of an Aut...</td>\n",
       "    </tr>\n",
       "    <tr>\n",
       "      <th>1</th>\n",
       "      <td>0</td>\n",
       "      <td>Wolfgang Herrndorf</td>\n",
       "      <td>9781681372013</td>\n",
       "      <td>German</td>\n",
       "      <td>464</td>\n",
       "      <td>Available as E-Book,German Literature,Historic...</td>\n",
       "      <td>Sand</td>\n",
       "    </tr>\n",
       "    <tr>\n",
       "      <th>2</th>\n",
       "      <td>0</td>\n",
       "      <td>Tom Kristensen</td>\n",
       "      <td>9781681372075</td>\n",
       "      <td>Danish</td>\n",
       "      <td>528</td>\n",
       "      <td>Available as E-Book,International Literature,L...</td>\n",
       "      <td>Havoc</td>\n",
       "    </tr>\n",
       "    <tr>\n",
       "      <th>3</th>\n",
       "      <td>0</td>\n",
       "      <td>Anna Seghers</td>\n",
       "      <td>9781681372129</td>\n",
       "      <td>German</td>\n",
       "      <td>416</td>\n",
       "      <td>Available as E-Book,German Literature,Historic...</td>\n",
       "      <td>The Seventh Cross</td>\n",
       "    </tr>\n",
       "    <tr>\n",
       "      <th>4</th>\n",
       "      <td>0</td>\n",
       "      <td>Robert Aickman</td>\n",
       "      <td>9781681371894</td>\n",
       "      <td>English</td>\n",
       "      <td>368</td>\n",
       "      <td>Available as E-Book,British &amp; Irish Literature...</td>\n",
       "      <td>Compulsory Games</td>\n",
       "    </tr>\n",
       "    <tr>\n",
       "      <th>5</th>\n",
       "      <td>0</td>\n",
       "      <td>Helen Weinzweig</td>\n",
       "      <td>9781681372167</td>\n",
       "      <td>English</td>\n",
       "      <td>160</td>\n",
       "      <td>Available as E-Book,Literary Fiction,Literatur...</td>\n",
       "      <td>Basic Black with Pearls</td>\n",
       "    </tr>\n",
       "  </tbody>\n",
       "</table>\n",
       "</div>"
      ],
      "text/plain": [
       "   index              author           isbn original_language pages  \\\n",
       "0      0       Lesley Blanch  9781681371931           English   400   \n",
       "1      0  Wolfgang Herrndorf  9781681372013            German   464   \n",
       "2      0      Tom Kristensen  9781681372075            Danish   528   \n",
       "3      0        Anna Seghers  9781681372129            German   416   \n",
       "4      0      Robert Aickman  9781681371894           English   368   \n",
       "5      0     Helen Weinzweig  9781681372167           English   160   \n",
       "\n",
       "                                                tags  \\\n",
       "0  Available as E-Book,Biography & Memoir,Literat...   \n",
       "1  Available as E-Book,German Literature,Historic...   \n",
       "2  Available as E-Book,International Literature,L...   \n",
       "3  Available as E-Book,German Literature,Historic...   \n",
       "4  Available as E-Book,British & Irish Literature...   \n",
       "5  Available as E-Book,Literary Fiction,Literatur...   \n",
       "\n",
       "                                               title  \n",
       "0  Journey into the Mind's EyeFragments of an Aut...  \n",
       "1                                               Sand  \n",
       "2                                              Havoc  \n",
       "3                                  The Seventh Cross  \n",
       "4                                   Compulsory Games  \n",
       "5                            Basic Black with Pearls  "
      ]
     },
     "execution_count": 30,
     "metadata": {},
     "output_type": "execute_result"
    }
   ],
   "source": [
    "# Peep the dataset\n",
    "all_details = all_details.reset_index()\n",
    "all_details[0:6]"
   ]
  },
  {
   "cell_type": "code",
   "execution_count": 57,
   "metadata": {},
   "outputs": [],
   "source": [
    "# For downloading images later\n",
    "books_urls = pd.concat([all_details, pd.DataFrame(book_urls)], axis=1)\n",
    "books_urls.rename(columns={list(books_urls)[-1]:'detail'}, inplace=True)\n",
    "imgs = pd.merge(books_urls, books, on='detail', how='inner')\n",
    "slugs = [re.split(\"/\", imgs['detail'][i])[-1] for i in range(0, len(imgs))]"
   ]
  },
  {
   "cell_type": "code",
   "execution_count": null,
   "metadata": {},
   "outputs": [],
   "source": [
    "# need to fix titles\n",
    "stack[0].find_all(\"div\", class_='span8')[0].find(\"h1\", class_='title')"
   ]
  },
  {
   "cell_type": "code",
   "execution_count": 701,
   "metadata": {},
   "outputs": [],
   "source": [
    "# Parse NYRB tags into list with corresponding titles\n",
    "titles = []\n",
    "nyrb_tags = []\n",
    "for tag_list in range(0, len(tags_list)):\n",
    "    for tag in range(0, len(tags_list[tag_list])):\n",
    "        nyrb_tags.append([tags_list[tag_list][tag]])\n",
    "        titles.append(all_details['title'][tag_list])"
   ]
  },
  {
   "cell_type": "code",
   "execution_count": 717,
   "metadata": {},
   "outputs": [
    {
     "data": {
      "text/html": [
       "<div>\n",
       "<style scoped>\n",
       "    .dataframe tbody tr th:only-of-type {\n",
       "        vertical-align: middle;\n",
       "    }\n",
       "\n",
       "    .dataframe tbody tr th {\n",
       "        vertical-align: top;\n",
       "    }\n",
       "\n",
       "    .dataframe thead th {\n",
       "        text-align: right;\n",
       "    }\n",
       "</style>\n",
       "<table border=\"1\" class=\"dataframe\">\n",
       "  <thead>\n",
       "    <tr style=\"text-align: right;\">\n",
       "      <th></th>\n",
       "      <th>title</th>\n",
       "      <th>nyrb_tag</th>\n",
       "    </tr>\n",
       "  </thead>\n",
       "  <tbody>\n",
       "    <tr>\n",
       "      <th>0</th>\n",
       "      <td>Journey into the Mind's EyeFragments of an Aut...</td>\n",
       "      <td>Available as E-Book</td>\n",
       "    </tr>\n",
       "    <tr>\n",
       "      <th>1</th>\n",
       "      <td>Journey into the Mind's EyeFragments of an Aut...</td>\n",
       "      <td>Biography &amp; Memoir</td>\n",
       "    </tr>\n",
       "    <tr>\n",
       "      <th>2</th>\n",
       "      <td>Journey into the Mind's EyeFragments of an Aut...</td>\n",
       "      <td>Literature in English</td>\n",
       "    </tr>\n",
       "    <tr>\n",
       "      <th>3</th>\n",
       "      <td>Sand</td>\n",
       "      <td>Available as E-Book</td>\n",
       "    </tr>\n",
       "    <tr>\n",
       "      <th>4</th>\n",
       "      <td>Sand</td>\n",
       "      <td>German Literature</td>\n",
       "    </tr>\n",
       "    <tr>\n",
       "      <th>5</th>\n",
       "      <td>Sand</td>\n",
       "      <td>Historical Fiction</td>\n",
       "    </tr>\n",
       "  </tbody>\n",
       "</table>\n",
       "</div>"
      ],
      "text/plain": [
       "                                               title               nyrb_tag\n",
       "0  Journey into the Mind's EyeFragments of an Aut...    Available as E-Book\n",
       "1  Journey into the Mind's EyeFragments of an Aut...     Biography & Memoir\n",
       "2  Journey into the Mind's EyeFragments of an Aut...  Literature in English\n",
       "3                                               Sand    Available as E-Book\n",
       "4                                               Sand      German Literature\n",
       "5                                               Sand     Historical Fiction"
      ]
     },
     "execution_count": 717,
     "metadata": {},
     "output_type": "execute_result"
    }
   ],
   "source": [
    "# Store books and tags information in dataframe\n",
    "books_n_tags = pd.concat([pd.DataFrame(titles), pd.DataFrame(nyrb_tags)], axis=1)\n",
    "books_n_tags.columns = ['title', 'nyrb_tag']\n",
    "books_n_tags[0:6]"
   ]
  },
  {
   "cell_type": "code",
   "execution_count": 718,
   "metadata": {},
   "outputs": [
    {
     "data": {
      "text/plain": [
       "Available as E-Book           322\n",
       "International Literature      226\n",
       "Literature in English         203\n",
       "Literary Fiction              190\n",
       "British & Irish Literature    116\n",
       "American Literature           100\n",
       "Name: 0, dtype: int64"
      ]
     },
     "execution_count": 718,
     "metadata": {},
     "output_type": "execute_result"
    }
   ],
   "source": [
    "pd.DataFrame(all_tags)[0].value_counts()[0:6]"
   ]
  },
  {
   "cell_type": "markdown",
   "metadata": {},
   "source": [
    "#### Quick Statistics about NYRB Classics - Details Dataset"
   ]
  },
  {
   "cell_type": "code",
   "execution_count": 530,
   "metadata": {},
   "outputs": [
    {
     "name": "stdout",
     "output_type": "stream",
     "text": [
      "There are 194 books in this dataset that were translated into English\n"
     ]
    }
   ],
   "source": [
    "print(\"There are {} books in this dataset that were translated into English\".format(str(len(all_details[all_details['original_language'] != 'English']))))"
   ]
  },
  {
   "cell_type": "code",
   "execution_count": 529,
   "metadata": {},
   "outputs": [
    {
     "data": {
      "text/plain": [
       "English    292\n",
       "French      50\n",
       "German      31\n",
       "Name: original_language, dtype: int64"
      ]
     },
     "execution_count": 529,
     "metadata": {},
     "output_type": "execute_result"
    }
   ],
   "source": [
    "all_details['original_language'].value_counts() # need to fix unknown languages"
   ]
  },
  {
   "cell_type": "code",
   "execution_count": null,
   "metadata": {},
   "outputs": [],
   "source": [
    "# fix languages, including those not listed (like Maupassant)\n",
    "# fix title - no subtitles\n",
    "# fix tags - one tag per column?\n",
    "# include author gender, country "
   ]
  },
  {
   "cell_type": "markdown",
   "metadata": {},
   "source": [
    "#### Find more information from [Publishers Weekly Translation Database](https://www.publishersweekly.com/pw/translation/search/index.html)"
   ]
  },
  {
   "cell_type": "code",
   "execution_count": 4,
   "metadata": {},
   "outputs": [],
   "source": [
    "# Find page for NYRB specifically\n",
    "url = 'https://www.publishersweekly.com/pw/translation/search/index.html?country=&language=&translator_gender=&submit=Search&author=&genre=&author_gender=&submitting=1&translator=&isbn=&title=&publisher=226'\n",
    "r = requests.get(url)"
   ]
  },
  {
   "cell_type": "code",
   "execution_count": 5,
   "metadata": {},
   "outputs": [],
   "source": [
    "# Parse page for book titles and authors\n",
    "soup = BeautifulSoup(r.text, \"html5lib\")\n",
    "list = soup.find(\"table\", class_=\"table table-striped\").find_all(\"tr\")"
   ]
  },
  {
   "cell_type": "code",
   "execution_count": 6,
   "metadata": {},
   "outputs": [],
   "source": [
    "# Collect list of relevant PW urls from the website itself\n",
    "pw_urls = [list[i].find(\"a\")['href'] for i in range(0, len(list))]"
   ]
  },
  {
   "cell_type": "code",
   "execution_count": 7,
   "metadata": {},
   "outputs": [],
   "source": [
    "# Create URL list\n",
    "base_url = 'https://www.publishersweekly.com'\n",
    "url_list = [\"{}{}\".format(base_url, url) for url in pw_urls]"
   ]
  },
  {
   "cell_type": "code",
   "execution_count": 564,
   "metadata": {},
   "outputs": [],
   "source": [
    "# Make get request and parse with BeautifulSoup for all URLs\n",
    "stack = []\n",
    "for url_ in url_list:\n",
    "    # print(\"Processing {}\".format(url_))\n",
    "    r_new = requests.get(url_)\n",
    "    soup_new = BeautifulSoup(r_new.text, \"html5lib\")\n",
    "    stack.append(soup_new)"
   ]
  },
  {
   "cell_type": "code",
   "execution_count": 565,
   "metadata": {},
   "outputs": [],
   "source": [
    "# Further parse BeautifulSoup for information of interest - returns dictionary of values\n",
    "def pw_parser(book):\n",
    "    \n",
    "    # retrieve table with information\n",
    "    info = [book.find(\"table\").find_all(\"tr\")[i].text for i in range(1,len(book.find(\"table\").find_all(\"tr\")))]\n",
    "    author = re.split(\":\", info[0])[1]\n",
    "    isbn = re.split(\":\", info[3])[1]\n",
    "    pw_genre = re.split(\":\", info[5])[1]\n",
    "    country = re.split(\":\", info[7])[1]\n",
    "    gender = re.split(\":\", info[8])[1]\n",
    "    \n",
    "    return {\n",
    "        \"author\": author,\n",
    "        \"isbn\": isbn,\n",
    "        \"pw_genre\": pw_genre,\n",
    "        \"country\": country,\n",
    "        \"gender\": gender\n",
    "    }"
   ]
  },
  {
   "cell_type": "code",
   "execution_count": 566,
   "metadata": {},
   "outputs": [
    {
     "data": {
      "text/plain": [
       "{'author': 'Alfred Doblin',\n",
       " 'country': 'Germany',\n",
       " 'gender': 'Male',\n",
       " 'isbn': '9781590179734',\n",
       " 'pw_genre': 'Fiction'}"
      ]
     },
     "execution_count": 566,
     "metadata": {},
     "output_type": "execute_result"
    }
   ],
   "source": [
    "# Example\n",
    "pw_parser(stack[10])"
   ]
  },
  {
   "cell_type": "code",
   "execution_count": 568,
   "metadata": {},
   "outputs": [],
   "source": [
    "# Parse information and add it to a pandas dataframe\n",
    "pw_details = pd.DataFrame()\n",
    "for i in range(0, len(stack)):\n",
    "    details = pw_parser(stack[i])\n",
    "    details = pd.DataFrame(details, index=[0])\n",
    "    pw_details = pw_details.append(details)"
   ]
  },
  {
   "cell_type": "code",
   "execution_count": 591,
   "metadata": {},
   "outputs": [
    {
     "data": {
      "text/html": [
       "<div>\n",
       "<style scoped>\n",
       "    .dataframe tbody tr th:only-of-type {\n",
       "        vertical-align: middle;\n",
       "    }\n",
       "\n",
       "    .dataframe tbody tr th {\n",
       "        vertical-align: top;\n",
       "    }\n",
       "\n",
       "    .dataframe thead th {\n",
       "        text-align: right;\n",
       "    }\n",
       "</style>\n",
       "<table border=\"1\" class=\"dataframe\">\n",
       "  <thead>\n",
       "    <tr style=\"text-align: right;\">\n",
       "      <th></th>\n",
       "      <th>author</th>\n",
       "      <th>isbn</th>\n",
       "      <th>pw_genre</th>\n",
       "      <th>country</th>\n",
       "      <th>gender</th>\n",
       "    </tr>\n",
       "  </thead>\n",
       "  <tbody>\n",
       "    <tr>\n",
       "      <th>0</th>\n",
       "      <td>Szilard Borbely</td>\n",
       "      <td>9781681370545</td>\n",
       "      <td>Poetry</td>\n",
       "      <td>Hungary</td>\n",
       "      <td>Male</td>\n",
       "    </tr>\n",
       "    <tr>\n",
       "      <th>0</th>\n",
       "      <td>Emmanuel Bove</td>\n",
       "      <td>9781590178324</td>\n",
       "      <td>Fiction</td>\n",
       "      <td>France</td>\n",
       "      <td>Male</td>\n",
       "    </tr>\n",
       "    <tr>\n",
       "      <th>0</th>\n",
       "      <td>Matei Calinescu</td>\n",
       "      <td>9781681371955</td>\n",
       "      <td>Fiction</td>\n",
       "      <td>Romania</td>\n",
       "      <td>Male</td>\n",
       "    </tr>\n",
       "    <tr>\n",
       "      <th>0</th>\n",
       "      <td>Eileen Chang</td>\n",
       "      <td>9781681371276</td>\n",
       "      <td>Fiction</td>\n",
       "      <td>Chile</td>\n",
       "      <td>Female</td>\n",
       "    </tr>\n",
       "    <tr>\n",
       "      <th>0</th>\n",
       "      <td>Anton Chekhov</td>\n",
       "      <td>9781590178362</td>\n",
       "      <td>Fiction</td>\n",
       "      <td>Russia</td>\n",
       "      <td>Male</td>\n",
       "    </tr>\n",
       "    <tr>\n",
       "      <th>0</th>\n",
       "      <td>Gabriel Chevallier</td>\n",
       "      <td>9781590177167</td>\n",
       "      <td>Fiction</td>\n",
       "      <td>France</td>\n",
       "      <td>Male</td>\n",
       "    </tr>\n",
       "  </tbody>\n",
       "</table>\n",
       "</div>"
      ],
      "text/plain": [
       "               author           isbn pw_genre  country  gender\n",
       "0     Szilard Borbely  9781681370545   Poetry  Hungary    Male\n",
       "0       Emmanuel Bove  9781590178324  Fiction   France    Male\n",
       "0     Matei Calinescu  9781681371955  Fiction  Romania    Male\n",
       "0        Eileen Chang  9781681371276  Fiction    Chile  Female\n",
       "0       Anton Chekhov  9781590178362  Fiction   Russia    Male\n",
       "0  Gabriel Chevallier  9781590177167  Fiction   France    Male"
      ]
     },
     "execution_count": 591,
     "metadata": {},
     "output_type": "execute_result"
    }
   ],
   "source": [
    "# Peep the dataset\n",
    "pw_details[0:6]"
   ]
  },
  {
   "cell_type": "code",
   "execution_count": 600,
   "metadata": {},
   "outputs": [
    {
     "data": {
      "text/html": [
       "<div>\n",
       "<style scoped>\n",
       "    .dataframe tbody tr th:only-of-type {\n",
       "        vertical-align: middle;\n",
       "    }\n",
       "\n",
       "    .dataframe tbody tr th {\n",
       "        vertical-align: top;\n",
       "    }\n",
       "\n",
       "    .dataframe thead th {\n",
       "        text-align: right;\n",
       "    }\n",
       "</style>\n",
       "<table border=\"1\" class=\"dataframe\">\n",
       "  <thead>\n",
       "    <tr style=\"text-align: right;\">\n",
       "      <th></th>\n",
       "      <th>author_x</th>\n",
       "      <th>isbn</th>\n",
       "      <th>pw_genre</th>\n",
       "      <th>country</th>\n",
       "      <th>gender</th>\n",
       "      <th>title</th>\n",
       "      <th>author_y</th>\n",
       "      <th>pages</th>\n",
       "      <th>original_language</th>\n",
       "      <th>tags</th>\n",
       "    </tr>\n",
       "  </thead>\n",
       "  <tbody>\n",
       "    <tr>\n",
       "      <th>0</th>\n",
       "      <td>Emmanuel Bove</td>\n",
       "      <td>9781590178324</td>\n",
       "      <td>Fiction</td>\n",
       "      <td>France</td>\n",
       "      <td>Male</td>\n",
       "      <td>Henri Duchemin and His Shadows</td>\n",
       "      <td>Emmanuel Bove</td>\n",
       "      <td>160</td>\n",
       "      <td>French</td>\n",
       "      <td>Available as E-Book,International Literature,L...</td>\n",
       "    </tr>\n",
       "    <tr>\n",
       "      <th>1</th>\n",
       "      <td>Matei Calinescu</td>\n",
       "      <td>9781681371955</td>\n",
       "      <td>Fiction</td>\n",
       "      <td>Romania</td>\n",
       "      <td>Male</td>\n",
       "      <td>The Life and Opinions of Zacharias Lichter</td>\n",
       "      <td>Matei Calinescu</td>\n",
       "      <td>160</td>\n",
       "      <td>Romanian</td>\n",
       "      <td>Available as E-Book,International Literature,L...</td>\n",
       "    </tr>\n",
       "    <tr>\n",
       "      <th>2</th>\n",
       "      <td>Eileen Chang</td>\n",
       "      <td>9781681371276</td>\n",
       "      <td>Fiction</td>\n",
       "      <td>Chile</td>\n",
       "      <td>Female</td>\n",
       "      <td>Little Reunions</td>\n",
       "      <td>Eileen Chang</td>\n",
       "      <td>352</td>\n",
       "      <td>translated</td>\n",
       "      <td>Asian Literature,Available as E-Book,Historica...</td>\n",
       "    </tr>\n",
       "    <tr>\n",
       "      <th>3</th>\n",
       "      <td>Anton Chekhov</td>\n",
       "      <td>9781590178362</td>\n",
       "      <td>Fiction</td>\n",
       "      <td>Russia</td>\n",
       "      <td>Male</td>\n",
       "      <td>The PrankThe Best of Young Chekhov</td>\n",
       "      <td>Anton Chekhov</td>\n",
       "      <td>168</td>\n",
       "      <td>English</td>\n",
       "      <td>Available as E-Book,International Literature,L...</td>\n",
       "    </tr>\n",
       "    <tr>\n",
       "      <th>4</th>\n",
       "      <td>Gabriel Chevallier</td>\n",
       "      <td>9781590177167</td>\n",
       "      <td>Fiction</td>\n",
       "      <td>France</td>\n",
       "      <td>Male</td>\n",
       "      <td>FearA Novel of World War I</td>\n",
       "      <td>Gabriel Chevallier</td>\n",
       "      <td>328</td>\n",
       "      <td>French</td>\n",
       "      <td>Available as E-Book,French Literature,Internat...</td>\n",
       "    </tr>\n",
       "    <tr>\n",
       "      <th>5</th>\n",
       "      <td>Jean-Paul Clebert</td>\n",
       "      <td>9781590179574</td>\n",
       "      <td>Fiction</td>\n",
       "      <td>France</td>\n",
       "      <td>Male</td>\n",
       "      <td>Paris Vagabond</td>\n",
       "      <td>Jean-Paul Clébert</td>\n",
       "      <td>352</td>\n",
       "      <td>English</td>\n",
       "      <td>Available as E-Book,Biography &amp; Memoir,French ...</td>\n",
       "    </tr>\n",
       "  </tbody>\n",
       "</table>\n",
       "</div>"
      ],
      "text/plain": [
       "             author_x           isbn pw_genre  country  gender  \\\n",
       "0       Emmanuel Bove  9781590178324  Fiction   France    Male   \n",
       "1     Matei Calinescu  9781681371955  Fiction  Romania    Male   \n",
       "2        Eileen Chang  9781681371276  Fiction    Chile  Female   \n",
       "3       Anton Chekhov  9781590178362  Fiction   Russia    Male   \n",
       "4  Gabriel Chevallier  9781590177167  Fiction   France    Male   \n",
       "5   Jean-Paul Clebert  9781590179574  Fiction   France    Male   \n",
       "\n",
       "                                        title            author_y pages  \\\n",
       "0              Henri Duchemin and His Shadows       Emmanuel Bove   160   \n",
       "1  The Life and Opinions of Zacharias Lichter     Matei Calinescu   160   \n",
       "2                             Little Reunions        Eileen Chang   352   \n",
       "3          The PrankThe Best of Young Chekhov       Anton Chekhov   168   \n",
       "4                  FearA Novel of World War I  Gabriel Chevallier   328   \n",
       "5                              Paris Vagabond   Jean-Paul Clébert   352   \n",
       "\n",
       "  original_language                                               tags  \n",
       "0            French  Available as E-Book,International Literature,L...  \n",
       "1          Romanian  Available as E-Book,International Literature,L...  \n",
       "2        translated  Asian Literature,Available as E-Book,Historica...  \n",
       "3           English  Available as E-Book,International Literature,L...  \n",
       "4            French  Available as E-Book,French Literature,Internat...  \n",
       "5           English  Available as E-Book,Biography & Memoir,French ...  "
      ]
     },
     "execution_count": 600,
     "metadata": {},
     "output_type": "execute_result"
    }
   ],
   "source": [
    "# Join information from PW and NYRB\n",
    "more_details = pd.merge(pw_details, all_details, on='isbn', how='inner')\n",
    "more_details[0:6]"
   ]
  },
  {
   "cell_type": "markdown",
   "metadata": {},
   "source": [
    "### Download Book Covers"
   ]
  },
  {
   "cell_type": "code",
   "execution_count": 69,
   "metadata": {},
   "outputs": [],
   "source": [
    "# Download covers into your repo\n",
    "for i in range(0, len(books_urls)):\n",
    "    url = \"https://{}\".format(imgs['img'][i])\n",
    "    filename = \"{}.jpg\".format(slugs[i])\n",
    "    \n",
    "    urllib.request.urlretrieve(url, filename)"
   ]
  },
  {
   "cell_type": "markdown",
   "metadata": {},
   "source": [
    "### NEED TO FIX:\n",
    "- Eileen Chang's page - country should be China?, not Chile\n",
    "- Proensa volume should be by various authors\n",
    "- Research and fix \"translated\" mark in original_language \n",
    "- fix titles - no subtitles"
   ]
  },
  {
   "cell_type": "code",
   "execution_count": null,
   "metadata": {},
   "outputs": [],
   "source": []
  }
 ],
 "metadata": {
  "kernelspec": {
   "display_name": "Python 3",
   "language": "python",
   "name": "python3"
  },
  "language_info": {
   "codemirror_mode": {
    "name": "ipython",
    "version": 3
   },
   "file_extension": ".py",
   "mimetype": "text/x-python",
   "name": "python",
   "nbconvert_exporter": "python",
   "pygments_lexer": "ipython3",
   "version": "3.6.3"
  }
 },
 "nbformat": 4,
 "nbformat_minor": 2
}
