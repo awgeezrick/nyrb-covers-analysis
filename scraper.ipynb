{
 "cells": [
  {
   "cell_type": "markdown",
   "metadata": {},
   "source": [
    "# NYRB Classics Color Analysis"
   ]
  },
  {
   "cell_type": "markdown",
   "metadata": {},
   "source": [
    "### Collect All NYRB Classics into a Dataset"
   ]
  },
  {
   "cell_type": "code",
   "execution_count": 752,
   "metadata": {},
   "outputs": [],
   "source": [
    "import re\n",
    "import requests\n",
    "import pandas as pd\n",
    "import urllib.request\n",
    "from bs4 import BeautifulSoup\n",
    "from datetime import datetime"
   ]
  },
  {
   "cell_type": "code",
   "execution_count": 8,
   "metadata": {},
   "outputs": [],
   "source": [
    "# Create list of relevant URLs\n",
    "base_url = 'https://www.nyrb.com/collections/classics'\n",
    "url_list = [\"{}?page={}\".format(base_url, str(page)) for page in range(1,10)]"
   ]
  },
  {
   "cell_type": "code",
   "execution_count": 9,
   "metadata": {},
   "outputs": [
    {
     "name": "stdout",
     "output_type": "stream",
     "text": [
      "Processing https://www.nyrb.com/collections/classics?page=1\n",
      "Processing https://www.nyrb.com/collections/classics?page=2\n",
      "Processing https://www.nyrb.com/collections/classics?page=3\n",
      "Processing https://www.nyrb.com/collections/classics?page=4\n",
      "Processing https://www.nyrb.com/collections/classics?page=5\n",
      "Processing https://www.nyrb.com/collections/classics?page=6\n",
      "Processing https://www.nyrb.com/collections/classics?page=7\n",
      "Processing https://www.nyrb.com/collections/classics?page=8\n",
      "Processing https://www.nyrb.com/collections/classics?page=9\n"
     ]
    }
   ],
   "source": [
    "# Retrieve information and parse through BeautifulSoup\n",
    "stack = []\n",
    "for url_ in url_list:\n",
    "    print(\"Processing {}\".format(url_))\n",
    "    r_new = requests.get(url_)\n",
    "    soup_new = BeautifulSoup(r_new.text, \"html5lib\")\n",
    "    for div in soup_new.find_all(\"div\", class_=\"product\"):\n",
    "        stack.append(div)"
   ]
  },
  {
   "cell_type": "code",
   "execution_count": 10,
   "metadata": {},
   "outputs": [],
   "source": [
    "# Parse bs4 ResultSet for information of interest - returns dictionary of values\n",
    "def parse_product(product):\n",
    "    \n",
    "    # print(product)\n",
    "    title = product.find(\"h4\").text\n",
    "    img = product.find(\"img\")['src'][2:]\n",
    "    detail = product.find(\"a\")['href']\n",
    "    nyrb_pub_date = pd.to_datetime(product['data-pubdate'])  # use this to filter published Classics from forthcoming Classics \n",
    "    \n",
    "    return {\n",
    "        \"title\": title,\n",
    "        \"img\": img, \n",
    "        \"detail\": detail,\n",
    "        \"nyrb_pub_date\": nyrb_pub_date\n",
    "    }"
   ]
  },
  {
   "cell_type": "code",
   "execution_count": 11,
   "metadata": {},
   "outputs": [],
   "source": [
    "# Parse information and add it to a pandas dataframe\n",
    "all_books = pd.DataFrame()\n",
    "for i in range(0, len(stack)):\n",
    "    prod = parse_product(stack[i])\n",
    "    prod = pd.DataFrame(prod, index=[0])\n",
    "    all_books = all_books.append(prod)"
   ]
  },
  {
   "cell_type": "code",
   "execution_count": 14,
   "metadata": {},
   "outputs": [],
   "source": [
    "# Filter to exclude forthcoming publications\n",
    "books = all_books[all_books['nyrb_pub_date'] <= datetime.today()]\n",
    "books = books.reset_index()"
   ]
  },
  {
   "cell_type": "code",
   "execution_count": null,
   "metadata": {},
   "outputs": [],
   "source": [
    "# Include Out of Print books\n",
    "oop = {\n",
    "    \"title\" = ['Letty Fox: Her Luck',\n",
    "               'To the Finland Station',\n",
    "               'The Diary of a Rapist',\n",
    "               'The Man Who Watched Trains Go By',\n",
    "               'The Sorrow Beyond Dreams',\n",
    "               'Selected Stories of Robert Walser',\n",
    "               'The Towers of Trebizond'],\n",
    "    \"img\" = ['https://images.gr-assets.com/books/1320400476l/132508.jpg',\n",
    "             'https://images.gr-assets.com/books/1320440378l/694282.jpg',\n",
    "             'https://i2.wp.com/i4.photobucket.com/albums/y126/paradorlounge/159017094601LZZZZZZZ.jpg', \n",
    "             'https://images-na.ssl-images-amazon.com/images/I/41LLjzL%2B%2BML._SX311_BO1,204,203,200_.jpg',\n",
    "             'https://images-na.ssl-images-amazon.com/images/I/41B238tikhL._SX294_BO1,204,203,200_.jpg',\n",
    "             'https://images.gr-assets.com/books/1320472249l/160313.jpg',\n",
    "             'https://images.gr-assets.com/books/1386748970l/192954.jpg'],\n",
    "    \"detail\" = ['NA', 'NA', 'NA', 'NA', 'NA', 'NA', 'NA'],\n",
    "    \"nyrb_pub_date\" = ['NA', 'NA', 'NA', 'NA', 'NA', 'NA', 'NA']\n",
    "}"
   ]
  },
  {
   "cell_type": "code",
   "execution_count": 49,
   "metadata": {},
   "outputs": [
    {
     "data": {
      "text/html": [
       "<div>\n",
       "<style>\n",
       "    .dataframe thead tr:only-child th {\n",
       "        text-align: right;\n",
       "    }\n",
       "\n",
       "    .dataframe thead th {\n",
       "        text-align: left;\n",
       "    }\n",
       "\n",
       "    .dataframe tbody tr th {\n",
       "        vertical-align: top;\n",
       "    }\n",
       "</style>\n",
       "<table border=\"1\" class=\"dataframe\">\n",
       "  <thead>\n",
       "    <tr style=\"text-align: right;\">\n",
       "      <th></th>\n",
       "      <th>index</th>\n",
       "      <th>detail</th>\n",
       "      <th>img</th>\n",
       "      <th>nyrb_pub_date</th>\n",
       "      <th>title</th>\n",
       "    </tr>\n",
       "  </thead>\n",
       "  <tbody>\n",
       "    <tr>\n",
       "      <th>0</th>\n",
       "      <td>0</td>\n",
       "      <td>/collections/classics/products/journey-into-th...</td>\n",
       "      <td>cdn.shopify.com/s/files/1/0726/9203/products/J...</td>\n",
       "      <td>2018-07-10</td>\n",
       "      <td>Journey into the Mind's Eye</td>\n",
       "    </tr>\n",
       "    <tr>\n",
       "      <th>1</th>\n",
       "      <td>0</td>\n",
       "      <td>/collections/classics/products/sand</td>\n",
       "      <td>cdn.shopify.com/s/files/1/0726/9203/products/S...</td>\n",
       "      <td>2018-06-12</td>\n",
       "      <td>Sand</td>\n",
       "    </tr>\n",
       "    <tr>\n",
       "      <th>2</th>\n",
       "      <td>0</td>\n",
       "      <td>/collections/classics/products/havoc</td>\n",
       "      <td>cdn.shopify.com/s/files/1/0726/9203/products/H...</td>\n",
       "      <td>2018-06-12</td>\n",
       "      <td>Havoc</td>\n",
       "    </tr>\n",
       "    <tr>\n",
       "      <th>3</th>\n",
       "      <td>0</td>\n",
       "      <td>/collections/classics/products/the-seventh-cross</td>\n",
       "      <td>cdn.shopify.com/s/files/1/0726/9203/products/s...</td>\n",
       "      <td>2018-05-22</td>\n",
       "      <td>The Seventh Cross</td>\n",
       "    </tr>\n",
       "    <tr>\n",
       "      <th>4</th>\n",
       "      <td>0</td>\n",
       "      <td>/collections/classics/products/compulsory-games</td>\n",
       "      <td>cdn.shopify.com/s/files/1/0726/9203/products/9...</td>\n",
       "      <td>2018-05-08</td>\n",
       "      <td>Compulsory Games</td>\n",
       "    </tr>\n",
       "    <tr>\n",
       "      <th>5</th>\n",
       "      <td>0</td>\n",
       "      <td>/collections/classics/products/basic-black-wit...</td>\n",
       "      <td>cdn.shopify.com/s/files/1/0726/9203/products/B...</td>\n",
       "      <td>2018-04-17</td>\n",
       "      <td>Basic Black with Pearls</td>\n",
       "    </tr>\n",
       "  </tbody>\n",
       "</table>\n",
       "</div>"
      ],
      "text/plain": [
       "   index                                             detail  \\\n",
       "0      0  /collections/classics/products/journey-into-th...   \n",
       "1      0                /collections/classics/products/sand   \n",
       "2      0               /collections/classics/products/havoc   \n",
       "3      0   /collections/classics/products/the-seventh-cross   \n",
       "4      0    /collections/classics/products/compulsory-games   \n",
       "5      0  /collections/classics/products/basic-black-wit...   \n",
       "\n",
       "                                                 img nyrb_pub_date  \\\n",
       "0  cdn.shopify.com/s/files/1/0726/9203/products/J...    2018-07-10   \n",
       "1  cdn.shopify.com/s/files/1/0726/9203/products/S...    2018-06-12   \n",
       "2  cdn.shopify.com/s/files/1/0726/9203/products/H...    2018-06-12   \n",
       "3  cdn.shopify.com/s/files/1/0726/9203/products/s...    2018-05-22   \n",
       "4  cdn.shopify.com/s/files/1/0726/9203/products/9...    2018-05-08   \n",
       "5  cdn.shopify.com/s/files/1/0726/9203/products/B...    2018-04-17   \n",
       "\n",
       "                         title  \n",
       "0  Journey into the Mind's Eye  \n",
       "1                         Sand  \n",
       "2                        Havoc  \n",
       "3            The Seventh Cross  \n",
       "4             Compulsory Games  \n",
       "5      Basic Black with Pearls  "
      ]
     },
     "execution_count": 49,
     "metadata": {},
     "output_type": "execute_result"
    }
   ],
   "source": [
    "# Peep the dataset\n",
    "books[0:6]"
   ]
  },
  {
   "cell_type": "markdown",
   "metadata": {},
   "source": [
    "#### Quick Info about NYRB Classics Dataset"
   ]
  },
  {
   "cell_type": "code",
   "execution_count": 265,
   "metadata": {},
   "outputs": [
    {
     "name": "stdout",
     "output_type": "stream",
     "text": [
      "Num of books: 486\n",
      "Publication dates range from 1999-09-30 00:00:00 to 2018-07-10 00:00:00\n"
     ]
    }
   ],
   "source": [
    "print(\"Number of books: {}\".format(len(books)))\n",
    "print(\"Publication dates range from {} to {}\".format(min(books['nyrb_pub_date']), max(books['nyrb_pub_date'])))"
   ]
  },
  {
   "cell_type": "markdown",
   "metadata": {},
   "source": [
    "### Scrape information from individual book pages"
   ]
  },
  {
   "cell_type": "code",
   "execution_count": 735,
   "metadata": {},
   "outputs": [],
   "source": [
    "# Create list of relevant URLs from earlier collection\n",
    "base_url = 'https://www.nyrb.com'\n",
    "book_urls = [books['detail'][i] for i in range(0, len(books))]\n",
    "url_list = [\"{}{}\".format(base_url, url) for url in book_urls]"
   ]
  },
  {
   "cell_type": "code",
   "execution_count": 736,
   "metadata": {},
   "outputs": [],
   "source": [
    "# Retrieve information and parse through BeautifulSoup\n",
    "stack = []\n",
    "for url_ in url_list:\n",
    "    # print(\"Processing {}\".format(url_))\n",
    "    r_new = requests.get(url_)\n",
    "    soup_new = BeautifulSoup(r_new.text, \"html5lib\")\n",
    "    stack.append(soup_new)"
   ]
  },
  {
   "cell_type": "code",
   "execution_count": 737,
   "metadata": {},
   "outputs": [],
   "source": [
    "# Further parse BeautifulSoup for information of interest - returns dictionary of values\n",
    "def parse_details(book):\n",
    "    \n",
    "    # \"book\" is a BeautifulSoup object - right after calling BeautifulSoup()\n",
    "    title_str = str(book.find_all(\"div\", class_='span8')[0].find(\"h1\", class_='title'))\n",
    "    title = re.search(\">(.*?)<\", title_str).group(1)\n",
    "    people = book.find_all(\"div\", class_='span8')[0].find(\"h2\", class_=\"combined-authors\").text.strip()\n",
    "    isbn = book.find_all(\"div\", class_='description additional')[0].find(class_='variant-sku').text\n",
    "    more = book.find_all(\"div\", class_='description additional')[0].find(\"p\").text\n",
    "    tags_mess = book.find_all(\"div\",class_=\"span8\")[0].find(\"div\", class_=\"tags clearfix\").find_all(\"a\")\n",
    "    \n",
    "    # parse authors and language string\n",
    "    author = re.split(\",\", people)[0][3:]\n",
    "    try:\n",
    "        phrase = re.search('translated from the [a-zA-z]{1,10}', people).group(0)\n",
    "        language = re.split(\"\\s+\", phrase)[-1]\n",
    "    except AttributeError:\n",
    "        try:\n",
    "            language = re.search('translated', people).group(0)\n",
    "        except AttributeError:\n",
    "            language = 'English'\n",
    " \n",
    "    # parse additional information string\n",
    "    pages = re.split(\"\\s+\", re.split(\"\\s+\\s+\", more)[2])[1]\n",
    "    \n",
    "    # parse tags\n",
    "    l = []\n",
    "    for i in range(0, len(tags_mess)):\n",
    "        l.append(tags_mess[i].text)\n",
    "        \n",
    "    tags = \",\".join(l)\n",
    "    \n",
    "    return {\n",
    "        \"title\": title,\n",
    "        \"author\": author,\n",
    "        \"isbn\": isbn,\n",
    "        \"pages\": pages,\n",
    "        \"original_language\": language,\n",
    "        \"tags\": tags\n",
    "    }"
   ]
  },
  {
   "cell_type": "code",
   "execution_count": 738,
   "metadata": {},
   "outputs": [
    {
     "data": {
      "text/plain": [
       "{'author': 'Wolfgang Herrndorf',\n",
       " 'isbn': '9781681372013',\n",
       " 'original_language': 'German',\n",
       " 'pages': '464',\n",
       " 'tags': 'Available as E-Book,German Literature,Historical Fiction,Literary Fiction,Suspense & Crime',\n",
       " 'title': 'Sand'}"
      ]
     },
     "execution_count": 738,
     "metadata": {},
     "output_type": "execute_result"
    }
   ],
   "source": [
    "# Example\n",
    "parse_details(stack[1])"
   ]
  },
  {
   "cell_type": "code",
   "execution_count": 739,
   "metadata": {},
   "outputs": [],
   "source": [
    "# Parse information and add it to a pandas dataframe\n",
    "all_details = pd.DataFrame()\n",
    "for i in range(0, len(stack)):\n",
    "    details = parse_details(stack[i])\n",
    "    details = pd.DataFrame(details, index=[0])\n",
    "    all_details = all_details.append(details)"
   ]
  },
  {
   "cell_type": "code",
   "execution_count": 740,
   "metadata": {},
   "outputs": [
    {
     "data": {
      "text/html": [
       "<div>\n",
       "<style scoped>\n",
       "    .dataframe tbody tr th:only-of-type {\n",
       "        vertical-align: middle;\n",
       "    }\n",
       "\n",
       "    .dataframe tbody tr th {\n",
       "        vertical-align: top;\n",
       "    }\n",
       "\n",
       "    .dataframe thead th {\n",
       "        text-align: right;\n",
       "    }\n",
       "</style>\n",
       "<table border=\"1\" class=\"dataframe\">\n",
       "  <thead>\n",
       "    <tr style=\"text-align: right;\">\n",
       "      <th></th>\n",
       "      <th>index</th>\n",
       "      <th>title</th>\n",
       "      <th>author</th>\n",
       "      <th>isbn</th>\n",
       "      <th>pages</th>\n",
       "      <th>original_language</th>\n",
       "      <th>tags</th>\n",
       "    </tr>\n",
       "  </thead>\n",
       "  <tbody>\n",
       "    <tr>\n",
       "      <th>0</th>\n",
       "      <td>0</td>\n",
       "      <td>Journey into the Mind's Eye</td>\n",
       "      <td>Lesley Blanch</td>\n",
       "      <td>9781681371931</td>\n",
       "      <td>400</td>\n",
       "      <td>English</td>\n",
       "      <td>Available as E-Book,Biography &amp; Memoir,Literat...</td>\n",
       "    </tr>\n",
       "    <tr>\n",
       "      <th>1</th>\n",
       "      <td>0</td>\n",
       "      <td>Sand</td>\n",
       "      <td>Wolfgang Herrndorf</td>\n",
       "      <td>9781681372013</td>\n",
       "      <td>464</td>\n",
       "      <td>German</td>\n",
       "      <td>Available as E-Book,German Literature,Historic...</td>\n",
       "    </tr>\n",
       "    <tr>\n",
       "      <th>2</th>\n",
       "      <td>0</td>\n",
       "      <td>Havoc</td>\n",
       "      <td>Tom Kristensen</td>\n",
       "      <td>9781681372075</td>\n",
       "      <td>528</td>\n",
       "      <td>Danish</td>\n",
       "      <td>Available as E-Book,International Literature,L...</td>\n",
       "    </tr>\n",
       "    <tr>\n",
       "      <th>3</th>\n",
       "      <td>0</td>\n",
       "      <td>The Seventh Cross</td>\n",
       "      <td>Anna Seghers</td>\n",
       "      <td>9781681372129</td>\n",
       "      <td>416</td>\n",
       "      <td>German</td>\n",
       "      <td>Available as E-Book,German Literature,Historic...</td>\n",
       "    </tr>\n",
       "    <tr>\n",
       "      <th>4</th>\n",
       "      <td>0</td>\n",
       "      <td>Compulsory Games</td>\n",
       "      <td>Robert Aickman</td>\n",
       "      <td>9781681371894</td>\n",
       "      <td>368</td>\n",
       "      <td>English</td>\n",
       "      <td>Available as E-Book,British &amp; Irish Literature...</td>\n",
       "    </tr>\n",
       "    <tr>\n",
       "      <th>5</th>\n",
       "      <td>0</td>\n",
       "      <td>Basic Black with Pearls</td>\n",
       "      <td>Helen Weinzweig</td>\n",
       "      <td>9781681372167</td>\n",
       "      <td>160</td>\n",
       "      <td>English</td>\n",
       "      <td>Available as E-Book,Literary Fiction,Literatur...</td>\n",
       "    </tr>\n",
       "  </tbody>\n",
       "</table>\n",
       "</div>"
      ],
      "text/plain": [
       "   index                        title              author           isbn  \\\n",
       "0      0  Journey into the Mind's Eye       Lesley Blanch  9781681371931   \n",
       "1      0                         Sand  Wolfgang Herrndorf  9781681372013   \n",
       "2      0                        Havoc      Tom Kristensen  9781681372075   \n",
       "3      0            The Seventh Cross        Anna Seghers  9781681372129   \n",
       "4      0             Compulsory Games      Robert Aickman  9781681371894   \n",
       "5      0      Basic Black with Pearls     Helen Weinzweig  9781681372167   \n",
       "\n",
       "  pages original_language                                               tags  \n",
       "0   400           English  Available as E-Book,Biography & Memoir,Literat...  \n",
       "1   464            German  Available as E-Book,German Literature,Historic...  \n",
       "2   528            Danish  Available as E-Book,International Literature,L...  \n",
       "3   416            German  Available as E-Book,German Literature,Historic...  \n",
       "4   368           English  Available as E-Book,British & Irish Literature...  \n",
       "5   160           English  Available as E-Book,Literary Fiction,Literatur...  "
      ]
     },
     "execution_count": 740,
     "metadata": {},
     "output_type": "execute_result"
    }
   ],
   "source": [
    "# Peep the dataset\n",
    "all_details = all_details.reset_index()\n",
    "all_details[0:6]"
   ]
  },
  {
   "cell_type": "code",
   "execution_count": 748,
   "metadata": {},
   "outputs": [],
   "source": [
    "# For downloading images later\n",
    "books_urls = pd.concat([all_details, pd.DataFrame(book_urls)], axis=1)\n",
    "books_urls.rename(columns={books_urls.columns[-1]:'detail'}, inplace=True)\n",
    "imgs = pd.merge(books_urls, books, on='detail', how='inner')\n",
    "slugs = [re.split(\"/\", imgs['detail'][i])[-1] for i in range(0, len(imgs))]"
   ]
  },
  {
   "cell_type": "code",
   "execution_count": 124,
   "metadata": {},
   "outputs": [],
   "source": [
    "# Parse NYRB tags into list with corresponding titles\n",
    "tags_list = [re.split(\",\",all_details.tags[i]) for i in range(0, len(all_details))]\n",
    "titles = []\n",
    "nyrb_tags = []\n",
    "for tag_list in range(0, len(tags_list)):\n",
    "    for tag in range(0, len(tags_list[tag_list])):\n",
    "        nyrb_tags.append([tags_list[tag_list][tag]])\n",
    "        titles.append(all_details['title'][tag_list])"
   ]
  },
  {
   "cell_type": "code",
   "execution_count": 125,
   "metadata": {},
   "outputs": [
    {
     "data": {
      "text/html": [
       "<div>\n",
       "<style>\n",
       "    .dataframe thead tr:only-child th {\n",
       "        text-align: right;\n",
       "    }\n",
       "\n",
       "    .dataframe thead th {\n",
       "        text-align: left;\n",
       "    }\n",
       "\n",
       "    .dataframe tbody tr th {\n",
       "        vertical-align: top;\n",
       "    }\n",
       "</style>\n",
       "<table border=\"1\" class=\"dataframe\">\n",
       "  <thead>\n",
       "    <tr style=\"text-align: right;\">\n",
       "      <th></th>\n",
       "      <th>title</th>\n",
       "      <th>nyrb_tag</th>\n",
       "    </tr>\n",
       "  </thead>\n",
       "  <tbody>\n",
       "    <tr>\n",
       "      <th>0</th>\n",
       "      <td>Journey into the Mind's Eye</td>\n",
       "      <td>Available as E-Book</td>\n",
       "    </tr>\n",
       "    <tr>\n",
       "      <th>1</th>\n",
       "      <td>Journey into the Mind's Eye</td>\n",
       "      <td>Biography &amp; Memoir</td>\n",
       "    </tr>\n",
       "    <tr>\n",
       "      <th>2</th>\n",
       "      <td>Journey into the Mind's Eye</td>\n",
       "      <td>Literature in English</td>\n",
       "    </tr>\n",
       "    <tr>\n",
       "      <th>3</th>\n",
       "      <td>Sand</td>\n",
       "      <td>Available as E-Book</td>\n",
       "    </tr>\n",
       "    <tr>\n",
       "      <th>4</th>\n",
       "      <td>Sand</td>\n",
       "      <td>German Literature</td>\n",
       "    </tr>\n",
       "    <tr>\n",
       "      <th>5</th>\n",
       "      <td>Sand</td>\n",
       "      <td>Historical Fiction</td>\n",
       "    </tr>\n",
       "  </tbody>\n",
       "</table>\n",
       "</div>"
      ],
      "text/plain": [
       "                         title               nyrb_tag\n",
       "0  Journey into the Mind's Eye    Available as E-Book\n",
       "1  Journey into the Mind's Eye     Biography & Memoir\n",
       "2  Journey into the Mind's Eye  Literature in English\n",
       "3                         Sand    Available as E-Book\n",
       "4                         Sand      German Literature\n",
       "5                         Sand     Historical Fiction"
      ]
     },
     "execution_count": 125,
     "metadata": {},
     "output_type": "execute_result"
    }
   ],
   "source": [
    "# Store books and tags information in dataframe\n",
    "books_n_tags = pd.concat([pd.DataFrame(titles), pd.DataFrame(nyrb_tags)], axis=1)\n",
    "books_n_tags.columns = ['title', 'nyrb_tag']\n",
    "books_n_tags[0:6]"
   ]
  },
  {
   "cell_type": "code",
   "execution_count": 128,
   "metadata": {},
   "outputs": [
    {
     "data": {
      "text/plain": [
       "Available as E-Book           322\n",
       "International Literature      226\n",
       "Literature in English         203\n",
       "Literary Fiction              190\n",
       "British & Irish Literature    116\n",
       "American Literature           100\n",
       "Name: nyrb_tag, dtype: int64"
      ]
     },
     "execution_count": 128,
     "metadata": {},
     "output_type": "execute_result"
    }
   ],
   "source": [
    "pd.DataFrame(books_n_tags).nyrb_tag.value_counts()[0:6]"
   ]
  },
  {
   "cell_type": "markdown",
   "metadata": {},
   "source": [
    "#### Quick Statistics about NYRB Classics - Details Dataset"
   ]
  },
  {
   "cell_type": "code",
   "execution_count": 530,
   "metadata": {},
   "outputs": [
    {
     "name": "stdout",
     "output_type": "stream",
     "text": [
      "There are 194 books in this dataset that were translated into English\n"
     ]
    }
   ],
   "source": [
    "print(\"There are {} books in this dataset that were translated into English\".format(str(len(all_details[all_details['original_language'] != 'English']))))"
   ]
  },
  {
   "cell_type": "code",
   "execution_count": 529,
   "metadata": {},
   "outputs": [
    {
     "data": {
      "text/plain": [
       "English    292\n",
       "French      50\n",
       "German      31\n",
       "Name: original_language, dtype: int64"
      ]
     },
     "execution_count": 529,
     "metadata": {},
     "output_type": "execute_result"
    }
   ],
   "source": [
    "all_details['original_language'].value_counts() # need to fix unknown languages"
   ]
  },
  {
   "cell_type": "code",
   "execution_count": null,
   "metadata": {},
   "outputs": [],
   "source": [
    "# fix languages, including those not listed (like Maupassant)\n",
    "# fix title - no subtitles\n",
    "# fix tags - one tag per column?\n",
    "# include author gender, country "
   ]
  },
  {
   "cell_type": "markdown",
   "metadata": {},
   "source": [
    "#### Find more information from [Publishers Weekly Translation Database](https://www.publishersweekly.com/pw/translation/search/index.html)"
   ]
  },
  {
   "cell_type": "code",
   "execution_count": 4,
   "metadata": {},
   "outputs": [],
   "source": [
    "# Find page for NYRB specifically\n",
    "url = 'https://www.publishersweekly.com/pw/translation/search/index.html?country=&language=&translator_gender=&submit=Search&author=&genre=&author_gender=&submitting=1&translator=&isbn=&title=&publisher=226'\n",
    "r = requests.get(url)"
   ]
  },
  {
   "cell_type": "code",
   "execution_count": 5,
   "metadata": {},
   "outputs": [],
   "source": [
    "# Parse page for book titles and authors\n",
    "soup = BeautifulSoup(r.text, \"html5lib\")\n",
    "list = soup.find(\"table\", class_=\"table table-striped\").find_all(\"tr\")"
   ]
  },
  {
   "cell_type": "code",
   "execution_count": 6,
   "metadata": {},
   "outputs": [],
   "source": [
    "# Collect list of relevant PW urls from the website itself\n",
    "pw_urls = [list[i].find(\"a\")['href'] for i in range(0, len(list))]"
   ]
  },
  {
   "cell_type": "code",
   "execution_count": 7,
   "metadata": {},
   "outputs": [],
   "source": [
    "# Create URL list\n",
    "base_url = 'https://www.publishersweekly.com'\n",
    "url_list = [\"{}{}\".format(base_url, url) for url in pw_urls]"
   ]
  },
  {
   "cell_type": "code",
   "execution_count": 564,
   "metadata": {},
   "outputs": [],
   "source": [
    "# Make get request and parse with BeautifulSoup for all URLs\n",
    "stack = []\n",
    "for url_ in url_list:\n",
    "    # print(\"Processing {}\".format(url_))\n",
    "    r_new = requests.get(url_)\n",
    "    soup_new = BeautifulSoup(r_new.text, \"html5lib\")\n",
    "    stack.append(soup_new)"
   ]
  },
  {
   "cell_type": "code",
   "execution_count": 565,
   "metadata": {},
   "outputs": [],
   "source": [
    "# Further parse BeautifulSoup for information of interest - returns dictionary of values\n",
    "def pw_parser(book):\n",
    "    \n",
    "    # retrieve table with information\n",
    "    info = [book.find(\"table\").find_all(\"tr\")[i].text for i in range(1,len(book.find(\"table\").find_all(\"tr\")))]\n",
    "    author = re.split(\":\", info[0])[1]\n",
    "    isbn = re.split(\":\", info[3])[1]\n",
    "    pw_genre = re.split(\":\", info[5])[1]\n",
    "    country = re.split(\":\", info[7])[1]\n",
    "    gender = re.split(\":\", info[8])[1]\n",
    "    \n",
    "    return {\n",
    "        \"author\": author,\n",
    "        \"isbn\": isbn,\n",
    "        \"pw_genre\": pw_genre,\n",
    "        \"country\": country,\n",
    "        \"gender\": gender\n",
    "    }"
   ]
  },
  {
   "cell_type": "code",
   "execution_count": 566,
   "metadata": {},
   "outputs": [
    {
     "data": {
      "text/plain": [
       "{'author': 'Alfred Doblin',\n",
       " 'country': 'Germany',\n",
       " 'gender': 'Male',\n",
       " 'isbn': '9781590179734',\n",
       " 'pw_genre': 'Fiction'}"
      ]
     },
     "execution_count": 566,
     "metadata": {},
     "output_type": "execute_result"
    }
   ],
   "source": [
    "# Example\n",
    "pw_parser(stack[10])"
   ]
  },
  {
   "cell_type": "code",
   "execution_count": 568,
   "metadata": {},
   "outputs": [],
   "source": [
    "# Parse information and add it to a pandas dataframe\n",
    "pw_details = pd.DataFrame()\n",
    "for i in range(0, len(stack)):\n",
    "    details = pw_parser(stack[i])\n",
    "    details = pd.DataFrame(details, index=[0])\n",
    "    pw_details = pw_details.append(details)"
   ]
  },
  {
   "cell_type": "code",
   "execution_count": 591,
   "metadata": {},
   "outputs": [
    {
     "data": {
      "text/html": [
       "<div>\n",
       "<style scoped>\n",
       "    .dataframe tbody tr th:only-of-type {\n",
       "        vertical-align: middle;\n",
       "    }\n",
       "\n",
       "    .dataframe tbody tr th {\n",
       "        vertical-align: top;\n",
       "    }\n",
       "\n",
       "    .dataframe thead th {\n",
       "        text-align: right;\n",
       "    }\n",
       "</style>\n",
       "<table border=\"1\" class=\"dataframe\">\n",
       "  <thead>\n",
       "    <tr style=\"text-align: right;\">\n",
       "      <th></th>\n",
       "      <th>author</th>\n",
       "      <th>isbn</th>\n",
       "      <th>pw_genre</th>\n",
       "      <th>country</th>\n",
       "      <th>gender</th>\n",
       "    </tr>\n",
       "  </thead>\n",
       "  <tbody>\n",
       "    <tr>\n",
       "      <th>0</th>\n",
       "      <td>Szilard Borbely</td>\n",
       "      <td>9781681370545</td>\n",
       "      <td>Poetry</td>\n",
       "      <td>Hungary</td>\n",
       "      <td>Male</td>\n",
       "    </tr>\n",
       "    <tr>\n",
       "      <th>0</th>\n",
       "      <td>Emmanuel Bove</td>\n",
       "      <td>9781590178324</td>\n",
       "      <td>Fiction</td>\n",
       "      <td>France</td>\n",
       "      <td>Male</td>\n",
       "    </tr>\n",
       "    <tr>\n",
       "      <th>0</th>\n",
       "      <td>Matei Calinescu</td>\n",
       "      <td>9781681371955</td>\n",
       "      <td>Fiction</td>\n",
       "      <td>Romania</td>\n",
       "      <td>Male</td>\n",
       "    </tr>\n",
       "    <tr>\n",
       "      <th>0</th>\n",
       "      <td>Eileen Chang</td>\n",
       "      <td>9781681371276</td>\n",
       "      <td>Fiction</td>\n",
       "      <td>Chile</td>\n",
       "      <td>Female</td>\n",
       "    </tr>\n",
       "    <tr>\n",
       "      <th>0</th>\n",
       "      <td>Anton Chekhov</td>\n",
       "      <td>9781590178362</td>\n",
       "      <td>Fiction</td>\n",
       "      <td>Russia</td>\n",
       "      <td>Male</td>\n",
       "    </tr>\n",
       "    <tr>\n",
       "      <th>0</th>\n",
       "      <td>Gabriel Chevallier</td>\n",
       "      <td>9781590177167</td>\n",
       "      <td>Fiction</td>\n",
       "      <td>France</td>\n",
       "      <td>Male</td>\n",
       "    </tr>\n",
       "  </tbody>\n",
       "</table>\n",
       "</div>"
      ],
      "text/plain": [
       "               author           isbn pw_genre  country  gender\n",
       "0     Szilard Borbely  9781681370545   Poetry  Hungary    Male\n",
       "0       Emmanuel Bove  9781590178324  Fiction   France    Male\n",
       "0     Matei Calinescu  9781681371955  Fiction  Romania    Male\n",
       "0        Eileen Chang  9781681371276  Fiction    Chile  Female\n",
       "0       Anton Chekhov  9781590178362  Fiction   Russia    Male\n",
       "0  Gabriel Chevallier  9781590177167  Fiction   France    Male"
      ]
     },
     "execution_count": 591,
     "metadata": {},
     "output_type": "execute_result"
    }
   ],
   "source": [
    "# Peep the dataset\n",
    "pw_details[0:6]"
   ]
  },
  {
   "cell_type": "code",
   "execution_count": 129,
   "metadata": {},
   "outputs": [
    {
     "ename": "NameError",
     "evalue": "name 'pw_details' is not defined",
     "output_type": "error",
     "traceback": [
      "\u001b[0;31m---------------------------------------------------------------------------\u001b[0m",
      "\u001b[0;31mNameError\u001b[0m                                 Traceback (most recent call last)",
      "\u001b[0;32m<ipython-input-129-90df401a2d38>\u001b[0m in \u001b[0;36m<module>\u001b[0;34m()\u001b[0m\n\u001b[1;32m      1\u001b[0m \u001b[0;31m# Join information from PW and NYRB\u001b[0m\u001b[0;34m\u001b[0m\u001b[0;34m\u001b[0m\u001b[0m\n\u001b[0;32m----> 2\u001b[0;31m \u001b[0mmore_details\u001b[0m \u001b[0;34m=\u001b[0m \u001b[0mpd\u001b[0m\u001b[0;34m.\u001b[0m\u001b[0mmerge\u001b[0m\u001b[0;34m(\u001b[0m\u001b[0mpw_details\u001b[0m\u001b[0;34m,\u001b[0m \u001b[0mall_details\u001b[0m\u001b[0;34m,\u001b[0m \u001b[0mon\u001b[0m\u001b[0;34m=\u001b[0m\u001b[0;34m'isbn'\u001b[0m\u001b[0;34m,\u001b[0m \u001b[0mhow\u001b[0m\u001b[0;34m=\u001b[0m\u001b[0;34m'inner'\u001b[0m\u001b[0;34m)\u001b[0m\u001b[0;34m\u001b[0m\u001b[0m\n\u001b[0m\u001b[1;32m      3\u001b[0m \u001b[0mmore_details\u001b[0m\u001b[0;34m[\u001b[0m\u001b[0;36m0\u001b[0m\u001b[0;34m:\u001b[0m\u001b[0;36m6\u001b[0m\u001b[0;34m]\u001b[0m\u001b[0;34m\u001b[0m\u001b[0m\n",
      "\u001b[0;31mNameError\u001b[0m: name 'pw_details' is not defined"
     ]
    }
   ],
   "source": [
    "# Join information from PW and NYRB\n",
    "more_details = pd.merge(pw_details, all_details, on='isbn', how='inner')\n",
    "more_details[0:6]"
   ]
  },
  {
   "cell_type": "markdown",
   "metadata": {},
   "source": [
    "### Download Book Covers"
   ]
  },
  {
   "cell_type": "code",
   "execution_count": 774,
   "metadata": {},
   "outputs": [],
   "source": [
    "# Download covers into your repo\n",
    "for i in range(0, len(books_urls)):\n",
    "    url = \"https://{}\".format(imgs['img'][i])\n",
    "    filename = \"classics_covers/{}.png\".format(slugs[i])   # change to jpg if url links to jpg\n",
    "    \n",
    "    urllib.request.urlretrieve(url, filename)"
   ]
  },
  {
   "cell_type": "markdown",
   "metadata": {},
   "source": [
    "### Post-Shell Scripting: Check Palette Results"
   ]
  },
  {
   "cell_type": "code",
   "execution_count": 124,
   "metadata": {},
   "outputs": [],
   "source": [
    "palettes = pd.read_table(\"palettes.txt\", header=None)"
   ]
  },
  {
   "cell_type": "code",
   "execution_count": 125,
   "metadata": {},
   "outputs": [
    {
     "data": {
      "text/plain": [
       "['a-balcony-in-the-forest',\n",
       " '#59574F',\n",
       " '#CAC7BF',\n",
       " '#AEA467',\n",
       " '#7C826E',\n",
       " '#252021']"
      ]
     },
     "execution_count": 125,
     "metadata": {},
     "output_type": "execute_result"
    }
   ],
   "source": [
    "palettes_list = [palettes[0][i] for i in range(0, len(palettes))]\n",
    "palettes_list[0:6]"
   ]
  },
  {
   "cell_type": "code",
   "execution_count": 126,
   "metadata": {},
   "outputs": [],
   "source": [
    "hex_cols = []\n",
    "titles = []\n",
    "for i in range(0, len(hmm)):\n",
    "    check = re.search('#[0-9A-F]{6}', hmm[0][i])\n",
    "    if check:\n",
    "        hex_cols.append(check[0])\n",
    "    else:\n",
    "        titles.append(hmm[0][i])"
   ]
  },
  {
   "cell_type": "code",
   "execution_count": 127,
   "metadata": {},
   "outputs": [
    {
     "data": {
      "text/plain": [
       "486"
      ]
     },
     "execution_count": 127,
     "metadata": {},
     "output_type": "execute_result"
    }
   ],
   "source": [
    "# check that all titles are read\n",
    "len(titles) "
   ]
  },
  {
   "cell_type": "code",
   "execution_count": 128,
   "metadata": {},
   "outputs": [
    {
     "data": {
      "text/plain": [
       "486.0"
      ]
     },
     "execution_count": 128,
     "metadata": {},
     "output_type": "execute_result"
    }
   ],
   "source": [
    "# check that there are five colors for every title\n",
    "len(hex_cols)/5 "
   ]
  },
  {
   "cell_type": "code",
   "execution_count": 131,
   "metadata": {},
   "outputs": [
    {
     "data": {
      "text/plain": [
       "0       a-balcony-in-the-forest\n",
       "2910                       zama\n",
       "Name: 0, dtype: object"
      ]
     },
     "execution_count": 131,
     "metadata": {},
     "output_type": "execute_result"
    }
   ],
   "source": [
    "# check first and last titles\n",
    "script_titles = palettes[0][0::6]\n",
    "script_titles.iloc[[0,len(script_titles) - 1]]"
   ]
  },
  {
   "cell_type": "code",
   "execution_count": 250,
   "metadata": {},
   "outputs": [],
   "source": [
    "titles_list = [[i] * 5 for i in titles]\n",
    "titles_rep = []\n",
    "for i in range(0, len(titles_list)):\n",
    "    for j in range(0,5):\n",
    "        titles_rep.append(titles_list[i][j])"
   ]
  },
  {
   "cell_type": "code",
   "execution_count": 257,
   "metadata": {},
   "outputs": [],
   "source": [
    "titles_swatches = pd.concat([pd.DataFrame(titles_rep), pd.DataFrame(hex_cols)], axis=1)\n",
    "titles_swatches.columns = ['title', 'color']"
   ]
  },
  {
   "cell_type": "code",
   "execution_count": 264,
   "metadata": {},
   "outputs": [
    {
     "data": {
      "text/html": [
       "<div>\n",
       "<style scoped>\n",
       "    .dataframe tbody tr th:only-of-type {\n",
       "        vertical-align: middle;\n",
       "    }\n",
       "\n",
       "    .dataframe tbody tr th {\n",
       "        vertical-align: top;\n",
       "    }\n",
       "\n",
       "    .dataframe thead th {\n",
       "        text-align: right;\n",
       "    }\n",
       "</style>\n",
       "<table border=\"1\" class=\"dataframe\">\n",
       "  <thead>\n",
       "    <tr style=\"text-align: right;\">\n",
       "      <th></th>\n",
       "      <th>title</th>\n",
       "      <th>color</th>\n",
       "    </tr>\n",
       "  </thead>\n",
       "  <tbody>\n",
       "    <tr>\n",
       "      <th>0</th>\n",
       "      <td>a-balcony-in-the-forest</td>\n",
       "      <td>#59574F</td>\n",
       "    </tr>\n",
       "    <tr>\n",
       "      <th>1</th>\n",
       "      <td>a-balcony-in-the-forest</td>\n",
       "      <td>#CAC7BF</td>\n",
       "    </tr>\n",
       "    <tr>\n",
       "      <th>2</th>\n",
       "      <td>a-balcony-in-the-forest</td>\n",
       "      <td>#AEA467</td>\n",
       "    </tr>\n",
       "    <tr>\n",
       "      <th>3</th>\n",
       "      <td>a-balcony-in-the-forest</td>\n",
       "      <td>#7C826E</td>\n",
       "    </tr>\n",
       "    <tr>\n",
       "      <th>4</th>\n",
       "      <td>a-balcony-in-the-forest</td>\n",
       "      <td>#252021</td>\n",
       "    </tr>\n",
       "    <tr>\n",
       "      <th>5</th>\n",
       "      <td>a-book-of-mediterranean-food</td>\n",
       "      <td>#679067</td>\n",
       "    </tr>\n",
       "    <tr>\n",
       "      <th>6</th>\n",
       "      <td>a-book-of-mediterranean-food</td>\n",
       "      <td>#4A4543</td>\n",
       "    </tr>\n",
       "    <tr>\n",
       "      <th>7</th>\n",
       "      <td>a-book-of-mediterranean-food</td>\n",
       "      <td>#AA634D</td>\n",
       "    </tr>\n",
       "    <tr>\n",
       "      <th>8</th>\n",
       "      <td>a-book-of-mediterranean-food</td>\n",
       "      <td>#E1C06B</td>\n",
       "    </tr>\n",
       "    <tr>\n",
       "      <th>9</th>\n",
       "      <td>a-book-of-mediterranean-food</td>\n",
       "      <td>#D7CFC0</td>\n",
       "    </tr>\n",
       "    <tr>\n",
       "      <th>10</th>\n",
       "      <td>a-fairly-good-time</td>\n",
       "      <td>#4B4237</td>\n",
       "    </tr>\n",
       "    <tr>\n",
       "      <th>11</th>\n",
       "      <td>a-fairly-good-time</td>\n",
       "      <td>#C33E3A</td>\n",
       "    </tr>\n",
       "    <tr>\n",
       "      <th>12</th>\n",
       "      <td>a-fairly-good-time</td>\n",
       "      <td>#232323</td>\n",
       "    </tr>\n",
       "    <tr>\n",
       "      <th>13</th>\n",
       "      <td>a-fairly-good-time</td>\n",
       "      <td>#D3D2D1</td>\n",
       "    </tr>\n",
       "    <tr>\n",
       "      <th>14</th>\n",
       "      <td>a-fairly-good-time</td>\n",
       "      <td>#565656</td>\n",
       "    </tr>\n",
       "    <tr>\n",
       "      <th>15</th>\n",
       "      <td>a-favourite-of-the-gods-and-a-compass-error</td>\n",
       "      <td>#7B726E</td>\n",
       "    </tr>\n",
       "    <tr>\n",
       "      <th>16</th>\n",
       "      <td>a-favourite-of-the-gods-and-a-compass-error</td>\n",
       "      <td>#AF9E49</td>\n",
       "    </tr>\n",
       "    <tr>\n",
       "      <th>17</th>\n",
       "      <td>a-favourite-of-the-gods-and-a-compass-error</td>\n",
       "      <td>#ACBEBB</td>\n",
       "    </tr>\n",
       "    <tr>\n",
       "      <th>18</th>\n",
       "      <td>a-favourite-of-the-gods-and-a-compass-error</td>\n",
       "      <td>#504E48</td>\n",
       "    </tr>\n",
       "    <tr>\n",
       "      <th>19</th>\n",
       "      <td>a-favourite-of-the-gods-and-a-compass-error</td>\n",
       "      <td>#151416</td>\n",
       "    </tr>\n",
       "    <tr>\n",
       "      <th>20</th>\n",
       "      <td>a-game-of-hide-and-seek</td>\n",
       "      <td>#AAAAAB</td>\n",
       "    </tr>\n",
       "    <tr>\n",
       "      <th>21</th>\n",
       "      <td>a-game-of-hide-and-seek</td>\n",
       "      <td>#5B5B5C</td>\n",
       "    </tr>\n",
       "    <tr>\n",
       "      <th>22</th>\n",
       "      <td>a-game-of-hide-and-seek</td>\n",
       "      <td>#CDCDCD</td>\n",
       "    </tr>\n",
       "    <tr>\n",
       "      <th>23</th>\n",
       "      <td>a-game-of-hide-and-seek</td>\n",
       "      <td>#817C87</td>\n",
       "    </tr>\n",
       "    <tr>\n",
       "      <th>24</th>\n",
       "      <td>a-game-of-hide-and-seek</td>\n",
       "      <td>#181818</td>\n",
       "    </tr>\n",
       "    <tr>\n",
       "      <th>25</th>\n",
       "      <td>a-handbook-on-hanging</td>\n",
       "      <td>#3A1014</td>\n",
       "    </tr>\n",
       "    <tr>\n",
       "      <th>26</th>\n",
       "      <td>a-handbook-on-hanging</td>\n",
       "      <td>#E2AC9A</td>\n",
       "    </tr>\n",
       "    <tr>\n",
       "      <th>27</th>\n",
       "      <td>a-handbook-on-hanging</td>\n",
       "      <td>#BD4A54</td>\n",
       "    </tr>\n",
       "    <tr>\n",
       "      <th>28</th>\n",
       "      <td>a-handbook-on-hanging</td>\n",
       "      <td>#E97987</td>\n",
       "    </tr>\n",
       "    <tr>\n",
       "      <th>29</th>\n",
       "      <td>a-handbook-on-hanging</td>\n",
       "      <td>#631924</td>\n",
       "    </tr>\n",
       "    <tr>\n",
       "      <th>...</th>\n",
       "      <td>...</td>\n",
       "      <td>...</td>\n",
       "    </tr>\n",
       "    <tr>\n",
       "      <th>2400</th>\n",
       "      <td>wish-her-safe-at-home</td>\n",
       "      <td>#927969</td>\n",
       "    </tr>\n",
       "    <tr>\n",
       "      <th>2401</th>\n",
       "      <td>wish-her-safe-at-home</td>\n",
       "      <td>#EAD8D1</td>\n",
       "    </tr>\n",
       "    <tr>\n",
       "      <th>2402</th>\n",
       "      <td>wish-her-safe-at-home</td>\n",
       "      <td>#59564D</td>\n",
       "    </tr>\n",
       "    <tr>\n",
       "      <th>2403</th>\n",
       "      <td>wish-her-safe-at-home</td>\n",
       "      <td>#9DA5A5</td>\n",
       "    </tr>\n",
       "    <tr>\n",
       "      <th>2404</th>\n",
       "      <td>wish-her-safe-at-home</td>\n",
       "      <td>#130C0A</td>\n",
       "    </tr>\n",
       "    <tr>\n",
       "      <th>2405</th>\n",
       "      <td>witch-grass</td>\n",
       "      <td>#A3A19E</td>\n",
       "    </tr>\n",
       "    <tr>\n",
       "      <th>2406</th>\n",
       "      <td>witch-grass</td>\n",
       "      <td>#4C1834</td>\n",
       "    </tr>\n",
       "    <tr>\n",
       "      <th>2407</th>\n",
       "      <td>witch-grass</td>\n",
       "      <td>#F2F1F0</td>\n",
       "    </tr>\n",
       "    <tr>\n",
       "      <th>2408</th>\n",
       "      <td>witch-grass</td>\n",
       "      <td>#61605D</td>\n",
       "    </tr>\n",
       "    <tr>\n",
       "      <th>2409</th>\n",
       "      <td>witch-grass</td>\n",
       "      <td>#887F74</td>\n",
       "    </tr>\n",
       "    <tr>\n",
       "      <th>2410</th>\n",
       "      <td>youll-enjoy-it-when-you-get-there</td>\n",
       "      <td>#AFA24E</td>\n",
       "    </tr>\n",
       "    <tr>\n",
       "      <th>2411</th>\n",
       "      <td>youll-enjoy-it-when-you-get-there</td>\n",
       "      <td>#D3CAA6</td>\n",
       "    </tr>\n",
       "    <tr>\n",
       "      <th>2412</th>\n",
       "      <td>youll-enjoy-it-when-you-get-there</td>\n",
       "      <td>#5E7122</td>\n",
       "    </tr>\n",
       "    <tr>\n",
       "      <th>2413</th>\n",
       "      <td>youll-enjoy-it-when-you-get-there</td>\n",
       "      <td>#489EAB</td>\n",
       "    </tr>\n",
       "    <tr>\n",
       "      <th>2414</th>\n",
       "      <td>youll-enjoy-it-when-you-get-there</td>\n",
       "      <td>#0C0C06</td>\n",
       "    </tr>\n",
       "    <tr>\n",
       "      <th>2415</th>\n",
       "      <td>young-man-with-a-horn</td>\n",
       "      <td>#D7AC65</td>\n",
       "    </tr>\n",
       "    <tr>\n",
       "      <th>2416</th>\n",
       "      <td>young-man-with-a-horn</td>\n",
       "      <td>#D95B2B</td>\n",
       "    </tr>\n",
       "    <tr>\n",
       "      <th>2417</th>\n",
       "      <td>young-man-with-a-horn</td>\n",
       "      <td>#9A581E</td>\n",
       "    </tr>\n",
       "    <tr>\n",
       "      <th>2418</th>\n",
       "      <td>young-man-with-a-horn</td>\n",
       "      <td>#613B2C</td>\n",
       "    </tr>\n",
       "    <tr>\n",
       "      <th>2419</th>\n",
       "      <td>young-man-with-a-horn</td>\n",
       "      <td>#1C1010</td>\n",
       "    </tr>\n",
       "    <tr>\n",
       "      <th>2420</th>\n",
       "      <td>young-once</td>\n",
       "      <td>#A8A5A8</td>\n",
       "    </tr>\n",
       "    <tr>\n",
       "      <th>2421</th>\n",
       "      <td>young-once</td>\n",
       "      <td>#E3E2E4</td>\n",
       "    </tr>\n",
       "    <tr>\n",
       "      <th>2422</th>\n",
       "      <td>young-once</td>\n",
       "      <td>#574448</td>\n",
       "    </tr>\n",
       "    <tr>\n",
       "      <th>2423</th>\n",
       "      <td>young-once</td>\n",
       "      <td>#89785F</td>\n",
       "    </tr>\n",
       "    <tr>\n",
       "      <th>2424</th>\n",
       "      <td>young-once</td>\n",
       "      <td>#1D1C1E</td>\n",
       "    </tr>\n",
       "    <tr>\n",
       "      <th>2425</th>\n",
       "      <td>zama</td>\n",
       "      <td>#8F7064</td>\n",
       "    </tr>\n",
       "    <tr>\n",
       "      <th>2426</th>\n",
       "      <td>zama</td>\n",
       "      <td>#B1AB9D</td>\n",
       "    </tr>\n",
       "    <tr>\n",
       "      <th>2427</th>\n",
       "      <td>zama</td>\n",
       "      <td>#56281E</td>\n",
       "    </tr>\n",
       "    <tr>\n",
       "      <th>2428</th>\n",
       "      <td>zama</td>\n",
       "      <td>#EDE4C7</td>\n",
       "    </tr>\n",
       "    <tr>\n",
       "      <th>2429</th>\n",
       "      <td>zama</td>\n",
       "      <td>#565553</td>\n",
       "    </tr>\n",
       "  </tbody>\n",
       "</table>\n",
       "<p>2430 rows × 2 columns</p>\n",
       "</div>"
      ],
      "text/plain": [
       "                                            title    color\n",
       "0                         a-balcony-in-the-forest  #59574F\n",
       "1                         a-balcony-in-the-forest  #CAC7BF\n",
       "2                         a-balcony-in-the-forest  #AEA467\n",
       "3                         a-balcony-in-the-forest  #7C826E\n",
       "4                         a-balcony-in-the-forest  #252021\n",
       "5                    a-book-of-mediterranean-food  #679067\n",
       "6                    a-book-of-mediterranean-food  #4A4543\n",
       "7                    a-book-of-mediterranean-food  #AA634D\n",
       "8                    a-book-of-mediterranean-food  #E1C06B\n",
       "9                    a-book-of-mediterranean-food  #D7CFC0\n",
       "10                             a-fairly-good-time  #4B4237\n",
       "11                             a-fairly-good-time  #C33E3A\n",
       "12                             a-fairly-good-time  #232323\n",
       "13                             a-fairly-good-time  #D3D2D1\n",
       "14                             a-fairly-good-time  #565656\n",
       "15    a-favourite-of-the-gods-and-a-compass-error  #7B726E\n",
       "16    a-favourite-of-the-gods-and-a-compass-error  #AF9E49\n",
       "17    a-favourite-of-the-gods-and-a-compass-error  #ACBEBB\n",
       "18    a-favourite-of-the-gods-and-a-compass-error  #504E48\n",
       "19    a-favourite-of-the-gods-and-a-compass-error  #151416\n",
       "20                        a-game-of-hide-and-seek  #AAAAAB\n",
       "21                        a-game-of-hide-and-seek  #5B5B5C\n",
       "22                        a-game-of-hide-and-seek  #CDCDCD\n",
       "23                        a-game-of-hide-and-seek  #817C87\n",
       "24                        a-game-of-hide-and-seek  #181818\n",
       "25                          a-handbook-on-hanging  #3A1014\n",
       "26                          a-handbook-on-hanging  #E2AC9A\n",
       "27                          a-handbook-on-hanging  #BD4A54\n",
       "28                          a-handbook-on-hanging  #E97987\n",
       "29                          a-handbook-on-hanging  #631924\n",
       "...                                           ...      ...\n",
       "2400                        wish-her-safe-at-home  #927969\n",
       "2401                        wish-her-safe-at-home  #EAD8D1\n",
       "2402                        wish-her-safe-at-home  #59564D\n",
       "2403                        wish-her-safe-at-home  #9DA5A5\n",
       "2404                        wish-her-safe-at-home  #130C0A\n",
       "2405                                  witch-grass  #A3A19E\n",
       "2406                                  witch-grass  #4C1834\n",
       "2407                                  witch-grass  #F2F1F0\n",
       "2408                                  witch-grass  #61605D\n",
       "2409                                  witch-grass  #887F74\n",
       "2410            youll-enjoy-it-when-you-get-there  #AFA24E\n",
       "2411            youll-enjoy-it-when-you-get-there  #D3CAA6\n",
       "2412            youll-enjoy-it-when-you-get-there  #5E7122\n",
       "2413            youll-enjoy-it-when-you-get-there  #489EAB\n",
       "2414            youll-enjoy-it-when-you-get-there  #0C0C06\n",
       "2415                        young-man-with-a-horn  #D7AC65\n",
       "2416                        young-man-with-a-horn  #D95B2B\n",
       "2417                        young-man-with-a-horn  #9A581E\n",
       "2418                        young-man-with-a-horn  #613B2C\n",
       "2419                        young-man-with-a-horn  #1C1010\n",
       "2420                                   young-once  #A8A5A8\n",
       "2421                                   young-once  #E3E2E4\n",
       "2422                                   young-once  #574448\n",
       "2423                                   young-once  #89785F\n",
       "2424                                   young-once  #1D1C1E\n",
       "2425                                         zama  #8F7064\n",
       "2426                                         zama  #B1AB9D\n",
       "2427                                         zama  #56281E\n",
       "2428                                         zama  #EDE4C7\n",
       "2429                                         zama  #565553\n",
       "\n",
       "[2430 rows x 2 columns]"
      ]
     },
     "execution_count": 264,
     "metadata": {},
     "output_type": "execute_result"
    }
   ],
   "source": [
    "titles_swatches"
   ]
  },
  {
   "cell_type": "markdown",
   "metadata": {},
   "source": [
    "### NEED TO FIX:\n",
    "- Eileen Chang's page - country should be China?, not Chile\n",
    "- Proensa volume should be by various authors\n",
    "- Research and fix \"translated\" mark in original_language \n",
    "- include OOP books in actual dataset\n",
    "- why is 500 books not actually 500?\n",
    "- We Think the World of You has a different cover??? investigate -- which books have been republished with new covers? slug is \"we-think-the-world-of-you-3\" ?? are there 1 and 2?\n",
    "- differentiate between covers with the traditional square covers and those without\n",
    "- creating palettes not always working -- sometimes histogram made for the wrong/previous book\n",
    "- also not all palettes are being made and recorded ****\n",
    "- belchamber not quantized because of too few colors; equal danger hand processed for colors (why didn't it work in the automated script?)\n",
    "- need a way to check palettes against book colors"
   ]
  },
  {
   "cell_type": "code",
   "execution_count": 198,
   "metadata": {},
   "outputs": [],
   "source": [
    "fake_list = [\n",
    "    dict(slug=\"war-and-peace\", color1=\"gray\", color2=\"steelblue\", color3=\"blue\", color4=\"orange\", color5=\"red\"),\n",
    "    dict(slug=\"factfulness\", color1=\"gray\", color2=\"steelblue\", color3=\"blue\", color4=\"orange\", color5=\"red\"),\n",
    "]"
   ]
  },
  {
   "cell_type": "code",
   "execution_count": 199,
   "metadata": {},
   "outputs": [],
   "source": [
    "CSS_TEMPLATE = \"\"\"\n",
    ".%(slug)s .color1 { background-color: %(color1)s }\n",
    ".%(slug)s .color2 { background-color: %(color2)s }\n",
    ".%(slug)s .color3 { background-color:  %(color3)s }\n",
    ".%(slug)s .color4 { background-color: %(color4)s }\n",
    ".%(slug)s .color5 { background-color: %(color5)s }\n",
    "\"\"\""
   ]
  },
  {
   "cell_type": "code",
   "execution_count": 200,
   "metadata": {},
   "outputs": [],
   "source": [
    "HTML_TEMPLATE = \"\"\"\n",
    "<section>\n",
    "    <h3>{slug}</h3>\n",
    "    <div class=\"book {slug}\">\n",
    "        <div class=\"swatch color1\"></div>\n",
    "        <div class=\"swatch color2\"></div>\n",
    "        <div class=\"swatch color3\"></div>\n",
    "        <div class=\"swatch color4\"></div>\n",
    "        <div class=\"swatch color5\"></div>\n",
    "    </div>\n",
    "</section>\n",
    "\"\"\""
   ]
  },
  {
   "cell_type": "code",
   "execution_count": 201,
   "metadata": {},
   "outputs": [],
   "source": [
    "css = \"\"\n",
    "html = \"\""
   ]
  },
  {
   "cell_type": "code",
   "execution_count": 202,
   "metadata": {},
   "outputs": [],
   "source": [
    "for book in fake_list:\n",
    "    css += CSS_TEMPLATE % book\n",
    "    html += HTML_TEMPLATE.format(**book)"
   ]
  },
  {
   "cell_type": "code",
   "execution_count": 203,
   "metadata": {},
   "outputs": [],
   "source": [
    "with open(\"swatch.html\", 'w') as f:\n",
    "    f.write(\"<head>\")\n",
    "    f.write(\"<link href='style.css' rel='stylesheet' type='text/css'>\")\n",
    "    f.write(\"<style type='text/css'>\")\n",
    "    f.write(css)\n",
    "    f.write(\"</style>\")\n",
    "    f.write(\"</head>\")\n",
    "    f.write(\"<body>\")\n",
    "    f.write(html)\n",
    "    f.write(\"</body>\")"
   ]
  },
  {
   "cell_type": "code",
   "execution_count": 231,
   "metadata": {},
   "outputs": [
    {
     "data": {
      "text/html": [
       "<div>\n",
       "<style scoped>\n",
       "    .dataframe tbody tr th:only-of-type {\n",
       "        vertical-align: middle;\n",
       "    }\n",
       "\n",
       "    .dataframe tbody tr th {\n",
       "        vertical-align: top;\n",
       "    }\n",
       "\n",
       "    .dataframe thead th {\n",
       "        text-align: right;\n",
       "    }\n",
       "</style>\n",
       "<table border=\"1\" class=\"dataframe\">\n",
       "  <thead>\n",
       "    <tr style=\"text-align: right;\">\n",
       "      <th></th>\n",
       "      <th>0</th>\n",
       "      <th>1</th>\n",
       "    </tr>\n",
       "  </thead>\n",
       "  <tbody>\n",
       "    <tr>\n",
       "      <th>0</th>\n",
       "      <td>1</td>\n",
       "      <td>2</td>\n",
       "    </tr>\n",
       "    <tr>\n",
       "      <th>1</th>\n",
       "      <td>2</td>\n",
       "      <td>3</td>\n",
       "    </tr>\n",
       "    <tr>\n",
       "      <th>2</th>\n",
       "      <td>3</td>\n",
       "      <td>4</td>\n",
       "    </tr>\n",
       "  </tbody>\n",
       "</table>\n",
       "</div>"
      ],
      "text/plain": [
       "   0  1\n",
       "0  1  2\n",
       "1  2  3\n",
       "2  3  4"
      ]
     },
     "execution_count": 231,
     "metadata": {},
     "output_type": "execute_result"
    }
   ],
   "source": [
    "\n"
   ]
  },
  {
   "cell_type": "code",
   "execution_count": null,
   "metadata": {},
   "outputs": [],
   "source": []
  }
 ],
 "metadata": {
  "kernelspec": {
   "display_name": "Python 3",
   "language": "python",
   "name": "python3"
  },
  "language_info": {
   "codemirror_mode": {
    "name": "ipython",
    "version": 3
   },
   "file_extension": ".py",
   "mimetype": "text/x-python",
   "name": "python",
   "nbconvert_exporter": "python",
   "pygments_lexer": "ipython3",
   "version": "3.6.5"
  }
 },
 "nbformat": 4,
 "nbformat_minor": 2
}
