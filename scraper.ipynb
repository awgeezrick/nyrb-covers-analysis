{
 "cells": [
  {
   "cell_type": "markdown",
   "metadata": {},
   "source": [
    "# NYRB Classics Color Analysis"
   ]
  },
  {
   "cell_type": "markdown",
   "metadata": {},
   "source": [
    "### Collect All NYRB Classics into a Dataset"
   ]
  },
  {
   "cell_type": "code",
   "execution_count": 1,
   "metadata": {},
   "outputs": [],
   "source": [
    "import re\n",
    "import requests\n",
    "import pandas as pd\n",
    "import urllib.request\n",
    "from bs4 import BeautifulSoup\n",
    "from datetime import datetime"
   ]
  },
  {
   "cell_type": "code",
   "execution_count": 2,
   "metadata": {},
   "outputs": [],
   "source": [
    "# Create list of relevant URLs\n",
    "base_url = 'https://www.nyrb.com/collections/classics'\n",
    "url_list = [\"{}?page={}\".format(base_url, str(page)) for page in range(1,10)]"
   ]
  },
  {
   "cell_type": "code",
   "execution_count": 3,
   "metadata": {},
   "outputs": [
    {
     "name": "stdout",
     "output_type": "stream",
     "text": [
      "Processing https://www.nyrb.com/collections/classics?page=1\n",
      "Processing https://www.nyrb.com/collections/classics?page=2\n",
      "Processing https://www.nyrb.com/collections/classics?page=3\n",
      "Processing https://www.nyrb.com/collections/classics?page=4\n",
      "Processing https://www.nyrb.com/collections/classics?page=5\n",
      "Processing https://www.nyrb.com/collections/classics?page=6\n",
      "Processing https://www.nyrb.com/collections/classics?page=7\n",
      "Processing https://www.nyrb.com/collections/classics?page=8\n",
      "Processing https://www.nyrb.com/collections/classics?page=9\n"
     ]
    }
   ],
   "source": [
    "# Retrieve information and parse through BeautifulSoup\n",
    "stack = []\n",
    "for url_ in url_list:\n",
    "    print(\"Processing {}\".format(url_))\n",
    "    r_new = requests.get(url_)\n",
    "    soup_new = BeautifulSoup(r_new.text, \"html5lib\")\n",
    "    for div in soup_new.find_all(\"div\", class_=\"product\"):\n",
    "        stack.append(div)"
   ]
  },
  {
   "cell_type": "code",
   "execution_count": 4,
   "metadata": {},
   "outputs": [],
   "source": [
    "# Parse bs4 ResultSet for information of interest - returns dictionary of values\n",
    "def parse_product(product):\n",
    "    \n",
    "    # print(product)\n",
    "    title = product.find(\"h4\").text\n",
    "    img = product.find(\"img\")['src'][2:]\n",
    "    detail = product.find(\"a\")['href']\n",
    "    nyrb_pub_date = pd.to_datetime(product['data-pubdate'])  # use this to filter published Classics from forthcoming Classics \n",
    "    \n",
    "    return {\n",
    "        \"title\": title,\n",
    "        \"img\": img, \n",
    "        \"detail\": detail,\n",
    "        \"nyrb_pub_date\": nyrb_pub_date\n",
    "    }"
   ]
  },
  {
   "cell_type": "code",
   "execution_count": 5,
   "metadata": {},
   "outputs": [],
   "source": [
    "# Parse information and add it to a pandas dataframe\n",
    "all_books = pd.DataFrame()\n",
    "for i in range(0, len(stack)):\n",
    "    prod = parse_product(stack[i])\n",
    "    prod = pd.DataFrame(prod, index=[0])\n",
    "    all_books = all_books.append(prod)"
   ]
  },
  {
   "cell_type": "code",
   "execution_count": 6,
   "metadata": {},
   "outputs": [],
   "source": [
    "# Filter to exclude forthcoming publications\n",
    "books = all_books[all_books['nyrb_pub_date'] <= datetime.today()]\n",
    "books = books.reset_index()"
   ]
  },
  {
   "cell_type": "code",
   "execution_count": 7,
   "metadata": {},
   "outputs": [],
   "source": [
    "# Include Out of Print books\n",
    "oop = {\n",
    "    \"title\": ['Letty Fox: Her Luck',\n",
    "               'To the Finland Station',\n",
    "               'The Diary of a Rapist',\n",
    "               'The Man Who Watched Trains Go By',\n",
    "               'The Sorrow Beyond Dreams',\n",
    "               'Selected Stories of Robert Walser',\n",
    "               'The Towers of Trebizond'],\n",
    "    \"img\": ['https://images.gr-assets.com/books/1320400476l/132508.jpg',\n",
    "             'https://images.gr-assets.com/books/1320440378l/694282.jpg',\n",
    "             'https://i2.wp.com/i4.photobucket.com/albums/y126/paradorlounge/159017094601LZZZZZZZ.jpg', \n",
    "             'https://images-na.ssl-images-amazon.com/images/I/41LLjzL%2B%2BML._SX311_BO1,204,203,200_.jpg',\n",
    "             'https://images-na.ssl-images-amazon.com/images/I/41B238tikhL._SX294_BO1,204,203,200_.jpg',\n",
    "             'https://images.gr-assets.com/books/1320472249l/160313.jpg',\n",
    "             'https://images.gr-assets.com/books/1386748970l/192954.jpg'],\n",
    "    \"detail\": ['NA', 'NA', 'NA', 'NA', 'NA', 'NA', 'NA'],\n",
    "    \"nyrb_pub_date\": ['NA', 'NA', 'NA', 'NA', 'NA', 'NA', 'NA']\n",
    "}"
   ]
  },
  {
   "cell_type": "code",
   "execution_count": 8,
   "metadata": {},
   "outputs": [
    {
     "data": {
      "text/html": [
       "<div>\n",
       "<style scoped>\n",
       "    .dataframe tbody tr th:only-of-type {\n",
       "        vertical-align: middle;\n",
       "    }\n",
       "\n",
       "    .dataframe tbody tr th {\n",
       "        vertical-align: top;\n",
       "    }\n",
       "\n",
       "    .dataframe thead th {\n",
       "        text-align: right;\n",
       "    }\n",
       "</style>\n",
       "<table border=\"1\" class=\"dataframe\">\n",
       "  <thead>\n",
       "    <tr style=\"text-align: right;\">\n",
       "      <th></th>\n",
       "      <th>index</th>\n",
       "      <th>title</th>\n",
       "      <th>img</th>\n",
       "      <th>detail</th>\n",
       "      <th>nyrb_pub_date</th>\n",
       "    </tr>\n",
       "  </thead>\n",
       "  <tbody>\n",
       "    <tr>\n",
       "      <th>0</th>\n",
       "      <td>0</td>\n",
       "      <td>Journey into the Mind's Eye</td>\n",
       "      <td>cdn.shopify.com/s/files/1/0726/9203/products/J...</td>\n",
       "      <td>/collections/classics/products/journey-into-th...</td>\n",
       "      <td>2018-07-10</td>\n",
       "    </tr>\n",
       "    <tr>\n",
       "      <th>1</th>\n",
       "      <td>0</td>\n",
       "      <td>Sand</td>\n",
       "      <td>cdn.shopify.com/s/files/1/0726/9203/products/S...</td>\n",
       "      <td>/collections/classics/products/sand</td>\n",
       "      <td>2018-06-12</td>\n",
       "    </tr>\n",
       "    <tr>\n",
       "      <th>2</th>\n",
       "      <td>0</td>\n",
       "      <td>Havoc</td>\n",
       "      <td>cdn.shopify.com/s/files/1/0726/9203/products/H...</td>\n",
       "      <td>/collections/classics/products/havoc</td>\n",
       "      <td>2018-06-12</td>\n",
       "    </tr>\n",
       "    <tr>\n",
       "      <th>3</th>\n",
       "      <td>0</td>\n",
       "      <td>The Seventh Cross</td>\n",
       "      <td>cdn.shopify.com/s/files/1/0726/9203/products/s...</td>\n",
       "      <td>/collections/classics/products/the-seventh-cross</td>\n",
       "      <td>2018-05-22</td>\n",
       "    </tr>\n",
       "    <tr>\n",
       "      <th>4</th>\n",
       "      <td>0</td>\n",
       "      <td>Compulsory Games</td>\n",
       "      <td>cdn.shopify.com/s/files/1/0726/9203/products/9...</td>\n",
       "      <td>/collections/classics/products/compulsory-games</td>\n",
       "      <td>2018-05-08</td>\n",
       "    </tr>\n",
       "    <tr>\n",
       "      <th>5</th>\n",
       "      <td>0</td>\n",
       "      <td>Basic Black with Pearls</td>\n",
       "      <td>cdn.shopify.com/s/files/1/0726/9203/products/B...</td>\n",
       "      <td>/collections/classics/products/basic-black-wit...</td>\n",
       "      <td>2018-04-17</td>\n",
       "    </tr>\n",
       "  </tbody>\n",
       "</table>\n",
       "</div>"
      ],
      "text/plain": [
       "   index                        title  \\\n",
       "0      0  Journey into the Mind's Eye   \n",
       "1      0                         Sand   \n",
       "2      0                        Havoc   \n",
       "3      0            The Seventh Cross   \n",
       "4      0             Compulsory Games   \n",
       "5      0      Basic Black with Pearls   \n",
       "\n",
       "                                                 img  \\\n",
       "0  cdn.shopify.com/s/files/1/0726/9203/products/J...   \n",
       "1  cdn.shopify.com/s/files/1/0726/9203/products/S...   \n",
       "2  cdn.shopify.com/s/files/1/0726/9203/products/H...   \n",
       "3  cdn.shopify.com/s/files/1/0726/9203/products/s...   \n",
       "4  cdn.shopify.com/s/files/1/0726/9203/products/9...   \n",
       "5  cdn.shopify.com/s/files/1/0726/9203/products/B...   \n",
       "\n",
       "                                              detail nyrb_pub_date  \n",
       "0  /collections/classics/products/journey-into-th...    2018-07-10  \n",
       "1                /collections/classics/products/sand    2018-06-12  \n",
       "2               /collections/classics/products/havoc    2018-06-12  \n",
       "3   /collections/classics/products/the-seventh-cross    2018-05-22  \n",
       "4    /collections/classics/products/compulsory-games    2018-05-08  \n",
       "5  /collections/classics/products/basic-black-wit...    2018-04-17  "
      ]
     },
     "execution_count": 8,
     "metadata": {},
     "output_type": "execute_result"
    }
   ],
   "source": [
    "# Peep the dataset\n",
    "books[0:6]"
   ]
  },
  {
   "cell_type": "markdown",
   "metadata": {},
   "source": [
    "#### Quick Info about NYRB Classics Dataset"
   ]
  },
  {
   "cell_type": "code",
   "execution_count": 9,
   "metadata": {},
   "outputs": [
    {
     "name": "stdout",
     "output_type": "stream",
     "text": [
      "Number of books: 486\n",
      "Publication dates range from 1999-09-30 00:00:00 to 2018-07-10 00:00:00\n"
     ]
    }
   ],
   "source": [
    "print(\"Number of books: {}\".format(len(books)))\n",
    "print(\"Publication dates range from {} to {}\".format(min(books['nyrb_pub_date']), max(books['nyrb_pub_date'])))"
   ]
  },
  {
   "cell_type": "markdown",
   "metadata": {},
   "source": [
    "### Scrape information from individual book pages"
   ]
  },
  {
   "cell_type": "code",
   "execution_count": 10,
   "metadata": {},
   "outputs": [],
   "source": [
    "# Create list of relevant URLs from earlier collection\n",
    "base_url = 'https://www.nyrb.com'\n",
    "book_urls = [books['detail'][i] for i in range(0, len(books))]\n",
    "url_list = [\"{}{}\".format(base_url, url) for url in book_urls]"
   ]
  },
  {
   "cell_type": "code",
   "execution_count": 11,
   "metadata": {},
   "outputs": [],
   "source": [
    "# Retrieve information and parse through BeautifulSoup\n",
    "stack = []\n",
    "for url_ in url_list:\n",
    "    # print(\"Processing {}\".format(url_))\n",
    "    r_new = requests.get(url_)\n",
    "    soup_new = BeautifulSoup(r_new.text, \"html5lib\")\n",
    "    stack.append(soup_new)"
   ]
  },
  {
   "cell_type": "code",
   "execution_count": 12,
   "metadata": {},
   "outputs": [],
   "source": [
    "# Further parse BeautifulSoup for information of interest - returns dictionary of values\n",
    "def parse_details(book):\n",
    "    \n",
    "    # \"book\" is a BeautifulSoup object - right after calling BeautifulSoup()\n",
    "    title_str = str(book.find_all(\"div\", class_='span8')[0].find(\"h1\", class_='title'))\n",
    "    title = re.search(\">(.*?)<\", title_str).group(1)\n",
    "    people = book.find_all(\"div\", class_='span8')[0].find(\"h2\", class_=\"combined-authors\").text.strip()\n",
    "    isbn = book.find_all(\"div\", class_='description additional')[0].find(class_='variant-sku').text\n",
    "    more = book.find_all(\"div\", class_='description additional')[0].find(\"p\").text\n",
    "    tags_mess = book.find_all(\"div\",class_=\"span8\")[0].find(\"div\", class_=\"tags clearfix\").find_all(\"a\")\n",
    "    \n",
    "    # parse authors and language string\n",
    "    author = re.split(\",\", people)[0][3:]\n",
    "    try:\n",
    "        phrase = re.search('translated from the [a-zA-z]{1,10}', people).group(0)\n",
    "        language = re.split(\"\\s+\", phrase)[-1]\n",
    "    except AttributeError:\n",
    "        try:\n",
    "            language = re.search('translated', people).group(0)\n",
    "        except AttributeError:\n",
    "            language = 'English'\n",
    " \n",
    "    # parse additional information string\n",
    "    pages = re.split(\"\\s+\", re.split(\"\\s+\\s+\", more)[2])[1]\n",
    "    \n",
    "    # parse tags\n",
    "    l = []\n",
    "    for i in range(0, len(tags_mess)):\n",
    "        l.append(tags_mess[i].text)\n",
    "        \n",
    "    tags = \",\".join(l)\n",
    "    \n",
    "    return {\n",
    "        \"title\": title,\n",
    "        \"author\": author,\n",
    "        \"isbn\": isbn,\n",
    "        \"pages\": pages,\n",
    "        \"original_language\": language,\n",
    "        \"tags\": tags\n",
    "    }"
   ]
  },
  {
   "cell_type": "code",
   "execution_count": 13,
   "metadata": {},
   "outputs": [
    {
     "data": {
      "text/plain": [
       "{'author': 'Wolfgang Herrndorf',\n",
       " 'isbn': '9781681372013',\n",
       " 'original_language': 'German',\n",
       " 'pages': '464',\n",
       " 'tags': 'Available as E-Book,German Literature,Historical Fiction,Literary Fiction,Suspense & Crime',\n",
       " 'title': 'Sand'}"
      ]
     },
     "execution_count": 13,
     "metadata": {},
     "output_type": "execute_result"
    }
   ],
   "source": [
    "# Example\n",
    "parse_details(stack[1])"
   ]
  },
  {
   "cell_type": "code",
   "execution_count": 14,
   "metadata": {},
   "outputs": [],
   "source": [
    "# Parse information and add it to a pandas dataframe\n",
    "all_details = pd.DataFrame()\n",
    "for i in range(0, len(stack)):\n",
    "    details = parse_details(stack[i])\n",
    "    details = pd.DataFrame(details, index=[0])\n",
    "    all_details = all_details.append(details)"
   ]
  },
  {
   "cell_type": "code",
   "execution_count": 15,
   "metadata": {},
   "outputs": [
    {
     "data": {
      "text/html": [
       "<div>\n",
       "<style scoped>\n",
       "    .dataframe tbody tr th:only-of-type {\n",
       "        vertical-align: middle;\n",
       "    }\n",
       "\n",
       "    .dataframe tbody tr th {\n",
       "        vertical-align: top;\n",
       "    }\n",
       "\n",
       "    .dataframe thead th {\n",
       "        text-align: right;\n",
       "    }\n",
       "</style>\n",
       "<table border=\"1\" class=\"dataframe\">\n",
       "  <thead>\n",
       "    <tr style=\"text-align: right;\">\n",
       "      <th></th>\n",
       "      <th>index</th>\n",
       "      <th>title</th>\n",
       "      <th>author</th>\n",
       "      <th>isbn</th>\n",
       "      <th>pages</th>\n",
       "      <th>original_language</th>\n",
       "      <th>tags</th>\n",
       "    </tr>\n",
       "  </thead>\n",
       "  <tbody>\n",
       "    <tr>\n",
       "      <th>0</th>\n",
       "      <td>0</td>\n",
       "      <td>Journey into the Mind's Eye</td>\n",
       "      <td>Lesley Blanch</td>\n",
       "      <td>9781681371931</td>\n",
       "      <td>400</td>\n",
       "      <td>English</td>\n",
       "      <td>Available as E-Book,Biography &amp; Memoir,Literat...</td>\n",
       "    </tr>\n",
       "    <tr>\n",
       "      <th>1</th>\n",
       "      <td>0</td>\n",
       "      <td>Sand</td>\n",
       "      <td>Wolfgang Herrndorf</td>\n",
       "      <td>9781681372013</td>\n",
       "      <td>464</td>\n",
       "      <td>German</td>\n",
       "      <td>Available as E-Book,German Literature,Historic...</td>\n",
       "    </tr>\n",
       "    <tr>\n",
       "      <th>2</th>\n",
       "      <td>0</td>\n",
       "      <td>Havoc</td>\n",
       "      <td>Tom Kristensen</td>\n",
       "      <td>9781681372075</td>\n",
       "      <td>528</td>\n",
       "      <td>Danish</td>\n",
       "      <td>Available as E-Book,International Literature,L...</td>\n",
       "    </tr>\n",
       "    <tr>\n",
       "      <th>3</th>\n",
       "      <td>0</td>\n",
       "      <td>The Seventh Cross</td>\n",
       "      <td>Anna Seghers</td>\n",
       "      <td>9781681372129</td>\n",
       "      <td>416</td>\n",
       "      <td>German</td>\n",
       "      <td>Available as E-Book,German Literature,Historic...</td>\n",
       "    </tr>\n",
       "    <tr>\n",
       "      <th>4</th>\n",
       "      <td>0</td>\n",
       "      <td>Compulsory Games</td>\n",
       "      <td>Robert Aickman</td>\n",
       "      <td>9781681371894</td>\n",
       "      <td>368</td>\n",
       "      <td>English</td>\n",
       "      <td>Available as E-Book,British &amp; Irish Literature...</td>\n",
       "    </tr>\n",
       "    <tr>\n",
       "      <th>5</th>\n",
       "      <td>0</td>\n",
       "      <td>Basic Black with Pearls</td>\n",
       "      <td>Helen Weinzweig</td>\n",
       "      <td>9781681372167</td>\n",
       "      <td>160</td>\n",
       "      <td>English</td>\n",
       "      <td>Available as E-Book,Literary Fiction,Literatur...</td>\n",
       "    </tr>\n",
       "  </tbody>\n",
       "</table>\n",
       "</div>"
      ],
      "text/plain": [
       "   index                        title              author           isbn  \\\n",
       "0      0  Journey into the Mind's Eye       Lesley Blanch  9781681371931   \n",
       "1      0                         Sand  Wolfgang Herrndorf  9781681372013   \n",
       "2      0                        Havoc      Tom Kristensen  9781681372075   \n",
       "3      0            The Seventh Cross        Anna Seghers  9781681372129   \n",
       "4      0             Compulsory Games      Robert Aickman  9781681371894   \n",
       "5      0      Basic Black with Pearls     Helen Weinzweig  9781681372167   \n",
       "\n",
       "  pages original_language                                               tags  \n",
       "0   400           English  Available as E-Book,Biography & Memoir,Literat...  \n",
       "1   464            German  Available as E-Book,German Literature,Historic...  \n",
       "2   528            Danish  Available as E-Book,International Literature,L...  \n",
       "3   416            German  Available as E-Book,German Literature,Historic...  \n",
       "4   368           English  Available as E-Book,British & Irish Literature...  \n",
       "5   160           English  Available as E-Book,Literary Fiction,Literatur...  "
      ]
     },
     "execution_count": 15,
     "metadata": {},
     "output_type": "execute_result"
    }
   ],
   "source": [
    "# Peep the dataset\n",
    "all_details = all_details.reset_index()\n",
    "all_details[0:6]"
   ]
  },
  {
   "cell_type": "code",
   "execution_count": 16,
   "metadata": {},
   "outputs": [],
   "source": [
    "# For downloading images later\n",
    "books_urls = pd.concat([all_details, pd.DataFrame(book_urls)], axis=1)\n",
    "books_urls.rename(columns={books_urls.columns[-1]:'detail'}, inplace=True)\n",
    "imgs = pd.merge(books_urls, books, on='detail', how='inner')\n",
    "slugs = [re.split(\"/\", imgs['detail'][i])[-1] for i in range(0, len(imgs))]"
   ]
  },
  {
   "cell_type": "code",
   "execution_count": 17,
   "metadata": {},
   "outputs": [],
   "source": [
    "# Parse NYRB tags into list with corresponding titles\n",
    "tags_list = [re.split(\",\",all_details.tags[i]) for i in range(0, len(all_details))]\n",
    "titles = []\n",
    "nyrb_tags = []\n",
    "for tag_list in range(0, len(tags_list)):\n",
    "    for tag in range(0, len(tags_list[tag_list])):\n",
    "        nyrb_tags.append([tags_list[tag_list][tag]])\n",
    "        titles.append(all_details['title'][tag_list])"
   ]
  },
  {
   "cell_type": "code",
   "execution_count": 18,
   "metadata": {},
   "outputs": [
    {
     "data": {
      "text/html": [
       "<div>\n",
       "<style scoped>\n",
       "    .dataframe tbody tr th:only-of-type {\n",
       "        vertical-align: middle;\n",
       "    }\n",
       "\n",
       "    .dataframe tbody tr th {\n",
       "        vertical-align: top;\n",
       "    }\n",
       "\n",
       "    .dataframe thead th {\n",
       "        text-align: right;\n",
       "    }\n",
       "</style>\n",
       "<table border=\"1\" class=\"dataframe\">\n",
       "  <thead>\n",
       "    <tr style=\"text-align: right;\">\n",
       "      <th></th>\n",
       "      <th>title</th>\n",
       "      <th>nyrb_tag</th>\n",
       "    </tr>\n",
       "  </thead>\n",
       "  <tbody>\n",
       "    <tr>\n",
       "      <th>0</th>\n",
       "      <td>Journey into the Mind's Eye</td>\n",
       "      <td>Available as E-Book</td>\n",
       "    </tr>\n",
       "    <tr>\n",
       "      <th>1</th>\n",
       "      <td>Journey into the Mind's Eye</td>\n",
       "      <td>Biography &amp; Memoir</td>\n",
       "    </tr>\n",
       "    <tr>\n",
       "      <th>2</th>\n",
       "      <td>Journey into the Mind's Eye</td>\n",
       "      <td>Literature in English</td>\n",
       "    </tr>\n",
       "    <tr>\n",
       "      <th>3</th>\n",
       "      <td>Sand</td>\n",
       "      <td>Available as E-Book</td>\n",
       "    </tr>\n",
       "    <tr>\n",
       "      <th>4</th>\n",
       "      <td>Sand</td>\n",
       "      <td>German Literature</td>\n",
       "    </tr>\n",
       "    <tr>\n",
       "      <th>5</th>\n",
       "      <td>Sand</td>\n",
       "      <td>Historical Fiction</td>\n",
       "    </tr>\n",
       "  </tbody>\n",
       "</table>\n",
       "</div>"
      ],
      "text/plain": [
       "                         title               nyrb_tag\n",
       "0  Journey into the Mind's Eye    Available as E-Book\n",
       "1  Journey into the Mind's Eye     Biography & Memoir\n",
       "2  Journey into the Mind's Eye  Literature in English\n",
       "3                         Sand    Available as E-Book\n",
       "4                         Sand      German Literature\n",
       "5                         Sand     Historical Fiction"
      ]
     },
     "execution_count": 18,
     "metadata": {},
     "output_type": "execute_result"
    }
   ],
   "source": [
    "# Store books and tags information in dataframe\n",
    "books_n_tags = pd.concat([pd.DataFrame(titles), pd.DataFrame(nyrb_tags)], axis=1)\n",
    "books_n_tags.columns = ['title', 'nyrb_tag']\n",
    "books_n_tags[0:6]"
   ]
  },
  {
   "cell_type": "code",
   "execution_count": 19,
   "metadata": {},
   "outputs": [
    {
     "data": {
      "text/plain": [
       "Available as E-Book           322\n",
       "International Literature      226\n",
       "Literature in English         203\n",
       "Literary Fiction              190\n",
       "British & Irish Literature    116\n",
       "American Literature           100\n",
       "Name: nyrb_tag, dtype: int64"
      ]
     },
     "execution_count": 19,
     "metadata": {},
     "output_type": "execute_result"
    }
   ],
   "source": [
    "pd.DataFrame(books_n_tags).nyrb_tag.value_counts()[0:6]"
   ]
  },
  {
   "cell_type": "markdown",
   "metadata": {},
   "source": [
    "#### Quick Statistics about NYRB Classics - Details Dataset"
   ]
  },
  {
   "cell_type": "code",
   "execution_count": 20,
   "metadata": {},
   "outputs": [
    {
     "name": "stdout",
     "output_type": "stream",
     "text": [
      "There are 194 books in this dataset that were translated into English\n"
     ]
    }
   ],
   "source": [
    "print(\"There are {} books in this dataset that were translated into English\".format(str(len(all_details[all_details['original_language'] != 'English']))))"
   ]
  },
  {
   "cell_type": "code",
   "execution_count": 21,
   "metadata": {},
   "outputs": [
    {
     "data": {
      "text/plain": [
       "English       292\n",
       "French         50\n",
       "German         31\n",
       "Russian        24\n",
       "Italian        21\n",
       "translated     19\n",
       "Spanish         9\n",
       "Hungarian       7\n",
       "Chinese         4\n",
       "Swedish         4\n",
       "Serbo           3\n",
       "Japanese        3\n",
       "Polish          3\n",
       "Danish          3\n",
       "Greek           2\n",
       "Czech           2\n",
       "Dutch           2\n",
       "Arabic          2\n",
       "Occitan         1\n",
       "Romanian        1\n",
       "Catalan         1\n",
       "Hindi           1\n",
       "Turkish         1\n",
       "Name: original_language, dtype: int64"
      ]
     },
     "execution_count": 21,
     "metadata": {},
     "output_type": "execute_result"
    }
   ],
   "source": [
    "all_details['original_language'].value_counts() # need to fix unknown languages"
   ]
  },
  {
   "cell_type": "code",
   "execution_count": 22,
   "metadata": {},
   "outputs": [],
   "source": [
    "# fix languages, including those not listed (like Maupassant)\n",
    "# fix title - no subtitles\n",
    "# fix tags - one tag per column?\n",
    "# include author gender, country "
   ]
  },
  {
   "cell_type": "markdown",
   "metadata": {},
   "source": [
    "#### Find more information from [Publishers Weekly Translation Database](https://www.publishersweekly.com/pw/translation/search/index.html)"
   ]
  },
  {
   "cell_type": "code",
   "execution_count": 23,
   "metadata": {},
   "outputs": [],
   "source": [
    "# Find page for NYRB specifically\n",
    "url = 'https://www.publishersweekly.com/pw/translation/search/index.html?country=&language=&translator_gender=&submit=Search&author=&genre=&author_gender=&submitting=1&translator=&isbn=&title=&publisher=226'\n",
    "r = requests.get(url)"
   ]
  },
  {
   "cell_type": "code",
   "execution_count": 24,
   "metadata": {},
   "outputs": [],
   "source": [
    "# Parse page for book titles and authors\n",
    "soup = BeautifulSoup(r.text, \"html5lib\")\n",
    "list = soup.find(\"table\", class_=\"table table-striped\").find_all(\"tr\")"
   ]
  },
  {
   "cell_type": "code",
   "execution_count": 25,
   "metadata": {},
   "outputs": [],
   "source": [
    "# Collect list of relevant PW urls from the website itself\n",
    "pw_urls = [list[i].find(\"a\")['href'] for i in range(0, len(list))]"
   ]
  },
  {
   "cell_type": "code",
   "execution_count": 26,
   "metadata": {},
   "outputs": [],
   "source": [
    "# Create URL list\n",
    "base_url = 'https://www.publishersweekly.com'\n",
    "url_list = [\"{}{}\".format(base_url, url) for url in pw_urls]"
   ]
  },
  {
   "cell_type": "code",
   "execution_count": 27,
   "metadata": {},
   "outputs": [],
   "source": [
    "# Make get request and parse with BeautifulSoup for all URLs\n",
    "stack = []\n",
    "for url_ in url_list:\n",
    "    # print(\"Processing {}\".format(url_))\n",
    "    r_new = requests.get(url_)\n",
    "    soup_new = BeautifulSoup(r_new.text, \"html5lib\")\n",
    "    stack.append(soup_new)"
   ]
  },
  {
   "cell_type": "code",
   "execution_count": 28,
   "metadata": {},
   "outputs": [],
   "source": [
    "# Further parse BeautifulSoup for information of interest - returns dictionary of values\n",
    "def pw_parser(book):\n",
    "    \n",
    "    # retrieve table with information\n",
    "    info = [book.find(\"table\").find_all(\"tr\")[i].text for i in range(1,len(book.find(\"table\").find_all(\"tr\")))]\n",
    "    author = re.split(\":\", info[0])[1]\n",
    "    isbn = re.split(\":\", info[3])[1]\n",
    "    pw_genre = re.split(\":\", info[5])[1]\n",
    "    country = re.split(\":\", info[7])[1]\n",
    "    gender = re.split(\":\", info[8])[1]\n",
    "    \n",
    "    return {\n",
    "        \"author\": author,\n",
    "        \"isbn\": isbn,\n",
    "        \"pw_genre\": pw_genre,\n",
    "        \"country\": country,\n",
    "        \"gender\": gender\n",
    "    }"
   ]
  },
  {
   "cell_type": "code",
   "execution_count": 29,
   "metadata": {},
   "outputs": [
    {
     "data": {
      "text/plain": [
       "{'author': 'Alfred Doblin',\n",
       " 'country': 'Germany',\n",
       " 'gender': 'Male',\n",
       " 'isbn': '9781590179734',\n",
       " 'pw_genre': 'Fiction'}"
      ]
     },
     "execution_count": 29,
     "metadata": {},
     "output_type": "execute_result"
    }
   ],
   "source": [
    "# Example\n",
    "pw_parser(stack[10])"
   ]
  },
  {
   "cell_type": "code",
   "execution_count": 30,
   "metadata": {},
   "outputs": [],
   "source": [
    "# Parse information and add it to a pandas dataframe\n",
    "pw_details = pd.DataFrame()\n",
    "for i in range(0, len(stack)):\n",
    "    details = pw_parser(stack[i])\n",
    "    details = pd.DataFrame(details, index=[0])\n",
    "    pw_details = pw_details.append(details)"
   ]
  },
  {
   "cell_type": "code",
   "execution_count": 31,
   "metadata": {},
   "outputs": [
    {
     "data": {
      "text/html": [
       "<div>\n",
       "<style scoped>\n",
       "    .dataframe tbody tr th:only-of-type {\n",
       "        vertical-align: middle;\n",
       "    }\n",
       "\n",
       "    .dataframe tbody tr th {\n",
       "        vertical-align: top;\n",
       "    }\n",
       "\n",
       "    .dataframe thead th {\n",
       "        text-align: right;\n",
       "    }\n",
       "</style>\n",
       "<table border=\"1\" class=\"dataframe\">\n",
       "  <thead>\n",
       "    <tr style=\"text-align: right;\">\n",
       "      <th></th>\n",
       "      <th>author</th>\n",
       "      <th>isbn</th>\n",
       "      <th>pw_genre</th>\n",
       "      <th>country</th>\n",
       "      <th>gender</th>\n",
       "    </tr>\n",
       "  </thead>\n",
       "  <tbody>\n",
       "    <tr>\n",
       "      <th>0</th>\n",
       "      <td>Szilard Borbely</td>\n",
       "      <td>9781681370545</td>\n",
       "      <td>Poetry</td>\n",
       "      <td>Hungary</td>\n",
       "      <td>Male</td>\n",
       "    </tr>\n",
       "    <tr>\n",
       "      <th>0</th>\n",
       "      <td>Emmanuel Bove</td>\n",
       "      <td>9781590178324</td>\n",
       "      <td>Fiction</td>\n",
       "      <td>France</td>\n",
       "      <td>Male</td>\n",
       "    </tr>\n",
       "    <tr>\n",
       "      <th>0</th>\n",
       "      <td>Matei Calinescu</td>\n",
       "      <td>9781681371955</td>\n",
       "      <td>Fiction</td>\n",
       "      <td>Romania</td>\n",
       "      <td>Male</td>\n",
       "    </tr>\n",
       "    <tr>\n",
       "      <th>0</th>\n",
       "      <td>Eileen Chang</td>\n",
       "      <td>9781681371276</td>\n",
       "      <td>Fiction</td>\n",
       "      <td>Chile</td>\n",
       "      <td>Female</td>\n",
       "    </tr>\n",
       "    <tr>\n",
       "      <th>0</th>\n",
       "      <td>Anton Chekhov</td>\n",
       "      <td>9781590178362</td>\n",
       "      <td>Fiction</td>\n",
       "      <td>Russia</td>\n",
       "      <td>Male</td>\n",
       "    </tr>\n",
       "    <tr>\n",
       "      <th>0</th>\n",
       "      <td>Gabriel Chevallier</td>\n",
       "      <td>9781590177167</td>\n",
       "      <td>Fiction</td>\n",
       "      <td>France</td>\n",
       "      <td>Male</td>\n",
       "    </tr>\n",
       "  </tbody>\n",
       "</table>\n",
       "</div>"
      ],
      "text/plain": [
       "               author           isbn pw_genre  country  gender\n",
       "0     Szilard Borbely  9781681370545   Poetry  Hungary    Male\n",
       "0       Emmanuel Bove  9781590178324  Fiction   France    Male\n",
       "0     Matei Calinescu  9781681371955  Fiction  Romania    Male\n",
       "0        Eileen Chang  9781681371276  Fiction    Chile  Female\n",
       "0       Anton Chekhov  9781590178362  Fiction   Russia    Male\n",
       "0  Gabriel Chevallier  9781590177167  Fiction   France    Male"
      ]
     },
     "execution_count": 31,
     "metadata": {},
     "output_type": "execute_result"
    }
   ],
   "source": [
    "# Peep the dataset\n",
    "pw_details[0:6]"
   ]
  },
  {
   "cell_type": "code",
   "execution_count": 32,
   "metadata": {},
   "outputs": [
    {
     "data": {
      "text/html": [
       "<div>\n",
       "<style scoped>\n",
       "    .dataframe tbody tr th:only-of-type {\n",
       "        vertical-align: middle;\n",
       "    }\n",
       "\n",
       "    .dataframe tbody tr th {\n",
       "        vertical-align: top;\n",
       "    }\n",
       "\n",
       "    .dataframe thead th {\n",
       "        text-align: right;\n",
       "    }\n",
       "</style>\n",
       "<table border=\"1\" class=\"dataframe\">\n",
       "  <thead>\n",
       "    <tr style=\"text-align: right;\">\n",
       "      <th></th>\n",
       "      <th>author_x</th>\n",
       "      <th>isbn</th>\n",
       "      <th>pw_genre</th>\n",
       "      <th>country</th>\n",
       "      <th>gender</th>\n",
       "      <th>index</th>\n",
       "      <th>title</th>\n",
       "      <th>author_y</th>\n",
       "      <th>pages</th>\n",
       "      <th>original_language</th>\n",
       "      <th>tags</th>\n",
       "    </tr>\n",
       "  </thead>\n",
       "  <tbody>\n",
       "    <tr>\n",
       "      <th>0</th>\n",
       "      <td>Emmanuel Bove</td>\n",
       "      <td>9781590178324</td>\n",
       "      <td>Fiction</td>\n",
       "      <td>France</td>\n",
       "      <td>Male</td>\n",
       "      <td>0</td>\n",
       "      <td>Henri Duchemin and His Shadows</td>\n",
       "      <td>Emmanuel Bove</td>\n",
       "      <td>160</td>\n",
       "      <td>French</td>\n",
       "      <td>Available as E-Book,International Literature,L...</td>\n",
       "    </tr>\n",
       "    <tr>\n",
       "      <th>1</th>\n",
       "      <td>Matei Calinescu</td>\n",
       "      <td>9781681371955</td>\n",
       "      <td>Fiction</td>\n",
       "      <td>Romania</td>\n",
       "      <td>Male</td>\n",
       "      <td>0</td>\n",
       "      <td>The Life and Opinions of Zacharias Lichter</td>\n",
       "      <td>Matei Calinescu</td>\n",
       "      <td>160</td>\n",
       "      <td>Romanian</td>\n",
       "      <td>Available as E-Book,International Literature,L...</td>\n",
       "    </tr>\n",
       "    <tr>\n",
       "      <th>2</th>\n",
       "      <td>Eileen Chang</td>\n",
       "      <td>9781681371276</td>\n",
       "      <td>Fiction</td>\n",
       "      <td>Chile</td>\n",
       "      <td>Female</td>\n",
       "      <td>0</td>\n",
       "      <td>Little Reunions</td>\n",
       "      <td>Eileen Chang</td>\n",
       "      <td>352</td>\n",
       "      <td>translated</td>\n",
       "      <td>Asian Literature,Available as E-Book,Historica...</td>\n",
       "    </tr>\n",
       "    <tr>\n",
       "      <th>3</th>\n",
       "      <td>Anton Chekhov</td>\n",
       "      <td>9781590178362</td>\n",
       "      <td>Fiction</td>\n",
       "      <td>Russia</td>\n",
       "      <td>Male</td>\n",
       "      <td>0</td>\n",
       "      <td>The Prank</td>\n",
       "      <td>Anton Chekhov</td>\n",
       "      <td>168</td>\n",
       "      <td>English</td>\n",
       "      <td>Available as E-Book,International Literature,L...</td>\n",
       "    </tr>\n",
       "    <tr>\n",
       "      <th>4</th>\n",
       "      <td>Gabriel Chevallier</td>\n",
       "      <td>9781590177167</td>\n",
       "      <td>Fiction</td>\n",
       "      <td>France</td>\n",
       "      <td>Male</td>\n",
       "      <td>0</td>\n",
       "      <td>Fear</td>\n",
       "      <td>Gabriel Chevallier</td>\n",
       "      <td>328</td>\n",
       "      <td>French</td>\n",
       "      <td>Available as E-Book,French Literature,Internat...</td>\n",
       "    </tr>\n",
       "    <tr>\n",
       "      <th>5</th>\n",
       "      <td>Jean-Paul Clebert</td>\n",
       "      <td>9781590179574</td>\n",
       "      <td>Fiction</td>\n",
       "      <td>France</td>\n",
       "      <td>Male</td>\n",
       "      <td>0</td>\n",
       "      <td>Paris Vagabond</td>\n",
       "      <td>Jean-Paul Clébert</td>\n",
       "      <td>352</td>\n",
       "      <td>English</td>\n",
       "      <td>Available as E-Book,Biography &amp; Memoir,French ...</td>\n",
       "    </tr>\n",
       "  </tbody>\n",
       "</table>\n",
       "</div>"
      ],
      "text/plain": [
       "             author_x           isbn pw_genre  country  gender  index  \\\n",
       "0       Emmanuel Bove  9781590178324  Fiction   France    Male      0   \n",
       "1     Matei Calinescu  9781681371955  Fiction  Romania    Male      0   \n",
       "2        Eileen Chang  9781681371276  Fiction    Chile  Female      0   \n",
       "3       Anton Chekhov  9781590178362  Fiction   Russia    Male      0   \n",
       "4  Gabriel Chevallier  9781590177167  Fiction   France    Male      0   \n",
       "5   Jean-Paul Clebert  9781590179574  Fiction   France    Male      0   \n",
       "\n",
       "                                        title            author_y pages  \\\n",
       "0              Henri Duchemin and His Shadows       Emmanuel Bove   160   \n",
       "1  The Life and Opinions of Zacharias Lichter     Matei Calinescu   160   \n",
       "2                             Little Reunions        Eileen Chang   352   \n",
       "3                                   The Prank       Anton Chekhov   168   \n",
       "4                                        Fear  Gabriel Chevallier   328   \n",
       "5                              Paris Vagabond   Jean-Paul Clébert   352   \n",
       "\n",
       "  original_language                                               tags  \n",
       "0            French  Available as E-Book,International Literature,L...  \n",
       "1          Romanian  Available as E-Book,International Literature,L...  \n",
       "2        translated  Asian Literature,Available as E-Book,Historica...  \n",
       "3           English  Available as E-Book,International Literature,L...  \n",
       "4            French  Available as E-Book,French Literature,Internat...  \n",
       "5           English  Available as E-Book,Biography & Memoir,French ...  "
      ]
     },
     "execution_count": 32,
     "metadata": {},
     "output_type": "execute_result"
    }
   ],
   "source": [
    "# Join information from PW and NYRB\n",
    "more_details = pd.merge(pw_details, all_details, on='isbn', how='inner')\n",
    "more_details[0:6]"
   ]
  },
  {
   "cell_type": "code",
   "execution_count": 54,
   "metadata": {},
   "outputs": [],
   "source": [
    "# more_details.to_csv(\"nyrb_info.csv\")"
   ]
  },
  {
   "cell_type": "markdown",
   "metadata": {},
   "source": [
    "### Download Book Covers"
   ]
  },
  {
   "cell_type": "code",
   "execution_count": null,
   "metadata": {},
   "outputs": [],
   "source": [
    "# Download covers into your repo\n",
    "#for i in range(0, len(books_urls)):\n",
    "#    url = \"https://{}\".format(imgs['img'][i])\n",
    "#    filename = \"classics_covers/{}.png\".format(slugs[i])   # change to jpg if url links to jpg\n",
    "    \n",
    "#    urllib.request.urlretrieve(url, filename)"
   ]
  },
  {
   "cell_type": "markdown",
   "metadata": {},
   "source": [
    "### Post-Shell Scripting: Check Palette Results"
   ]
  },
  {
   "cell_type": "code",
   "execution_count": 34,
   "metadata": {},
   "outputs": [],
   "source": [
    "palettes = pd.read_table(\"palettes.txt\", header=None)"
   ]
  },
  {
   "cell_type": "code",
   "execution_count": 35,
   "metadata": {},
   "outputs": [
    {
     "data": {
      "text/html": [
       "<div>\n",
       "<style scoped>\n",
       "    .dataframe tbody tr th:only-of-type {\n",
       "        vertical-align: middle;\n",
       "    }\n",
       "\n",
       "    .dataframe tbody tr th {\n",
       "        vertical-align: top;\n",
       "    }\n",
       "\n",
       "    .dataframe thead th {\n",
       "        text-align: right;\n",
       "    }\n",
       "</style>\n",
       "<table border=\"1\" class=\"dataframe\">\n",
       "  <thead>\n",
       "    <tr style=\"text-align: right;\">\n",
       "      <th></th>\n",
       "      <th>0</th>\n",
       "    </tr>\n",
       "  </thead>\n",
       "  <tbody>\n",
       "    <tr>\n",
       "      <th>0</th>\n",
       "      <td>a-balcony-in-the-forest</td>\n",
       "    </tr>\n",
       "    <tr>\n",
       "      <th>1</th>\n",
       "      <td>#A4A19A</td>\n",
       "    </tr>\n",
       "    <tr>\n",
       "      <th>2</th>\n",
       "      <td>#514D4B</td>\n",
       "    </tr>\n",
       "    <tr>\n",
       "      <th>3</th>\n",
       "      <td>#A49C63</td>\n",
       "    </tr>\n",
       "    <tr>\n",
       "      <th>4</th>\n",
       "      <td>#423C3C</td>\n",
       "    </tr>\n",
       "  </tbody>\n",
       "</table>\n",
       "</div>"
      ],
      "text/plain": [
       "                         0\n",
       "0  a-balcony-in-the-forest\n",
       "1                  #A4A19A\n",
       "2                  #514D4B\n",
       "3                  #A49C63\n",
       "4                  #423C3C"
      ]
     },
     "execution_count": 35,
     "metadata": {},
     "output_type": "execute_result"
    }
   ],
   "source": [
    "palettes.head()"
   ]
  },
  {
   "cell_type": "code",
   "execution_count": 36,
   "metadata": {},
   "outputs": [],
   "source": [
    "hex_cols = []\n",
    "titles = []\n",
    "for i in range(0, len(palettes)):\n",
    "    check = re.search('#[0-9A-F]{6}', palettes[0][i])\n",
    "    if check:\n",
    "        hex_cols.append(check[0])\n",
    "    else:\n",
    "        titles.append(palettes[0][i])"
   ]
  },
  {
   "cell_type": "code",
   "execution_count": 37,
   "metadata": {},
   "outputs": [
    {
     "data": {
      "text/plain": [
       "486"
      ]
     },
     "execution_count": 37,
     "metadata": {},
     "output_type": "execute_result"
    }
   ],
   "source": [
    "# check that all titles are read\n",
    "len(titles) "
   ]
  },
  {
   "cell_type": "code",
   "execution_count": 38,
   "metadata": {},
   "outputs": [
    {
     "data": {
      "text/plain": [
       "486.0"
      ]
     },
     "execution_count": 38,
     "metadata": {},
     "output_type": "execute_result"
    }
   ],
   "source": [
    "# check that there are five colors for every title\n",
    "len(hex_cols)/5 "
   ]
  },
  {
   "cell_type": "code",
   "execution_count": 39,
   "metadata": {},
   "outputs": [
    {
     "data": {
      "text/plain": [
       "0       a-balcony-in-the-forest\n",
       "2910                       zama\n",
       "Name: 0, dtype: object"
      ]
     },
     "execution_count": 39,
     "metadata": {},
     "output_type": "execute_result"
    }
   ],
   "source": [
    "# check first and last titles\n",
    "script_titles = palettes[0][0::6]\n",
    "script_titles.iloc[[0,len(script_titles) - 1]]"
   ]
  },
  {
   "cell_type": "code",
   "execution_count": 40,
   "metadata": {},
   "outputs": [],
   "source": [
    "titles_list = [[i] * 5 for i in titles]\n",
    "titles_rep = []\n",
    "for i in range(0, len(titles_list)):\n",
    "    for j in range(0,5):\n",
    "        titles_rep.append(titles_list[i][j])"
   ]
  },
  {
   "cell_type": "code",
   "execution_count": 41,
   "metadata": {},
   "outputs": [],
   "source": [
    "titles_swatches = pd.concat([pd.DataFrame(titles_rep), pd.DataFrame(hex_cols)], axis=1)\n",
    "titles_swatches.columns = ['title', 'color']"
   ]
  },
  {
   "cell_type": "code",
   "execution_count": 42,
   "metadata": {},
   "outputs": [],
   "source": [
    "a = ['color1', 'color2', 'color3', 'color4', 'color5']\n",
    "labels = a * 486\n",
    "titles_swatches = pd.concat([pd.DataFrame(titles_rep), pd.DataFrame(hex_cols), pd.DataFrame(labels)], axis=1)\n",
    "titles_swatches.columns = ['title', 'color', 'color_index']"
   ]
  },
  {
   "cell_type": "code",
   "execution_count": 43,
   "metadata": {},
   "outputs": [],
   "source": [
    "titles_palettes = titles_swatches.pivot(index='title', columns='color_index', values='color')\n",
    "titles_palettes = titles_palettes.reset_index()"
   ]
  },
  {
   "cell_type": "code",
   "execution_count": 44,
   "metadata": {},
   "outputs": [],
   "source": [
    "# titles_palettes.to_csv(\"titles_palettes.csv\")"
   ]
  },
  {
   "cell_type": "code",
   "execution_count": 45,
   "metadata": {},
   "outputs": [
    {
     "data": {
      "text/html": [
       "<div>\n",
       "<style scoped>\n",
       "    .dataframe tbody tr th:only-of-type {\n",
       "        vertical-align: middle;\n",
       "    }\n",
       "\n",
       "    .dataframe tbody tr th {\n",
       "        vertical-align: top;\n",
       "    }\n",
       "\n",
       "    .dataframe thead th {\n",
       "        text-align: right;\n",
       "    }\n",
       "</style>\n",
       "<table border=\"1\" class=\"dataframe\">\n",
       "  <thead>\n",
       "    <tr style=\"text-align: right;\">\n",
       "      <th>color_index</th>\n",
       "      <th>title</th>\n",
       "      <th>color1</th>\n",
       "      <th>color2</th>\n",
       "      <th>color3</th>\n",
       "      <th>color4</th>\n",
       "      <th>color5</th>\n",
       "    </tr>\n",
       "  </thead>\n",
       "  <tbody>\n",
       "    <tr>\n",
       "      <th>0</th>\n",
       "      <td>a-balcony-in-the-forest</td>\n",
       "      <td>#A4A19A</td>\n",
       "      <td>#514D4B</td>\n",
       "      <td>#A49C63</td>\n",
       "      <td>#423C3C</td>\n",
       "      <td>#E1DED5</td>\n",
       "    </tr>\n",
       "    <tr>\n",
       "      <th>1</th>\n",
       "      <td>a-book-of-mediterranean-food</td>\n",
       "      <td>#BB613E</td>\n",
       "      <td>#E6D39D</td>\n",
       "      <td>#645D5A</td>\n",
       "      <td>#B7C4BE</td>\n",
       "      <td>#9D655A</td>\n",
       "    </tr>\n",
       "    <tr>\n",
       "      <th>2</th>\n",
       "      <td>a-fairly-good-time</td>\n",
       "      <td>#665E56</td>\n",
       "      <td>#A7A09C</td>\n",
       "      <td>#E4DDD8</td>\n",
       "      <td>#C1443B</td>\n",
       "      <td>#0A0A0A</td>\n",
       "    </tr>\n",
       "    <tr>\n",
       "      <th>3</th>\n",
       "      <td>a-favourite-of-the-gods-and-a-compass-error</td>\n",
       "      <td>#A4A5A5</td>\n",
       "      <td>#68658B</td>\n",
       "      <td>#4F272B</td>\n",
       "      <td>#5C5C2D</td>\n",
       "      <td>#A5C7BC</td>\n",
       "    </tr>\n",
       "    <tr>\n",
       "      <th>4</th>\n",
       "      <td>a-game-of-hide-and-seek</td>\n",
       "      <td>#6D6E6E</td>\n",
       "      <td>#B2B2B2</td>\n",
       "      <td>#B8C2C9</td>\n",
       "      <td>#4F4F50</td>\n",
       "      <td>#C0BFBF</td>\n",
       "    </tr>\n",
       "  </tbody>\n",
       "</table>\n",
       "</div>"
      ],
      "text/plain": [
       "color_index                                        title   color1   color2  \\\n",
       "0                                a-balcony-in-the-forest  #A4A19A  #514D4B   \n",
       "1                           a-book-of-mediterranean-food  #BB613E  #E6D39D   \n",
       "2                                     a-fairly-good-time  #665E56  #A7A09C   \n",
       "3            a-favourite-of-the-gods-and-a-compass-error  #A4A5A5  #68658B   \n",
       "4                                a-game-of-hide-and-seek  #6D6E6E  #B2B2B2   \n",
       "\n",
       "color_index   color3   color4   color5  \n",
       "0            #A49C63  #423C3C  #E1DED5  \n",
       "1            #645D5A  #B7C4BE  #9D655A  \n",
       "2            #E4DDD8  #C1443B  #0A0A0A  \n",
       "3            #4F272B  #5C5C2D  #A5C7BC  \n",
       "4            #B8C2C9  #4F4F50  #C0BFBF  "
      ]
     },
     "execution_count": 45,
     "metadata": {},
     "output_type": "execute_result"
    }
   ],
   "source": [
    "titles_palettes.head()  # need to attach link (ordered) to this dataset "
   ]
  },
  {
   "cell_type": "code",
   "execution_count": 46,
   "metadata": {},
   "outputs": [],
   "source": [
    "# take image links from first dataset (books)\n",
    "# make slugs to order the dataset \n",
    "slugs = [re.split(\"/\", books.detail[i])[-1] for i in range(0, len(books))]\n",
    "slugs_df = pd.concat([pd.Series(books.img), pd.Series(slugs)], axis=1)\n",
    "slugs_df.columns = ['img', 'slug']\n",
    "slugs_df = slugs_df.sort_values(by=['slug']).reset_index()\n",
    "img_urls = pd.Series(slugs_df.img)"
   ]
  },
  {
   "cell_type": "code",
   "execution_count": 47,
   "metadata": {},
   "outputs": [
    {
     "data": {
      "text/html": [
       "<div>\n",
       "<style scoped>\n",
       "    .dataframe tbody tr th:only-of-type {\n",
       "        vertical-align: middle;\n",
       "    }\n",
       "\n",
       "    .dataframe tbody tr th {\n",
       "        vertical-align: top;\n",
       "    }\n",
       "\n",
       "    .dataframe thead th {\n",
       "        text-align: right;\n",
       "    }\n",
       "</style>\n",
       "<table border=\"1\" class=\"dataframe\">\n",
       "  <thead>\n",
       "    <tr style=\"text-align: right;\">\n",
       "      <th></th>\n",
       "      <th>title</th>\n",
       "      <th>color1</th>\n",
       "      <th>color2</th>\n",
       "      <th>color3</th>\n",
       "      <th>color4</th>\n",
       "      <th>color5</th>\n",
       "      <th>img</th>\n",
       "    </tr>\n",
       "  </thead>\n",
       "  <tbody>\n",
       "    <tr>\n",
       "      <th>0</th>\n",
       "      <td>a-balcony-in-the-forest</td>\n",
       "      <td>#A4A19A</td>\n",
       "      <td>#514D4B</td>\n",
       "      <td>#A49C63</td>\n",
       "      <td>#423C3C</td>\n",
       "      <td>#E1DED5</td>\n",
       "      <td>cdn.shopify.com/s/files/1/0726/9203/products/B...</td>\n",
       "    </tr>\n",
       "    <tr>\n",
       "      <th>1</th>\n",
       "      <td>a-book-of-mediterranean-food</td>\n",
       "      <td>#BB613E</td>\n",
       "      <td>#E6D39D</td>\n",
       "      <td>#645D5A</td>\n",
       "      <td>#B7C4BE</td>\n",
       "      <td>#9D655A</td>\n",
       "      <td>cdn.shopify.com/s/files/1/0726/9203/products/m...</td>\n",
       "    </tr>\n",
       "    <tr>\n",
       "      <th>2</th>\n",
       "      <td>a-fairly-good-time</td>\n",
       "      <td>#665E56</td>\n",
       "      <td>#A7A09C</td>\n",
       "      <td>#E4DDD8</td>\n",
       "      <td>#C1443B</td>\n",
       "      <td>#0A0A0A</td>\n",
       "      <td>cdn.shopify.com/s/files/1/0726/9203/products/A...</td>\n",
       "    </tr>\n",
       "    <tr>\n",
       "      <th>3</th>\n",
       "      <td>a-favourite-of-the-gods-and-a-compass-error</td>\n",
       "      <td>#A4A5A5</td>\n",
       "      <td>#68658B</td>\n",
       "      <td>#4F272B</td>\n",
       "      <td>#5C5C2D</td>\n",
       "      <td>#A5C7BC</td>\n",
       "      <td>cdn.shopify.com/s/files/1/0726/9203/products/A...</td>\n",
       "    </tr>\n",
       "    <tr>\n",
       "      <th>4</th>\n",
       "      <td>a-game-of-hide-and-seek</td>\n",
       "      <td>#6D6E6E</td>\n",
       "      <td>#B2B2B2</td>\n",
       "      <td>#B8C2C9</td>\n",
       "      <td>#4F4F50</td>\n",
       "      <td>#C0BFBF</td>\n",
       "      <td>cdn.shopify.com/s/files/1/0726/9203/products/p...</td>\n",
       "    </tr>\n",
       "  </tbody>\n",
       "</table>\n",
       "</div>"
      ],
      "text/plain": [
       "                                         title   color1   color2   color3  \\\n",
       "0                      a-balcony-in-the-forest  #A4A19A  #514D4B  #A49C63   \n",
       "1                 a-book-of-mediterranean-food  #BB613E  #E6D39D  #645D5A   \n",
       "2                           a-fairly-good-time  #665E56  #A7A09C  #E4DDD8   \n",
       "3  a-favourite-of-the-gods-and-a-compass-error  #A4A5A5  #68658B  #4F272B   \n",
       "4                      a-game-of-hide-and-seek  #6D6E6E  #B2B2B2  #B8C2C9   \n",
       "\n",
       "    color4   color5                                                img  \n",
       "0  #423C3C  #E1DED5  cdn.shopify.com/s/files/1/0726/9203/products/B...  \n",
       "1  #B7C4BE  #9D655A  cdn.shopify.com/s/files/1/0726/9203/products/m...  \n",
       "2  #C1443B  #0A0A0A  cdn.shopify.com/s/files/1/0726/9203/products/A...  \n",
       "3  #5C5C2D  #A5C7BC  cdn.shopify.com/s/files/1/0726/9203/products/A...  \n",
       "4  #4F4F50  #C0BFBF  cdn.shopify.com/s/files/1/0726/9203/products/p...  "
      ]
     },
     "execution_count": 47,
     "metadata": {},
     "output_type": "execute_result"
    }
   ],
   "source": [
    "titles_palettes = pd.concat([titles_palettes, img_urls], axis=1)\n",
    "titles_palettes.head()"
   ]
  },
  {
   "cell_type": "code",
   "execution_count": 48,
   "metadata": {},
   "outputs": [],
   "source": [
    "palette_dict = [dict(slug=titles_palettes.iloc[i][0],\n",
    "                     color1=titles_palettes.iloc[i][1],\n",
    "                     color2=titles_palettes.iloc[i][2],\n",
    "                     color3=titles_palettes.iloc[i][3],\n",
    "                     color4=titles_palettes.iloc[i][4],\n",
    "                     color5=titles_palettes.iloc[i][5],\n",
    "                     url = \"https://{}\".format(titles_palettes.iloc[i][6])) for i in range(0, len(titles_palettes))]"
   ]
  },
  {
   "cell_type": "code",
   "execution_count": 49,
   "metadata": {},
   "outputs": [],
   "source": [
    "CSS_TEMPLATE = \"\"\"\n",
    ".%(slug)s .color1 { background-color: %(color1)s }\n",
    ".%(slug)s .color2 { background-color: %(color2)s }\n",
    ".%(slug)s .color3 { background-color:  %(color3)s }\n",
    ".%(slug)s .color4 { background-color: %(color4)s }\n",
    ".%(slug)s .color5 { background-color: %(color5)s }\n",
    "\"\"\""
   ]
  },
  {
   "cell_type": "code",
   "execution_count": 50,
   "metadata": {},
   "outputs": [],
   "source": [
    "HTML_TEMPLATE = \"\"\"\n",
    "<section>\n",
    "    <h3>{slug}</h3>\n",
    "    <div class=\"book {slug}\">\n",
    "        <img class=\"book\" src=\"{url}\"/>\n",
    "        <div class=\"swatch color1\"></div>\n",
    "        <div class=\"swatch color2\"></div>\n",
    "        <div class=\"swatch color3\"></div>\n",
    "        <div class=\"swatch color4\"></div>\n",
    "        <div class=\"swatch color5\"></div>\n",
    "    </div>\n",
    "</section>\n",
    "\"\"\""
   ]
  },
  {
   "cell_type": "code",
   "execution_count": 51,
   "metadata": {},
   "outputs": [],
   "source": [
    "css = \"\"\n",
    "html = \"\""
   ]
  },
  {
   "cell_type": "code",
   "execution_count": 52,
   "metadata": {},
   "outputs": [],
   "source": [
    "for book in palette_dict:\n",
    "    css += CSS_TEMPLATE % book\n",
    "    html += HTML_TEMPLATE.format(**book)"
   ]
  },
  {
   "cell_type": "code",
   "execution_count": 53,
   "metadata": {},
   "outputs": [],
   "source": [
    "with open(\"swatch.html\", 'w') as f:\n",
    "    f.write(\"<head>\")\n",
    "    f.write(\"<link href='style.css' rel='stylesheet' type='text/css'>\")\n",
    "    f.write(\"<style type='text/css'>\")\n",
    "    f.write(css)\n",
    "    f.write(\"</style>\")\n",
    "    f.write(\"</head>\")\n",
    "    f.write(\"<body>\")\n",
    "    f.write(html)\n",
    "    f.write(\"</body>\")"
   ]
  },
  {
   "cell_type": "markdown",
   "metadata": {},
   "source": [
    "\n",
    "## NEED TO FIX:\n",
    "\n",
    "- Eileen Chang's page - country should be China?, not Chile\n",
    "- Proensa volume should be by various authors\n",
    "- Research and fix \"translated\" mark in original_language\n",
    "- include OOP books in actual dataset\n",
    "- why is 500 books not actually 500?\n",
    "- We Think the World of You has a different cover??? investigate -- which books have been republished with new covers? slug is \"we-think-the-world-of-you-3\" ?? are there 1 and 2?\n",
    "- differentiate between covers with the traditional square covers and those without\n",
    "- creating palettes not always working -- sometimes histogram made for the wrong/previous book\n",
    "- also not all palettes are being made and recorded **\n",
    "- belchamber not quantized because of too few colors; equal danger hand processed for colors (why didn't it work in the automated script?)\n",
    "- need a way to check palettes\n",
    "- bad swatches (quantized 8): everything-flows, great-granny-webster, hons-and-rebels, houses, in-the-cafe-of-lost-youth, jejuri, living, naked_earth, names-on-the-land, novels-in-three-lines, peking-story, pitch-dark, poem-strip, red-shift, reveille-in-washington, schoolboys-diary-and-other-stories, the-collected-essays-of-elizabeth-hardwick, the-door, the-notebooks-of-joseph-joubert, the-radiance-of-the-king-1, the-skin, the-stories-of-jf-powers, the-wooden-shepherdess, tolstoy-rasputin-others-me-best-of-teffi\n",
    "\n"
   ]
  },
  {
   "cell_type": "code",
   "execution_count": null,
   "metadata": {},
   "outputs": [],
   "source": []
  }
 ],
 "metadata": {
  "kernelspec": {
   "display_name": "Python 3",
   "language": "python",
   "name": "python3"
  },
  "language_info": {
   "codemirror_mode": {
    "name": "ipython",
    "version": 3
   },
   "file_extension": ".py",
   "mimetype": "text/x-python",
   "name": "python",
   "nbconvert_exporter": "python",
   "pygments_lexer": "ipython3",
   "version": "3.6.5"
  }
 },
 "nbformat": 4,
 "nbformat_minor": 2
}
