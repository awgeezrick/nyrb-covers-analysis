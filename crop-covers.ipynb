{
 "cells": [
  {
   "cell_type": "code",
   "execution_count": 41,
   "metadata": {},
   "outputs": [],
   "source": [
    "import os\n",
    "import glob\n",
    "from PIL import Image"
   ]
  },
  {
   "cell_type": "code",
   "execution_count": 6,
   "metadata": {},
   "outputs": [],
   "source": [
    "jpg_list = glob.glob(\"./large_covers/*.jpg\")"
   ]
  },
  {
   "cell_type": "markdown",
   "metadata": {},
   "source": [
    "Filter down to images over 1200 pixels wide, then crop"
   ]
  },
  {
   "cell_type": "code",
   "execution_count": 40,
   "metadata": {},
   "outputs": [],
   "source": [
    "def crop_lower_40(jpg):\n",
    "    width, height = jpg.size\n",
    "    left = 0\n",
    "    top = height * 0.6\n",
    "    right = width\n",
    "    bottom = height\n",
    "    return jpg.crop((left, top, right, bottom))"
   ]
  },
  {
   "cell_type": "code",
   "execution_count": 46,
   "metadata": {},
   "outputs": [],
   "source": [
    "for jpg_path in jpg_list:\n",
    "    jpg = Image.open(jpg_path)\n",
    "    width, height = jpg.size\n",
    "    if width > 1200:\n",
    "        crop_path = os.path.join('large_cover_crops', jpg_path.split(\"/\")[-1])\n",
    "        crop_lower_40(jpg).save(crop_path)"
   ]
  }
 ],
 "metadata": {
  "kernelspec": {
   "display_name": "Python 3",
   "language": "python",
   "name": "python3"
  },
  "language_info": {
   "codemirror_mode": {
    "name": "ipython",
    "version": 3
   },
   "file_extension": ".py",
   "mimetype": "text/x-python",
   "name": "python",
   "nbconvert_exporter": "python",
   "pygments_lexer": "ipython3",
   "version": "3.6.4"
  }
 },
 "nbformat": 4,
 "nbformat_minor": 2
}
