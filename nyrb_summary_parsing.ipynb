{
 "cells": [
  {
   "cell_type": "markdown",
   "metadata": {},
   "source": [
    "# NYRB Summary Parsing"
   ]
  },
  {
   "cell_type": "code",
   "execution_count": 1,
   "metadata": {},
   "outputs": [],
   "source": [
    "import re\n",
    "import requests\n",
    "import pandas as pd\n",
    "from bs4 import BeautifulSoup"
   ]
  },
  {
   "cell_type": "code",
   "execution_count": 144,
   "metadata": {},
   "outputs": [],
   "source": [
    "def get_summary(url):\n",
    "    print(\"Retrieving summary for {}\".format(re.split(\"/\", url)[-1]))\n",
    "    bs4 = BeautifulSoup(requests.get(url).text, \"html5lib\")\n",
    "    s = bs4.find_all(\"div\", class_=\"span8\")[0].find_all(\"div\", class_=\"description\")[0].text\n",
    "    mess = re.split('\\\\n        Praise\\\\n', s)[0]\n",
    "    summary = mess.replace(\"\\n\", \"\")\n",
    "    summary = summary.replace(\"\\t\", \"\")\n",
    "    summary = summary.strip()\n",
    "    return summary.lower()"
   ]
  },
  {
   "cell_type": "code",
   "execution_count": 145,
   "metadata": {},
   "outputs": [
    {
     "name": "stdout",
     "output_type": "stream",
     "text": [
      "Retrieving summary for sand\n"
     ]
    },
    {
     "data": {
      "text/plain": [
       "'an nyrb classics original                \\ufeffjune 2018 selection for the nyrb classics book club.north africa, 1972. while the world is reeling from the massacre of israeli athletes at the munich olympics, a series of mysterious events is playing out in the sahara. four people are murdered in a hippie commune, a suitcase full of money disappears, and a pair of unenthusiastic detectives are assigned to investigate. in the midst of it all, a man with no memory tries to evade his armed pursuers. who are they? what do they want from him? if he could just recall his own identity he might have a chance of working it out. . . .this darkly sophisticated literary thriller, the last novel wolfgang herrndorf completed before his untimely death in 2013, is, in the words of michael maar, “the greatest, grisliest, funniest, and wisest novel of the past decade.” certainly no reader will ever forget it.'"
      ]
     },
     "execution_count": 145,
     "metadata": {},
     "output_type": "execute_result"
    }
   ],
   "source": [
    "# example\n",
    "get_summary(\"https://www.nyrb.com/products/sand\")"
   ]
  },
  {
   "cell_type": "code",
   "execution_count": 146,
   "metadata": {},
   "outputs": [
    {
     "name": "stdout",
     "output_type": "stream",
     "text": [
      "Retrieving summary for stoner\n"
     ]
    },
    {
     "data": {
      "text/plain": [
       "\"william stoner is born at the end of the nineteenth century into a dirt-poor missouri farming family. sent to the state university to study agronomy, he instead falls in love with english literature and embraces a scholar’s life, so different from the hardscrabble existence he has known. and yet as the years pass, stoner encounters a succession of disappointments: marriage into a “proper” family estranges him from his parents; his career is stymied; his wife and daughter turn coldly away from him; a transforming experience of new love ends under threat of scandal. driven ever deeper within himself, stoner rediscovers the stoic silence of his forebears and confronts an essential solitude.john williams's\\xa0luminous and deeply moving novel is a work of quiet perfection. william stoner emerges from it not only as an archetypal american, but as an unlikely existential hero, standing, like a figure in a painting by edward hopper, in stark relief against an unforgiving world.john williams, introduction by john mcgaherndownload the reading group guide for stoner.john williams\""
      ]
     },
     "execution_count": 146,
     "metadata": {},
     "output_type": "execute_result"
    }
   ],
   "source": [
    "get_summary(\"https://www.nyrb.com/products/stoner\")"
   ]
  },
  {
   "cell_type": "code",
   "execution_count": 147,
   "metadata": {},
   "outputs": [],
   "source": [
    "books = pd.read_csv(\"books_imgs.csv\")"
   ]
  },
  {
   "cell_type": "code",
   "execution_count": 148,
   "metadata": {},
   "outputs": [],
   "source": [
    "details = [books.detail[i][21:] for i in range(0, len(books))]\n",
    "base_url = \"https://www.nyrb.com\"\n",
    "urls = [\"{}{}\".format(base_url, details[i]) for i in range(0, len(details))]"
   ]
  },
  {
   "cell_type": "code",
   "execution_count": null,
   "metadata": {},
   "outputs": [],
   "source": [
    "summaries = [get_summary(i) for i in urls]"
   ]
  },
  {
   "cell_type": "code",
   "execution_count": 150,
   "metadata": {},
   "outputs": [],
   "source": [
    "slugs = [re.split(\"/\", i)[-1] for i in urls]"
   ]
  },
  {
   "cell_type": "code",
   "execution_count": 151,
   "metadata": {},
   "outputs": [],
   "source": [
    "dat = pd.concat([pd.DataFrame(slugs), pd.DataFrame(summaries)], axis=1)\n",
    "dat.columns = ['slugs', 'summaries']"
   ]
  },
  {
   "cell_type": "code",
   "execution_count": 152,
   "metadata": {},
   "outputs": [],
   "source": [
    "# search through summaries to find which ones are noir"
   ]
  },
  {
   "cell_type": "code",
   "execution_count": 153,
   "metadata": {},
   "outputs": [],
   "source": [
    "noir = []\n",
    "for i in range(0, len(dat)):\n",
    "    if \"noir\" in dat.summaries[i]:\n",
    "        noir.append(dat.slugs[i])"
   ]
  },
  {
   "cell_type": "code",
   "execution_count": 264,
   "metadata": {},
   "outputs": [],
   "source": [
    "imgs = pd.concat([dat, pd.DataFrame(slugs)], axis=1)"
   ]
  },
  {
   "cell_type": "code",
   "execution_count": 224,
   "metadata": {},
   "outputs": [],
   "source": [
    "def search_words(word):\n",
    "    stack = []\n",
    "    for i in range(0, len(dat)):\n",
    "        if re.search(r'\\b{}\\b'.format(word), dat.summaries[i]):     # find way to search multiple words; optimize for regex\n",
    "            stack.append(dat.slugs[i])\n",
    "    return stack"
   ]
  },
  {
   "cell_type": "code",
   "execution_count": 257,
   "metadata": {},
   "outputs": [
    {
     "data": {
      "text/html": [
       "<div>\n",
       "<style scoped>\n",
       "    .dataframe tbody tr th:only-of-type {\n",
       "        vertical-align: middle;\n",
       "    }\n",
       "\n",
       "    .dataframe tbody tr th {\n",
       "        vertical-align: top;\n",
       "    }\n",
       "\n",
       "    .dataframe thead th {\n",
       "        text-align: right;\n",
       "    }\n",
       "</style>\n",
       "<table border=\"1\" class=\"dataframe\">\n",
       "  <thead>\n",
       "    <tr style=\"text-align: right;\">\n",
       "      <th></th>\n",
       "      <th>slugs</th>\n",
       "      <th>summaries</th>\n",
       "    </tr>\n",
       "  </thead>\n",
       "  <tbody>\n",
       "    <tr>\n",
       "      <th>0</th>\n",
       "      <td>journey-into-the-minds-eye</td>\n",
       "      <td>july 2018 selection for the nyrb classics book...</td>\n",
       "    </tr>\n",
       "    <tr>\n",
       "      <th>1</th>\n",
       "      <td>sand</td>\n",
       "      <td>an nyrb classics original                ﻿june...</td>\n",
       "    </tr>\n",
       "    <tr>\n",
       "      <th>2</th>\n",
       "      <td>havoc</td>\n",
       "      <td>ole jastrau is the very model of an enterprisi...</td>\n",
       "    </tr>\n",
       "    <tr>\n",
       "      <th>3</th>\n",
       "      <td>the-seventh-cross</td>\n",
       "      <td>an nyrb classics original                the s...</td>\n",
       "    </tr>\n",
       "    <tr>\n",
       "      <th>4</th>\n",
       "      <td>compulsory-games</td>\n",
       "      <td>an nyrb classics original                may 2...</td>\n",
       "    </tr>\n",
       "    <tr>\n",
       "      <th>5</th>\n",
       "      <td>basic-black-with-pearls</td>\n",
       "      <td>april 2018 selection for the nyrb classics boo...</td>\n",
       "    </tr>\n",
       "    <tr>\n",
       "      <th>6</th>\n",
       "      <td>the-life-and-opinions-of-zacharias-lichter</td>\n",
       "      <td>an nyrb classics original                march...</td>\n",
       "    </tr>\n",
       "    <tr>\n",
       "      <th>7</th>\n",
       "      <td>jigsaw</td>\n",
       "      <td>sybille bedford placed the ambiguous and inesc...</td>\n",
       "    </tr>\n",
       "    <tr>\n",
       "      <th>8</th>\n",
       "      <td>ivory-pearl</td>\n",
       "      <td>an nyrb classics original                out o...</td>\n",
       "    </tr>\n",
       "    <tr>\n",
       "      <th>9</th>\n",
       "      <td>kolyma-stories</td>\n",
       "      <td>an nyrb classics original                in 19...</td>\n",
       "    </tr>\n",
       "    <tr>\n",
       "      <th>10</th>\n",
       "      <td>the-kremlin-ball</td>\n",
       "      <td>an nyrb classics original                perha...</td>\n",
       "    </tr>\n",
       "    <tr>\n",
       "      <th>11</th>\n",
       "      <td>all-for-nothing</td>\n",
       "      <td>an nyrb classics original                febru...</td>\n",
       "    </tr>\n",
       "    <tr>\n",
       "      <th>12</th>\n",
       "      <td>berlin-alexanderplatz</td>\n",
       "      <td>an nyrb classics original                berli...</td>\n",
       "    </tr>\n",
       "    <tr>\n",
       "      <th>13</th>\n",
       "      <td>the-memoirs-of-two-young-wives</td>\n",
       "      <td>an nyrb classics original                two v...</td>\n",
       "    </tr>\n",
       "    <tr>\n",
       "      <th>14</th>\n",
       "      <td>the-juniper-tree</td>\n",
       "      <td>bella winter has hit a low. homeless and joble...</td>\n",
       "    </tr>\n",
       "    <tr>\n",
       "      <th>15</th>\n",
       "      <td>a-balcony-in-the-forest</td>\n",
       "      <td>it is the fall of 1939, and lieutenant grange ...</td>\n",
       "    </tr>\n",
       "    <tr>\n",
       "      <th>16</th>\n",
       "      <td>memoirs-from-beyond-the-grave</td>\n",
       "      <td>written over the course of four decades, franç...</td>\n",
       "    </tr>\n",
       "    <tr>\n",
       "      <th>17</th>\n",
       "      <td>nothing</td>\n",
       "      <td>years ago, jane weatherby had a torrid affair ...</td>\n",
       "    </tr>\n",
       "    <tr>\n",
       "      <th>18</th>\n",
       "      <td>earthly-signs</td>\n",
       "      <td>marina tsvetaeva ranks with anna akhmatova, os...</td>\n",
       "    </tr>\n",
       "    <tr>\n",
       "      <th>19</th>\n",
       "      <td>doting</td>\n",
       "      <td>doting, the last of henry green’s novels, is, ...</td>\n",
       "    </tr>\n",
       "    <tr>\n",
       "      <th>20</th>\n",
       "      <td>uncertain-glory</td>\n",
       "      <td>an nyrb classics original                a kir...</td>\n",
       "    </tr>\n",
       "    <tr>\n",
       "      <th>21</th>\n",
       "      <td>little-reunions</td>\n",
       "      <td>an nyrb classics original                janua...</td>\n",
       "    </tr>\n",
       "    <tr>\n",
       "      <th>22</th>\n",
       "      <td>the-collected-essays-of-elizabeth-hardwick</td>\n",
       "      <td>an nyrb classics original                eliza...</td>\n",
       "    </tr>\n",
       "    <tr>\n",
       "      <th>23</th>\n",
       "      <td>difficult-women</td>\n",
       "      <td>difficult women presents portraits of three ex...</td>\n",
       "    </tr>\n",
       "    <tr>\n",
       "      <th>24</th>\n",
       "      <td>other-mens-daughters</td>\n",
       "      <td>“until the day of merriwether’s departure from...</td>\n",
       "    </tr>\n",
       "    <tr>\n",
       "      <th>25</th>\n",
       "      <td>melville</td>\n",
       "      <td>an nyrb classics original                in th...</td>\n",
       "    </tr>\n",
       "    <tr>\n",
       "      <th>26</th>\n",
       "      <td>in-a-lonely-place</td>\n",
       "      <td>los angeles in the late 1940s is a city of pro...</td>\n",
       "    </tr>\n",
       "    <tr>\n",
       "      <th>27</th>\n",
       "      <td>katalin-street</td>\n",
       "      <td>an nyrb classics original                by th...</td>\n",
       "    </tr>\n",
       "    <tr>\n",
       "      <th>28</th>\n",
       "      <td>blood-dark</td>\n",
       "      <td>an nyrb classics original                blood...</td>\n",
       "    </tr>\n",
       "    <tr>\n",
       "      <th>29</th>\n",
       "      <td>the-communist-1</td>\n",
       "      <td>an nyrb classics original                walte...</td>\n",
       "    </tr>\n",
       "    <tr>\n",
       "      <th>...</th>\n",
       "      <td>...</td>\n",
       "      <td>...</td>\n",
       "    </tr>\n",
       "    <tr>\n",
       "      <th>456</th>\n",
       "      <td>an-african-in-greenland</td>\n",
       "      <td>tete-michel kpomassie was a teenager in togo w...</td>\n",
       "    </tr>\n",
       "    <tr>\n",
       "      <th>457</th>\n",
       "      <td>amsterdam-stories</td>\n",
       "      <td>a new york review books originalno one has wri...</td>\n",
       "    </tr>\n",
       "    <tr>\n",
       "      <th>458</th>\n",
       "      <td>american-humor</td>\n",
       "      <td>stepping out of the darkness, the american eme...</td>\n",
       "    </tr>\n",
       "    <tr>\n",
       "      <th>459</th>\n",
       "      <td>all-about-h-hatterr</td>\n",
       "      <td>wildly funny and wonderfully bizarre, all abou...</td>\n",
       "    </tr>\n",
       "    <tr>\n",
       "      <th>460</th>\n",
       "      <td>alien-hearts</td>\n",
       "      <td>alien hearts was the last book that guy de mau...</td>\n",
       "    </tr>\n",
       "    <tr>\n",
       "      <th>461</th>\n",
       "      <td>alice-james</td>\n",
       "      <td>winner of the bancroft prizethe jameses are pe...</td>\n",
       "    </tr>\n",
       "    <tr>\n",
       "      <th>462</th>\n",
       "      <td>alfred-and-guinevere</td>\n",
       "      <td>one of the finest american poets of the second...</td>\n",
       "    </tr>\n",
       "    <tr>\n",
       "      <th>463</th>\n",
       "      <td>akenfield_portrait_of_an_english_village</td>\n",
       "      <td>woven from the words of the inhabitants of a s...</td>\n",
       "    </tr>\n",
       "    <tr>\n",
       "      <th>464</th>\n",
       "      <td>agostino</td>\n",
       "      <td>an nyrb classics original                thirt...</td>\n",
       "    </tr>\n",
       "    <tr>\n",
       "      <th>465</th>\n",
       "      <td>after-claude</td>\n",
       "      <td>harriet is leaving her boyfriend claude, \"the ...</td>\n",
       "    </tr>\n",
       "    <tr>\n",
       "      <th>466</th>\n",
       "      <td>afloat</td>\n",
       "      <td>finalist of the french-american foundation and...</td>\n",
       "    </tr>\n",
       "    <tr>\n",
       "      <th>467</th>\n",
       "      <td>act-of-passion</td>\n",
       "      <td>for forty years charles alavoine has sleepwalk...</td>\n",
       "    </tr>\n",
       "    <tr>\n",
       "      <th>468</th>\n",
       "      <td>a-way-of-life-like-any-other</td>\n",
       "      <td>the hero of darcy o'brien's a way of life, lik...</td>\n",
       "    </tr>\n",
       "    <tr>\n",
       "      <th>469</th>\n",
       "      <td>a_view_of_the_harbour</td>\n",
       "      <td>blindness and betrayal are elizabeth taylor’s ...</td>\n",
       "    </tr>\n",
       "    <tr>\n",
       "      <th>470</th>\n",
       "      <td>a-time-to-keep-silence</td>\n",
       "      <td>while still a teenager, patrick leigh fermor m...</td>\n",
       "    </tr>\n",
       "    <tr>\n",
       "      <th>471</th>\n",
       "      <td>a-time-of-gifts</td>\n",
       "      <td>at the age of eighteen, patrick leigh fermor s...</td>\n",
       "    </tr>\n",
       "    <tr>\n",
       "      <th>472</th>\n",
       "      <td>schoolboys-diary-and-other-stories</td>\n",
       "      <td>a schoolboy's diary brings together more than ...</td>\n",
       "    </tr>\n",
       "    <tr>\n",
       "      <th>473</th>\n",
       "      <td>a_school_for_fools</td>\n",
       "      <td>an nyrb classics original                by tu...</td>\n",
       "    </tr>\n",
       "    <tr>\n",
       "      <th>474</th>\n",
       "      <td>a-savage-war-of-peace</td>\n",
       "      <td>with a new preface by the authorthe algerian w...</td>\n",
       "    </tr>\n",
       "    <tr>\n",
       "      <th>475</th>\n",
       "      <td>a-posthumous-confession</td>\n",
       "      <td>termeer, the narrator of a posthumous confessi...</td>\n",
       "    </tr>\n",
       "    <tr>\n",
       "      <th>476</th>\n",
       "      <td>a-month-in-the-country</td>\n",
       "      <td>in j. l. carr's deeply charged poetic novel, t...</td>\n",
       "    </tr>\n",
       "    <tr>\n",
       "      <th>477</th>\n",
       "      <td>a-meaningful-life</td>\n",
       "      <td>l.j. davis's 1971 novel, a meaningful life, is...</td>\n",
       "    </tr>\n",
       "    <tr>\n",
       "      <th>478</th>\n",
       "      <td>a_legacy</td>\n",
       "      <td>a legacy is the tale of two very different fam...</td>\n",
       "    </tr>\n",
       "    <tr>\n",
       "      <th>479</th>\n",
       "      <td>a-journey-round-my-skull</td>\n",
       "      <td>the distinguished hungarian author frigyes kar...</td>\n",
       "    </tr>\n",
       "    <tr>\n",
       "      <th>480</th>\n",
       "      <td>a-house-and-its-head</td>\n",
       "      <td>a radical thinker, one of the rare modern here...</td>\n",
       "    </tr>\n",
       "    <tr>\n",
       "      <th>481</th>\n",
       "      <td>a-high-wind-in-jamaica</td>\n",
       "      <td>richard hughes's celebrated short novel is a m...</td>\n",
       "    </tr>\n",
       "    <tr>\n",
       "      <th>482</th>\n",
       "      <td>a-handbook-on-hanging</td>\n",
       "      <td>a handbook on hanging is a swiftian tribute to...</td>\n",
       "    </tr>\n",
       "    <tr>\n",
       "      <th>483</th>\n",
       "      <td>a-game-of-hide-and-seek</td>\n",
       "      <td>harriet and vesey meet when they are teenagers...</td>\n",
       "    </tr>\n",
       "    <tr>\n",
       "      <th>484</th>\n",
       "      <td>a_family_lexicon</td>\n",
       "      <td>an nyrb classics original                an it...</td>\n",
       "    </tr>\n",
       "    <tr>\n",
       "      <th>485</th>\n",
       "      <td>a-book-of-mediterranean-food</td>\n",
       "      <td>long acknowledged as the inspiration for such ...</td>\n",
       "    </tr>\n",
       "  </tbody>\n",
       "</table>\n",
       "<p>486 rows × 2 columns</p>\n",
       "</div>"
      ],
      "text/plain": [
       "                                          slugs  \\\n",
       "0                    journey-into-the-minds-eye   \n",
       "1                                          sand   \n",
       "2                                         havoc   \n",
       "3                             the-seventh-cross   \n",
       "4                              compulsory-games   \n",
       "5                       basic-black-with-pearls   \n",
       "6    the-life-and-opinions-of-zacharias-lichter   \n",
       "7                                        jigsaw   \n",
       "8                                   ivory-pearl   \n",
       "9                                kolyma-stories   \n",
       "10                             the-kremlin-ball   \n",
       "11                              all-for-nothing   \n",
       "12                        berlin-alexanderplatz   \n",
       "13               the-memoirs-of-two-young-wives   \n",
       "14                             the-juniper-tree   \n",
       "15                      a-balcony-in-the-forest   \n",
       "16                memoirs-from-beyond-the-grave   \n",
       "17                                      nothing   \n",
       "18                                earthly-signs   \n",
       "19                                       doting   \n",
       "20                              uncertain-glory   \n",
       "21                              little-reunions   \n",
       "22   the-collected-essays-of-elizabeth-hardwick   \n",
       "23                              difficult-women   \n",
       "24                         other-mens-daughters   \n",
       "25                                     melville   \n",
       "26                            in-a-lonely-place   \n",
       "27                               katalin-street   \n",
       "28                                   blood-dark   \n",
       "29                              the-communist-1   \n",
       "..                                          ...   \n",
       "456                     an-african-in-greenland   \n",
       "457                           amsterdam-stories   \n",
       "458                              american-humor   \n",
       "459                         all-about-h-hatterr   \n",
       "460                                alien-hearts   \n",
       "461                                 alice-james   \n",
       "462                        alfred-and-guinevere   \n",
       "463    akenfield_portrait_of_an_english_village   \n",
       "464                                    agostino   \n",
       "465                                after-claude   \n",
       "466                                      afloat   \n",
       "467                              act-of-passion   \n",
       "468                a-way-of-life-like-any-other   \n",
       "469                       a_view_of_the_harbour   \n",
       "470                      a-time-to-keep-silence   \n",
       "471                             a-time-of-gifts   \n",
       "472          schoolboys-diary-and-other-stories   \n",
       "473                          a_school_for_fools   \n",
       "474                       a-savage-war-of-peace   \n",
       "475                     a-posthumous-confession   \n",
       "476                      a-month-in-the-country   \n",
       "477                           a-meaningful-life   \n",
       "478                                    a_legacy   \n",
       "479                    a-journey-round-my-skull   \n",
       "480                        a-house-and-its-head   \n",
       "481                      a-high-wind-in-jamaica   \n",
       "482                       a-handbook-on-hanging   \n",
       "483                     a-game-of-hide-and-seek   \n",
       "484                            a_family_lexicon   \n",
       "485                a-book-of-mediterranean-food   \n",
       "\n",
       "                                             summaries  \n",
       "0    july 2018 selection for the nyrb classics book...  \n",
       "1    an nyrb classics original                ﻿june...  \n",
       "2    ole jastrau is the very model of an enterprisi...  \n",
       "3    an nyrb classics original                the s...  \n",
       "4    an nyrb classics original                may 2...  \n",
       "5    april 2018 selection for the nyrb classics boo...  \n",
       "6    an nyrb classics original                march...  \n",
       "7    sybille bedford placed the ambiguous and inesc...  \n",
       "8    an nyrb classics original                out o...  \n",
       "9    an nyrb classics original                in 19...  \n",
       "10   an nyrb classics original                perha...  \n",
       "11   an nyrb classics original                febru...  \n",
       "12   an nyrb classics original                berli...  \n",
       "13   an nyrb classics original                two v...  \n",
       "14   bella winter has hit a low. homeless and joble...  \n",
       "15   it is the fall of 1939, and lieutenant grange ...  \n",
       "16   written over the course of four decades, franç...  \n",
       "17   years ago, jane weatherby had a torrid affair ...  \n",
       "18   marina tsvetaeva ranks with anna akhmatova, os...  \n",
       "19   doting, the last of henry green’s novels, is, ...  \n",
       "20   an nyrb classics original                a kir...  \n",
       "21   an nyrb classics original                janua...  \n",
       "22   an nyrb classics original                eliza...  \n",
       "23   difficult women presents portraits of three ex...  \n",
       "24   “until the day of merriwether’s departure from...  \n",
       "25   an nyrb classics original                in th...  \n",
       "26   los angeles in the late 1940s is a city of pro...  \n",
       "27   an nyrb classics original                by th...  \n",
       "28   an nyrb classics original                blood...  \n",
       "29   an nyrb classics original                walte...  \n",
       "..                                                 ...  \n",
       "456  tete-michel kpomassie was a teenager in togo w...  \n",
       "457  a new york review books originalno one has wri...  \n",
       "458  stepping out of the darkness, the american eme...  \n",
       "459  wildly funny and wonderfully bizarre, all abou...  \n",
       "460  alien hearts was the last book that guy de mau...  \n",
       "461  winner of the bancroft prizethe jameses are pe...  \n",
       "462  one of the finest american poets of the second...  \n",
       "463  woven from the words of the inhabitants of a s...  \n",
       "464  an nyrb classics original                thirt...  \n",
       "465  harriet is leaving her boyfriend claude, \"the ...  \n",
       "466  finalist of the french-american foundation and...  \n",
       "467  for forty years charles alavoine has sleepwalk...  \n",
       "468  the hero of darcy o'brien's a way of life, lik...  \n",
       "469  blindness and betrayal are elizabeth taylor’s ...  \n",
       "470  while still a teenager, patrick leigh fermor m...  \n",
       "471  at the age of eighteen, patrick leigh fermor s...  \n",
       "472  a schoolboy's diary brings together more than ...  \n",
       "473  an nyrb classics original                by tu...  \n",
       "474  with a new preface by the authorthe algerian w...  \n",
       "475  termeer, the narrator of a posthumous confessi...  \n",
       "476  in j. l. carr's deeply charged poetic novel, t...  \n",
       "477  l.j. davis's 1971 novel, a meaningful life, is...  \n",
       "478  a legacy is the tale of two very different fam...  \n",
       "479  the distinguished hungarian author frigyes kar...  \n",
       "480  a radical thinker, one of the rare modern here...  \n",
       "481  richard hughes's celebrated short novel is a m...  \n",
       "482  a handbook on hanging is a swiftian tribute to...  \n",
       "483  harriet and vesey meet when they are teenagers...  \n",
       "484  an nyrb classics original                an it...  \n",
       "485  long acknowledged as the inspiration for such ...  \n",
       "\n",
       "[486 rows x 2 columns]"
      ]
     },
     "execution_count": 257,
     "metadata": {},
     "output_type": "execute_result"
    }
   ],
   "source": [
    "dat"
   ]
  },
  {
   "cell_type": "code",
   "execution_count": 225,
   "metadata": {},
   "outputs": [
    {
     "data": {
      "text/plain": [
       "['in-a-lonely-place',\n",
       " 'the-expendable-man',\n",
       " 'the-big-clock',\n",
       " 'short-letter-long-farewell',\n",
       " 'clark-giffords-body']"
      ]
     },
     "execution_count": 225,
     "metadata": {},
     "output_type": "execute_result"
    }
   ],
   "source": [
    "search_words(\"noir\")"
   ]
  },
  {
   "cell_type": "code",
   "execution_count": 229,
   "metadata": {},
   "outputs": [
    {
     "data": {
      "text/plain": [
       "['schlump',\n",
       " 'the-end-of-the-hunt',\n",
       " 'grand-hotel',\n",
       " 'the-world-as-i-found-it',\n",
       " 'the-unrest-cure-and-other-stories',\n",
       " 'the-snows-of-yesteryear',\n",
       " 'the-post-office-girl',\n",
       " 'the-fox-in-the-attic',\n",
       " 'soul-of-wood',\n",
       " 'my-century',\n",
       " 'moravagine',\n",
       " 'the-ermine-of-czernopol',\n",
       " 'schoolboys-diary-and-other-stories',\n",
       " 'a_legacy']"
      ]
     },
     "execution_count": 229,
     "metadata": {},
     "output_type": "execute_result"
    }
   ],
   "source": [
    "search_words(\"world war i\")"
   ]
  },
  {
   "cell_type": "code",
   "execution_count": 233,
   "metadata": {},
   "outputs": [
    {
     "data": {
      "text/plain": [
       "['the-communist-1', 'the-moro-affair', 'kaputt', 'a_family_lexicon']"
      ]
     },
     "execution_count": 233,
     "metadata": {},
     "output_type": "execute_result"
    }
   ],
   "source": [
    "search_words(\"mussolini\")"
   ]
  },
  {
   "cell_type": "code",
   "execution_count": 241,
   "metadata": {},
   "outputs": [
    {
     "data": {
      "text/plain": [
       "['a-visit-to-don-otavio',\n",
       " 'unforgiving-years',\n",
       " 'memoirs-of-a-revolutionary',\n",
       " 'journey-into-the-past']"
      ]
     },
     "execution_count": 241,
     "metadata": {},
     "output_type": "execute_result"
    }
   ],
   "source": [
    "search_words(\"mexico\")"
   ]
  },
  {
   "cell_type": "code",
   "execution_count": 184,
   "metadata": {},
   "outputs": [
    {
     "data": {
      "text/plain": [
       "['the-seventh-cross',\n",
       " 'all-for-nothing',\n",
       " 'the-farm-in-the-green-mountains',\n",
       " 'when-the-world-spoke-french',\n",
       " 'unforgiving-years',\n",
       " 'transit',\n",
       " 'the-wooden-shepherdess',\n",
       " 'the-goshawk',\n",
       " 'soul-of-wood',\n",
       " 'life-and-fate',\n",
       " 'journey-into-the-past',\n",
       " 'irretrievable',\n",
       " 'going-to-the-dogs',\n",
       " 'diary-of-a-man-in-despair',\n",
       " 'a_legacy']"
      ]
     },
     "execution_count": 184,
     "metadata": {},
     "output_type": "execute_result"
    }
   ],
   "source": [
    "germany = search_words(\"germany\")\n",
    "germany"
   ]
  },
  {
   "cell_type": "code",
   "execution_count": 187,
   "metadata": {},
   "outputs": [
    {
     "data": {
      "text/plain": [
       "['ivory-pearl',\n",
       " 'nothing',\n",
       " 'schlump',\n",
       " 'izas-ballad',\n",
       " 'the-end-of-the-hunt',\n",
       " 'grand-hotel',\n",
       " 'paris-vagabond',\n",
       " 'more-was-lost',\n",
       " 'houses',\n",
       " 'war-and-the-iliad',\n",
       " 'the-world-as-i-found-it',\n",
       " 'the-use-of-man',\n",
       " 'the-unrest-cure-and-other-stories',\n",
       " 'the-three-christs-of-ypsilanti',\n",
       " 'the-snows-of-yesteryear',\n",
       " 'the-slaves-of-solitude',\n",
       " 'the-singapore-grip',\n",
       " 'the-siege-of-krishnapur',\n",
       " 'the-selected-works-of-cesare-pavese',\n",
       " 'the_prince_of_minor_writers_the_selected_essays_of_max_beerbohm',\n",
       " 'the-post-office-girl',\n",
       " 'the_little_town_where_time_stood_still',\n",
       " 'the-gallery',\n",
       " 'the-fox-in-the-attic',\n",
       " 'the-complete-fiction',\n",
       " 'the-book-of-ebenezer-le-page',\n",
       " 'soul-of-wood',\n",
       " 'school-for-love',\n",
       " 'pedigree',\n",
       " 'niki',\n",
       " 'names-on-the-land',\n",
       " 'my-century',\n",
       " 'moravagine',\n",
       " 'life-and-fate',\n",
       " 'kaputt',\n",
       " 'boredom',\n",
       " 'the-ermine-of-czernopol',\n",
       " 'a-time-to-keep-silence',\n",
       " 'schoolboys-diary-and-other-stories',\n",
       " 'a_legacy']"
      ]
     },
     "execution_count": 187,
     "metadata": {},
     "output_type": "execute_result"
    }
   ],
   "source": [
    "search_words(\"world war i\")"
   ]
  },
  {
   "cell_type": "code",
   "execution_count": 250,
   "metadata": {},
   "outputs": [
    {
     "data": {
      "text/plain": [
       "['havoc',\n",
       " 'the-kremlin-ball',\n",
       " 'the-communist-1',\n",
       " 'izas-ballad',\n",
       " 'houses',\n",
       " 'a-memoir-of-the-warsaw-uprising',\n",
       " 'the-book-of-blam',\n",
       " 'unforgiving-years',\n",
       " 'the_little_town_where_time_stood_still',\n",
       " 'the-door',\n",
       " 'peking-story',\n",
       " 'niki',\n",
       " 'memories-of-the-future',\n",
       " 'letters-from-russia',\n",
       " 'ice-trilogy']"
      ]
     },
     "execution_count": 250,
     "metadata": {},
     "output_type": "execute_result"
    }
   ],
   "source": [
    "search_words(\"communism|communist\")"
   ]
  },
  {
   "cell_type": "code",
   "execution_count": 255,
   "metadata": {},
   "outputs": [
    {
     "data": {
      "text/plain": [
       "['kolyma-stories',\n",
       " 'the-kremlin-ball',\n",
       " 'earthly-signs',\n",
       " 'katalin-street',\n",
       " 'a-memoir-of-the-warsaw-uprising',\n",
       " 'the-queue',\n",
       " 'the-letter-killers-club',\n",
       " 'the-case-of-comrade-tulayev',\n",
       " 'soul',\n",
       " 'my-century',\n",
       " 'moura',\n",
       " 'memories-of-the-future',\n",
       " 'memoirs-of-a-revolutionary',\n",
       " 'life-and-fate',\n",
       " 'happy-moscow',\n",
       " 'everything-flows',\n",
       " 'envy',\n",
       " 'an-armenian-sketchbook']"
      ]
     },
     "execution_count": 255,
     "metadata": {},
     "output_type": "execute_result"
    }
   ],
   "source": [
    "search_words(\"soviet\")"
   ]
  },
  {
   "cell_type": "markdown",
   "metadata": {},
   "source": [
    "words \n",
    "- world war i/ii -- mussolini, etc\n",
    "- france/germany/etc \n",
    "- feminist/woman/women \n",
    "- prison/crime\n",
    "- colonialism/colonial/colony\n",
    "- love/sex\n",
    "- europe/asia/south america/etc\n",
    "- philosophers/philosophy/religion\n"
   ]
  },
  {
   "cell_type": "code",
   "execution_count": 169,
   "metadata": {},
   "outputs": [
    {
     "data": {
      "text/plain": [
       "[]"
      ]
     },
     "execution_count": 169,
     "metadata": {},
     "output_type": "execute_result"
    }
   ],
   "source": [
    "search_words(r\"\\bworld war i\\b\")"
   ]
  },
  {
   "cell_type": "code",
   "execution_count": 193,
   "metadata": {},
   "outputs": [],
   "source": [
    "re.search(\"\\bin\\b\", \"things in\")"
   ]
  },
  {
   "cell_type": "code",
   "execution_count": 190,
   "metadata": {},
   "outputs": [
    {
     "data": {
      "text/plain": [
       "2"
      ]
     },
     "execution_count": 190,
     "metadata": {},
     "output_type": "execute_result"
    }
   ],
   "source": [
    "\"things\".find(\"in\")"
   ]
  },
  {
   "cell_type": "code",
   "execution_count": 211,
   "metadata": {},
   "outputs": [
    {
     "name": "stdout",
     "output_type": "stream",
     "text": [
      "yes\n"
     ]
    }
   ],
   "source": [
    "if re.search(r\"\\b{}\\b\".format(\"world war ii\"), \"world war ii and world war i\"):\n",
    "    print(\"yes\")"
   ]
  },
  {
   "cell_type": "code",
   "execution_count": null,
   "metadata": {},
   "outputs": [],
   "source": []
  }
 ],
 "metadata": {
  "kernelspec": {
   "display_name": "Python 3",
   "language": "python",
   "name": "python3"
  },
  "language_info": {
   "codemirror_mode": {
    "name": "ipython",
    "version": 3
   },
   "file_extension": ".py",
   "mimetype": "text/x-python",
   "name": "python",
   "nbconvert_exporter": "python",
   "pygments_lexer": "ipython3",
   "version": "3.6.5"
  }
 },
 "nbformat": 4,
 "nbformat_minor": 2
}
