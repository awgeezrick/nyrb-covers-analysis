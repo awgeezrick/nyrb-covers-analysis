{
 "cells": [
  {
   "cell_type": "markdown",
   "metadata": {},
   "source": [
    "# NYRB Summary Parsing"
   ]
  },
  {
   "cell_type": "code",
   "execution_count": 1,
   "metadata": {},
   "outputs": [],
   "source": [
    "import re\n",
    "import requests\n",
    "import pandas as pd\n",
    "from bs4 import BeautifulSoup"
   ]
  },
  {
   "cell_type": "code",
   "execution_count": 144,
   "metadata": {},
   "outputs": [],
   "source": [
    "def get_summary(url):\n",
    "    print(\"Retrieving summary for {}\".format(re.split(\"/\", url)[-1]))\n",
    "    bs4 = BeautifulSoup(requests.get(url).text, \"html5lib\")\n",
    "    s = bs4.find_all(\"div\", class_=\"span8\")[0].find_all(\"div\", class_=\"description\")[0].text\n",
    "    mess = re.split('\\\\n        Praise\\\\n', s)[0]\n",
    "    summary = mess.replace(\"\\n\", \"\")\n",
    "    summary = summary.replace(\"\\t\", \"\")\n",
    "    summary = summary.strip()\n",
    "    return summary.lower()"
   ]
  },
  {
   "cell_type": "code",
   "execution_count": 145,
   "metadata": {},
   "outputs": [
    {
     "name": "stdout",
     "output_type": "stream",
     "text": [
      "Retrieving summary for sand\n"
     ]
    },
    {
     "data": {
      "text/plain": [
       "'an nyrb classics original                \\ufeffjune 2018 selection for the nyrb classics book club.north africa, 1972. while the world is reeling from the massacre of israeli athletes at the munich olympics, a series of mysterious events is playing out in the sahara. four people are murdered in a hippie commune, a suitcase full of money disappears, and a pair of unenthusiastic detectives are assigned to investigate. in the midst of it all, a man with no memory tries to evade his armed pursuers. who are they? what do they want from him? if he could just recall his own identity he might have a chance of working it out. . . .this darkly sophisticated literary thriller, the last novel wolfgang herrndorf completed before his untimely death in 2013, is, in the words of michael maar, “the greatest, grisliest, funniest, and wisest novel of the past decade.” certainly no reader will ever forget it.'"
      ]
     },
     "execution_count": 145,
     "metadata": {},
     "output_type": "execute_result"
    }
   ],
   "source": [
    "# example\n",
    "get_summary(\"https://www.nyrb.com/products/sand\")"
   ]
  },
  {
   "cell_type": "code",
   "execution_count": 146,
   "metadata": {},
   "outputs": [
    {
     "name": "stdout",
     "output_type": "stream",
     "text": [
      "Retrieving summary for stoner\n"
     ]
    },
    {
     "data": {
      "text/plain": [
       "\"william stoner is born at the end of the nineteenth century into a dirt-poor missouri farming family. sent to the state university to study agronomy, he instead falls in love with english literature and embraces a scholar’s life, so different from the hardscrabble existence he has known. and yet as the years pass, stoner encounters a succession of disappointments: marriage into a “proper” family estranges him from his parents; his career is stymied; his wife and daughter turn coldly away from him; a transforming experience of new love ends under threat of scandal. driven ever deeper within himself, stoner rediscovers the stoic silence of his forebears and confronts an essential solitude.john williams's\\xa0luminous and deeply moving novel is a work of quiet perfection. william stoner emerges from it not only as an archetypal american, but as an unlikely existential hero, standing, like a figure in a painting by edward hopper, in stark relief against an unforgiving world.john williams, introduction by john mcgaherndownload the reading group guide for stoner.john williams\""
      ]
     },
     "execution_count": 146,
     "metadata": {},
     "output_type": "execute_result"
    }
   ],
   "source": [
    "get_summary(\"https://www.nyrb.com/products/stoner\")"
   ]
  },
  {
   "cell_type": "code",
   "execution_count": 147,
   "metadata": {},
   "outputs": [],
   "source": [
    "books = pd.read_csv(\"books_imgs.csv\")"
   ]
  },
  {
   "cell_type": "code",
   "execution_count": 148,
   "metadata": {},
   "outputs": [],
   "source": [
    "details = [books.detail[i][21:] for i in range(0, len(books))]\n",
    "base_url = \"https://www.nyrb.com\"\n",
    "urls = [\"{}{}\".format(base_url, details[i]) for i in range(0, len(details))]"
   ]
  },
  {
   "cell_type": "code",
   "execution_count": null,
   "metadata": {},
   "outputs": [],
   "source": [
    "summaries = [get_summary(i) for i in urls]"
   ]
  },
  {
   "cell_type": "code",
   "execution_count": 150,
   "metadata": {},
   "outputs": [],
   "source": [
    "slugs = [re.split(\"/\", i)[-1] for i in urls]"
   ]
  },
  {
   "cell_type": "code",
   "execution_count": 306,
   "metadata": {},
   "outputs": [
    {
     "data": {
      "text/html": [
       "<div>\n",
       "<style scoped>\n",
       "    .dataframe tbody tr th:only-of-type {\n",
       "        vertical-align: middle;\n",
       "    }\n",
       "\n",
       "    .dataframe tbody tr th {\n",
       "        vertical-align: top;\n",
       "    }\n",
       "\n",
       "    .dataframe thead th {\n",
       "        text-align: right;\n",
       "    }\n",
       "</style>\n",
       "<table border=\"1\" class=\"dataframe\">\n",
       "  <thead>\n",
       "    <tr style=\"text-align: right;\">\n",
       "      <th></th>\n",
       "      <th>title</th>\n",
       "      <th>img</th>\n",
       "      <th>detail</th>\n",
       "      <th>nyrb_pub_date</th>\n",
       "      <th>slugs</th>\n",
       "    </tr>\n",
       "  </thead>\n",
       "  <tbody>\n",
       "    <tr>\n",
       "      <th>0</th>\n",
       "      <td>Journey into the Mind's Eye</td>\n",
       "      <td>cdn.shopify.com/s/files/1/0726/9203/products/J...</td>\n",
       "      <td>/collections/classics/products/journey-into-th...</td>\n",
       "      <td>2018-07-10</td>\n",
       "      <td>journey-into-the-minds-eye</td>\n",
       "    </tr>\n",
       "    <tr>\n",
       "      <th>1</th>\n",
       "      <td>Sand</td>\n",
       "      <td>cdn.shopify.com/s/files/1/0726/9203/products/S...</td>\n",
       "      <td>/collections/classics/products/sand</td>\n",
       "      <td>2018-06-12</td>\n",
       "      <td>sand</td>\n",
       "    </tr>\n",
       "    <tr>\n",
       "      <th>2</th>\n",
       "      <td>Havoc</td>\n",
       "      <td>cdn.shopify.com/s/files/1/0726/9203/products/H...</td>\n",
       "      <td>/collections/classics/products/havoc</td>\n",
       "      <td>2018-06-12</td>\n",
       "      <td>havoc</td>\n",
       "    </tr>\n",
       "    <tr>\n",
       "      <th>3</th>\n",
       "      <td>The Seventh Cross</td>\n",
       "      <td>cdn.shopify.com/s/files/1/0726/9203/products/s...</td>\n",
       "      <td>/collections/classics/products/the-seventh-cross</td>\n",
       "      <td>2018-05-22</td>\n",
       "      <td>the-seventh-cross</td>\n",
       "    </tr>\n",
       "    <tr>\n",
       "      <th>4</th>\n",
       "      <td>Compulsory Games</td>\n",
       "      <td>cdn.shopify.com/s/files/1/0726/9203/products/9...</td>\n",
       "      <td>/collections/classics/products/compulsory-games</td>\n",
       "      <td>2018-05-08</td>\n",
       "      <td>compulsory-games</td>\n",
       "    </tr>\n",
       "  </tbody>\n",
       "</table>\n",
       "</div>"
      ],
      "text/plain": [
       "                         title  \\\n",
       "0  Journey into the Mind's Eye   \n",
       "1                         Sand   \n",
       "2                        Havoc   \n",
       "3            The Seventh Cross   \n",
       "4             Compulsory Games   \n",
       "\n",
       "                                                 img  \\\n",
       "0  cdn.shopify.com/s/files/1/0726/9203/products/J...   \n",
       "1  cdn.shopify.com/s/files/1/0726/9203/products/S...   \n",
       "2  cdn.shopify.com/s/files/1/0726/9203/products/H...   \n",
       "3  cdn.shopify.com/s/files/1/0726/9203/products/s...   \n",
       "4  cdn.shopify.com/s/files/1/0726/9203/products/9...   \n",
       "\n",
       "                                              detail nyrb_pub_date  \\\n",
       "0  /collections/classics/products/journey-into-th...    2018-07-10   \n",
       "1                /collections/classics/products/sand    2018-06-12   \n",
       "2               /collections/classics/products/havoc    2018-06-12   \n",
       "3   /collections/classics/products/the-seventh-cross    2018-05-22   \n",
       "4    /collections/classics/products/compulsory-games    2018-05-08   \n",
       "\n",
       "                        slugs  \n",
       "0  journey-into-the-minds-eye  \n",
       "1                        sand  \n",
       "2                       havoc  \n",
       "3           the-seventh-cross  \n",
       "4            compulsory-games  "
      ]
     },
     "execution_count": 306,
     "metadata": {},
     "output_type": "execute_result"
    }
   ],
   "source": [
    "all_info = pd.concat([books, pd.DataFrame(slugs)], axis=1)\n",
    "all_info.head()\n",
    "imgs = all_info.iloc[:, 2:7].copy()\n",
    "imgs.columns = ['title', 'img', 'detail', 'nyrb_pub_date', 'slugs']\n",
    "imgs.head()"
   ]
  },
  {
   "cell_type": "code",
   "execution_count": 313,
   "metadata": {},
   "outputs": [
    {
     "data": {
      "text/html": [
       "<div>\n",
       "<style scoped>\n",
       "    .dataframe tbody tr th:only-of-type {\n",
       "        vertical-align: middle;\n",
       "    }\n",
       "\n",
       "    .dataframe tbody tr th {\n",
       "        vertical-align: top;\n",
       "    }\n",
       "\n",
       "    .dataframe thead th {\n",
       "        text-align: right;\n",
       "    }\n",
       "</style>\n",
       "<table border=\"1\" class=\"dataframe\">\n",
       "  <thead>\n",
       "    <tr style=\"text-align: right;\">\n",
       "      <th></th>\n",
       "      <th>title</th>\n",
       "      <th>img</th>\n",
       "      <th>detail</th>\n",
       "      <th>nyrb_pub_date</th>\n",
       "      <th>slugs</th>\n",
       "      <th>summaries</th>\n",
       "    </tr>\n",
       "  </thead>\n",
       "  <tbody>\n",
       "    <tr>\n",
       "      <th>0</th>\n",
       "      <td>Journey into the Mind's Eye</td>\n",
       "      <td>cdn.shopify.com/s/files/1/0726/9203/products/J...</td>\n",
       "      <td>/collections/classics/products/journey-into-th...</td>\n",
       "      <td>2018-07-10</td>\n",
       "      <td>journey-into-the-minds-eye</td>\n",
       "      <td>july 2018 selection for the nyrb classics book...</td>\n",
       "    </tr>\n",
       "    <tr>\n",
       "      <th>1</th>\n",
       "      <td>Sand</td>\n",
       "      <td>cdn.shopify.com/s/files/1/0726/9203/products/S...</td>\n",
       "      <td>/collections/classics/products/sand</td>\n",
       "      <td>2018-06-12</td>\n",
       "      <td>sand</td>\n",
       "      <td>an nyrb classics original                ﻿june...</td>\n",
       "    </tr>\n",
       "    <tr>\n",
       "      <th>2</th>\n",
       "      <td>Havoc</td>\n",
       "      <td>cdn.shopify.com/s/files/1/0726/9203/products/H...</td>\n",
       "      <td>/collections/classics/products/havoc</td>\n",
       "      <td>2018-06-12</td>\n",
       "      <td>havoc</td>\n",
       "      <td>ole jastrau is the very model of an enterprisi...</td>\n",
       "    </tr>\n",
       "    <tr>\n",
       "      <th>3</th>\n",
       "      <td>The Seventh Cross</td>\n",
       "      <td>cdn.shopify.com/s/files/1/0726/9203/products/s...</td>\n",
       "      <td>/collections/classics/products/the-seventh-cross</td>\n",
       "      <td>2018-05-22</td>\n",
       "      <td>the-seventh-cross</td>\n",
       "      <td>an nyrb classics original                the s...</td>\n",
       "    </tr>\n",
       "    <tr>\n",
       "      <th>4</th>\n",
       "      <td>Compulsory Games</td>\n",
       "      <td>cdn.shopify.com/s/files/1/0726/9203/products/9...</td>\n",
       "      <td>/collections/classics/products/compulsory-games</td>\n",
       "      <td>2018-05-08</td>\n",
       "      <td>compulsory-games</td>\n",
       "      <td>an nyrb classics original                may 2...</td>\n",
       "    </tr>\n",
       "  </tbody>\n",
       "</table>\n",
       "</div>"
      ],
      "text/plain": [
       "                         title  \\\n",
       "0  Journey into the Mind's Eye   \n",
       "1                         Sand   \n",
       "2                        Havoc   \n",
       "3            The Seventh Cross   \n",
       "4             Compulsory Games   \n",
       "\n",
       "                                                 img  \\\n",
       "0  cdn.shopify.com/s/files/1/0726/9203/products/J...   \n",
       "1  cdn.shopify.com/s/files/1/0726/9203/products/S...   \n",
       "2  cdn.shopify.com/s/files/1/0726/9203/products/H...   \n",
       "3  cdn.shopify.com/s/files/1/0726/9203/products/s...   \n",
       "4  cdn.shopify.com/s/files/1/0726/9203/products/9...   \n",
       "\n",
       "                                              detail nyrb_pub_date  \\\n",
       "0  /collections/classics/products/journey-into-th...    2018-07-10   \n",
       "1                /collections/classics/products/sand    2018-06-12   \n",
       "2               /collections/classics/products/havoc    2018-06-12   \n",
       "3   /collections/classics/products/the-seventh-cross    2018-05-22   \n",
       "4    /collections/classics/products/compulsory-games    2018-05-08   \n",
       "\n",
       "                        slugs  \\\n",
       "0  journey-into-the-minds-eye   \n",
       "1                        sand   \n",
       "2                       havoc   \n",
       "3           the-seventh-cross   \n",
       "4            compulsory-games   \n",
       "\n",
       "                                           summaries  \n",
       "0  july 2018 selection for the nyrb classics book...  \n",
       "1  an nyrb classics original                ﻿june...  \n",
       "2  ole jastrau is the very model of an enterprisi...  \n",
       "3  an nyrb classics original                the s...  \n",
       "4  an nyrb classics original                may 2...  "
      ]
     },
     "execution_count": 313,
     "metadata": {},
     "output_type": "execute_result"
    }
   ],
   "source": [
    "dat = pd.concat([pd.DataFrame(imgs), pd.DataFrame(summaries)], axis=1)\n",
    "dat.columns = ['title', 'img', 'detail', 'nyrb_pub_date', 'slugs', 'summaries']\n",
    "dat.head()"
   ]
  },
  {
   "cell_type": "code",
   "execution_count": 152,
   "metadata": {},
   "outputs": [],
   "source": [
    "# search through summaries to find which ones are noir"
   ]
  },
  {
   "cell_type": "code",
   "execution_count": 320,
   "metadata": {},
   "outputs": [],
   "source": [
    "def search_words(word):\n",
    "    stack = []\n",
    "    \n",
    "    # search through summary for word - create working list of titles\n",
    "    for i in range(0, len(dat)):\n",
    "        if re.search(r'\\b{}\\b'.format(word), dat.summaries[i]):     # find way to search multiple words; optimize for regex\n",
    "            stack.append(dat.slugs[i])\n",
    "    \n",
    "    # convert list to dataframe\n",
    "    match = pd.DataFrame(stack)\n",
    "    match.columns = ['slugs']\n",
    "    \n",
    "    # subset larger dataset by collected matches - return only image url and title (slug)\n",
    "    return pd.merge(dat, match, how='inner', on='slugs')[['img','slugs']]"
   ]
  },
  {
   "cell_type": "code",
   "execution_count": 323,
   "metadata": {},
   "outputs": [
    {
     "data": {
      "text/html": [
       "<div>\n",
       "<style scoped>\n",
       "    .dataframe tbody tr th:only-of-type {\n",
       "        vertical-align: middle;\n",
       "    }\n",
       "\n",
       "    .dataframe tbody tr th {\n",
       "        vertical-align: top;\n",
       "    }\n",
       "\n",
       "    .dataframe thead th {\n",
       "        text-align: right;\n",
       "    }\n",
       "</style>\n",
       "<table border=\"1\" class=\"dataframe\">\n",
       "  <thead>\n",
       "    <tr style=\"text-align: right;\">\n",
       "      <th></th>\n",
       "      <th>img</th>\n",
       "      <th>slugs</th>\n",
       "    </tr>\n",
       "  </thead>\n",
       "  <tbody>\n",
       "    <tr>\n",
       "      <th>0</th>\n",
       "      <td>cdn.shopify.com/s/files/1/0726/9203/products/h...</td>\n",
       "      <td>in-a-lonely-place</td>\n",
       "    </tr>\n",
       "    <tr>\n",
       "      <th>1</th>\n",
       "      <td>cdn.shopify.com/s/files/1/0726/9203/products/p...</td>\n",
       "      <td>the-expendable-man</td>\n",
       "    </tr>\n",
       "    <tr>\n",
       "      <th>2</th>\n",
       "      <td>cdn.shopify.com/s/files/1/0726/9203/products/T...</td>\n",
       "      <td>the-big-clock</td>\n",
       "    </tr>\n",
       "    <tr>\n",
       "      <th>3</th>\n",
       "      <td>cdn.shopify.com/s/files/1/0726/9203/products/S...</td>\n",
       "      <td>short-letter-long-farewell</td>\n",
       "    </tr>\n",
       "    <tr>\n",
       "      <th>4</th>\n",
       "      <td>cdn.shopify.com/s/files/1/0726/9203/products/C...</td>\n",
       "      <td>clark-giffords-body</td>\n",
       "    </tr>\n",
       "  </tbody>\n",
       "</table>\n",
       "</div>"
      ],
      "text/plain": [
       "                                                 img  \\\n",
       "0  cdn.shopify.com/s/files/1/0726/9203/products/h...   \n",
       "1  cdn.shopify.com/s/files/1/0726/9203/products/p...   \n",
       "2  cdn.shopify.com/s/files/1/0726/9203/products/T...   \n",
       "3  cdn.shopify.com/s/files/1/0726/9203/products/S...   \n",
       "4  cdn.shopify.com/s/files/1/0726/9203/products/C...   \n",
       "\n",
       "                        slugs  \n",
       "0           in-a-lonely-place  \n",
       "1          the-expendable-man  \n",
       "2               the-big-clock  \n",
       "3  short-letter-long-farewell  \n",
       "4         clark-giffords-body  "
      ]
     },
     "execution_count": 323,
     "metadata": {},
     "output_type": "execute_result"
    }
   ],
   "source": []
  },
  {
   "cell_type": "code",
   "execution_count": 322,
   "metadata": {},
   "outputs": [
    {
     "data": {
      "text/plain": [
       "['in-a-lonely-place',\n",
       " 'the-expendable-man',\n",
       " 'the-big-clock',\n",
       " 'short-letter-long-farewell',\n",
       " 'clark-giffords-body']"
      ]
     },
     "execution_count": 322,
     "metadata": {},
     "output_type": "execute_result"
    }
   ],
   "source": [
    "search_words2(\"noir\")"
   ]
  },
  {
   "cell_type": "code",
   "execution_count": 314,
   "metadata": {},
   "outputs": [
    {
     "data": {
      "text/plain": [
       "['schlump',\n",
       " 'the-end-of-the-hunt',\n",
       " 'grand-hotel',\n",
       " 'the-world-as-i-found-it',\n",
       " 'the-unrest-cure-and-other-stories',\n",
       " 'the-snows-of-yesteryear',\n",
       " 'the-post-office-girl',\n",
       " 'the-fox-in-the-attic',\n",
       " 'soul-of-wood',\n",
       " 'my-century',\n",
       " 'moravagine',\n",
       " 'the-ermine-of-czernopol',\n",
       " 'schoolboys-diary-and-other-stories',\n",
       " 'a_legacy']"
      ]
     },
     "execution_count": 314,
     "metadata": {},
     "output_type": "execute_result"
    }
   ],
   "source": [
    "search_words(\"world war i\")"
   ]
  },
  {
   "cell_type": "code",
   "execution_count": 233,
   "metadata": {},
   "outputs": [
    {
     "data": {
      "text/plain": [
       "['the-communist-1', 'the-moro-affair', 'kaputt', 'a_family_lexicon']"
      ]
     },
     "execution_count": 233,
     "metadata": {},
     "output_type": "execute_result"
    }
   ],
   "source": [
    "search_words(\"mussolini\")"
   ]
  },
  {
   "cell_type": "code",
   "execution_count": 241,
   "metadata": {},
   "outputs": [
    {
     "data": {
      "text/plain": [
       "['a-visit-to-don-otavio',\n",
       " 'unforgiving-years',\n",
       " 'memoirs-of-a-revolutionary',\n",
       " 'journey-into-the-past']"
      ]
     },
     "execution_count": 241,
     "metadata": {},
     "output_type": "execute_result"
    }
   ],
   "source": [
    "search_words(\"mexico\")"
   ]
  },
  {
   "cell_type": "code",
   "execution_count": 184,
   "metadata": {},
   "outputs": [
    {
     "data": {
      "text/plain": [
       "['the-seventh-cross',\n",
       " 'all-for-nothing',\n",
       " 'the-farm-in-the-green-mountains',\n",
       " 'when-the-world-spoke-french',\n",
       " 'unforgiving-years',\n",
       " 'transit',\n",
       " 'the-wooden-shepherdess',\n",
       " 'the-goshawk',\n",
       " 'soul-of-wood',\n",
       " 'life-and-fate',\n",
       " 'journey-into-the-past',\n",
       " 'irretrievable',\n",
       " 'going-to-the-dogs',\n",
       " 'diary-of-a-man-in-despair',\n",
       " 'a_legacy']"
      ]
     },
     "execution_count": 184,
     "metadata": {},
     "output_type": "execute_result"
    }
   ],
   "source": [
    "germany = search_words(\"germany\")\n",
    "germany"
   ]
  },
  {
   "cell_type": "code",
   "execution_count": 187,
   "metadata": {},
   "outputs": [
    {
     "data": {
      "text/plain": [
       "['ivory-pearl',\n",
       " 'nothing',\n",
       " 'schlump',\n",
       " 'izas-ballad',\n",
       " 'the-end-of-the-hunt',\n",
       " 'grand-hotel',\n",
       " 'paris-vagabond',\n",
       " 'more-was-lost',\n",
       " 'houses',\n",
       " 'war-and-the-iliad',\n",
       " 'the-world-as-i-found-it',\n",
       " 'the-use-of-man',\n",
       " 'the-unrest-cure-and-other-stories',\n",
       " 'the-three-christs-of-ypsilanti',\n",
       " 'the-snows-of-yesteryear',\n",
       " 'the-slaves-of-solitude',\n",
       " 'the-singapore-grip',\n",
       " 'the-siege-of-krishnapur',\n",
       " 'the-selected-works-of-cesare-pavese',\n",
       " 'the_prince_of_minor_writers_the_selected_essays_of_max_beerbohm',\n",
       " 'the-post-office-girl',\n",
       " 'the_little_town_where_time_stood_still',\n",
       " 'the-gallery',\n",
       " 'the-fox-in-the-attic',\n",
       " 'the-complete-fiction',\n",
       " 'the-book-of-ebenezer-le-page',\n",
       " 'soul-of-wood',\n",
       " 'school-for-love',\n",
       " 'pedigree',\n",
       " 'niki',\n",
       " 'names-on-the-land',\n",
       " 'my-century',\n",
       " 'moravagine',\n",
       " 'life-and-fate',\n",
       " 'kaputt',\n",
       " 'boredom',\n",
       " 'the-ermine-of-czernopol',\n",
       " 'a-time-to-keep-silence',\n",
       " 'schoolboys-diary-and-other-stories',\n",
       " 'a_legacy']"
      ]
     },
     "execution_count": 187,
     "metadata": {},
     "output_type": "execute_result"
    }
   ],
   "source": [
    "search_words(\"world war i\")"
   ]
  },
  {
   "cell_type": "code",
   "execution_count": 250,
   "metadata": {},
   "outputs": [
    {
     "data": {
      "text/plain": [
       "['havoc',\n",
       " 'the-kremlin-ball',\n",
       " 'the-communist-1',\n",
       " 'izas-ballad',\n",
       " 'houses',\n",
       " 'a-memoir-of-the-warsaw-uprising',\n",
       " 'the-book-of-blam',\n",
       " 'unforgiving-years',\n",
       " 'the_little_town_where_time_stood_still',\n",
       " 'the-door',\n",
       " 'peking-story',\n",
       " 'niki',\n",
       " 'memories-of-the-future',\n",
       " 'letters-from-russia',\n",
       " 'ice-trilogy']"
      ]
     },
     "execution_count": 250,
     "metadata": {},
     "output_type": "execute_result"
    }
   ],
   "source": [
    "search_words(\"communism|communist\")"
   ]
  },
  {
   "cell_type": "code",
   "execution_count": 255,
   "metadata": {},
   "outputs": [
    {
     "data": {
      "text/plain": [
       "['kolyma-stories',\n",
       " 'the-kremlin-ball',\n",
       " 'earthly-signs',\n",
       " 'katalin-street',\n",
       " 'a-memoir-of-the-warsaw-uprising',\n",
       " 'the-queue',\n",
       " 'the-letter-killers-club',\n",
       " 'the-case-of-comrade-tulayev',\n",
       " 'soul',\n",
       " 'my-century',\n",
       " 'moura',\n",
       " 'memories-of-the-future',\n",
       " 'memoirs-of-a-revolutionary',\n",
       " 'life-and-fate',\n",
       " 'happy-moscow',\n",
       " 'everything-flows',\n",
       " 'envy',\n",
       " 'an-armenian-sketchbook']"
      ]
     },
     "execution_count": 255,
     "metadata": {},
     "output_type": "execute_result"
    }
   ],
   "source": [
    "search_words(\"soviet\")"
   ]
  },
  {
   "cell_type": "code",
   "execution_count": 298,
   "metadata": {},
   "outputs": [],
   "source": [
    "ok = pd.DataFrame(search_words(\"soviet\"))\n",
    "ok.columns = ['slugs']\n",
    "ha = pd.merge(nice, ok, how='inner', on='slugs')"
   ]
  },
  {
   "cell_type": "code",
   "execution_count": 300,
   "metadata": {},
   "outputs": [
    {
     "data": {
      "text/plain": [
       "'cdn.shopify.com/s/files/1/0726/9203/products/7_-_Kolyma_Stories_large.jpg?v=1504042742'"
      ]
     },
     "execution_count": 300,
     "metadata": {},
     "output_type": "execute_result"
    }
   ],
   "source": [
    "ha.iloc[0, 1]"
   ]
  },
  {
   "cell_type": "markdown",
   "metadata": {},
   "source": [
    "words \n",
    "- world war i/ii -- mussolini, etc\n",
    "- france/germany/etc \n",
    "- feminist/woman/women \n",
    "- prison/crime\n",
    "- colonialism/colonial/colony\n",
    "- love/sex\n",
    "- europe/asia/south america/etc\n",
    "- philosophers/philosophy/religion\n"
   ]
  },
  {
   "cell_type": "code",
   "execution_count": 169,
   "metadata": {},
   "outputs": [
    {
     "data": {
      "text/plain": [
       "[]"
      ]
     },
     "execution_count": 169,
     "metadata": {},
     "output_type": "execute_result"
    }
   ],
   "source": [
    "search_words(r\"\\bworld war i\\b\")"
   ]
  },
  {
   "cell_type": "code",
   "execution_count": 193,
   "metadata": {},
   "outputs": [],
   "source": [
    "re.search(\"\\bin\\b\", \"things in\")"
   ]
  },
  {
   "cell_type": "code",
   "execution_count": 190,
   "metadata": {},
   "outputs": [
    {
     "data": {
      "text/plain": [
       "2"
      ]
     },
     "execution_count": 190,
     "metadata": {},
     "output_type": "execute_result"
    }
   ],
   "source": [
    "\"things\".find(\"in\")"
   ]
  },
  {
   "cell_type": "code",
   "execution_count": 211,
   "metadata": {},
   "outputs": [
    {
     "name": "stdout",
     "output_type": "stream",
     "text": [
      "yes\n"
     ]
    }
   ],
   "source": [
    "if re.search(r\"\\b{}\\b\".format(\"world war ii\"), \"world war ii and world war i\"):\n",
    "    print(\"yes\")"
   ]
  },
  {
   "cell_type": "code",
   "execution_count": null,
   "metadata": {},
   "outputs": [],
   "source": []
  }
 ],
 "metadata": {
  "kernelspec": {
   "display_name": "Python 3",
   "language": "python",
   "name": "python3"
  },
  "language_info": {
   "codemirror_mode": {
    "name": "ipython",
    "version": 3
   },
   "file_extension": ".py",
   "mimetype": "text/x-python",
   "name": "python",
   "nbconvert_exporter": "python",
   "pygments_lexer": "ipython3",
   "version": "3.6.5"
  }
 },
 "nbformat": 4,
 "nbformat_minor": 2
}
